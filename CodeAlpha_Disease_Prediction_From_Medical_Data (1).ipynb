{
 "cells": [
  {
   "cell_type": "code",
   "execution_count": 114,
   "id": "0e4a798d-f578-421a-b79e-ffa652c89fa9",
   "metadata": {},
   "outputs": [],
   "source": [
    "import numpy as np\n",
    "import pandas as pd\n",
    "import joblib\n",
    "import matplotlib.pyplot as plt\n",
    "from sklearn.preprocessing import OneHotEncoder, LabelEncoder, MinMaxScaler\n",
    "from sklearn.model_selection import train_test_split, GridSearchCV\n",
    "from sklearn.linear_model import LogisticRegression\n",
    "from sklearn.tree import DecisionTreeClassifier\n",
    "from sklearn.neighbors import KNeighborsClassifier\n",
    "from sklearn.metrics import accuracy_score, confusion_matrix, precision_score, recall_score, f1_score, roc_auc_score, roc_curve, classification_report\n",
    "from keras.models import Sequential\n",
    "from keras.layers import Dense\n",
    "import plotly.express as px"
   ]
  },
  {
   "cell_type": "code",
   "execution_count": 115,
   "id": "9b4716f9-c9a3-4be7-ad58-021311c0e04a",
   "metadata": {},
   "outputs": [
    {
     "data": {
      "text/html": [
       "<div>\n",
       "<style scoped>\n",
       "    .dataframe tbody tr th:only-of-type {\n",
       "        vertical-align: middle;\n",
       "    }\n",
       "\n",
       "    .dataframe tbody tr th {\n",
       "        vertical-align: top;\n",
       "    }\n",
       "\n",
       "    .dataframe thead th {\n",
       "        text-align: right;\n",
       "    }\n",
       "</style>\n",
       "<table border=\"1\" class=\"dataframe\">\n",
       "  <thead>\n",
       "    <tr style=\"text-align: right;\">\n",
       "      <th></th>\n",
       "      <th>Disease</th>\n",
       "      <th>Fever</th>\n",
       "      <th>Cough</th>\n",
       "      <th>Fatigue</th>\n",
       "      <th>Difficulty Breathing</th>\n",
       "      <th>Age</th>\n",
       "      <th>Gender</th>\n",
       "      <th>Blood Pressure</th>\n",
       "      <th>Cholesterol Level</th>\n",
       "      <th>Outcome Variable</th>\n",
       "    </tr>\n",
       "  </thead>\n",
       "  <tbody>\n",
       "    <tr>\n",
       "      <th>0</th>\n",
       "      <td>Influenza</td>\n",
       "      <td>Yes</td>\n",
       "      <td>No</td>\n",
       "      <td>Yes</td>\n",
       "      <td>Yes</td>\n",
       "      <td>19.0</td>\n",
       "      <td>Female</td>\n",
       "      <td>Low</td>\n",
       "      <td>Normal</td>\n",
       "      <td>Positive</td>\n",
       "    </tr>\n",
       "    <tr>\n",
       "      <th>1</th>\n",
       "      <td>Common Cold</td>\n",
       "      <td>No</td>\n",
       "      <td>Yes</td>\n",
       "      <td>Yes</td>\n",
       "      <td>No</td>\n",
       "      <td>25.0</td>\n",
       "      <td>Female</td>\n",
       "      <td>Normal</td>\n",
       "      <td>Normal</td>\n",
       "      <td>Negative</td>\n",
       "    </tr>\n",
       "    <tr>\n",
       "      <th>2</th>\n",
       "      <td>Eczema</td>\n",
       "      <td>No</td>\n",
       "      <td>Yes</td>\n",
       "      <td>Yes</td>\n",
       "      <td>No</td>\n",
       "      <td>25.0</td>\n",
       "      <td>Female</td>\n",
       "      <td>Normal</td>\n",
       "      <td>Normal</td>\n",
       "      <td>Negative</td>\n",
       "    </tr>\n",
       "    <tr>\n",
       "      <th>3</th>\n",
       "      <td>Asthma</td>\n",
       "      <td>Yes</td>\n",
       "      <td>Yes</td>\n",
       "      <td>No</td>\n",
       "      <td>Yes</td>\n",
       "      <td>25.0</td>\n",
       "      <td>Male</td>\n",
       "      <td>Normal</td>\n",
       "      <td>Normal</td>\n",
       "      <td>Positive</td>\n",
       "    </tr>\n",
       "    <tr>\n",
       "      <th>4</th>\n",
       "      <td>Asthma</td>\n",
       "      <td>Yes</td>\n",
       "      <td>Yes</td>\n",
       "      <td>No</td>\n",
       "      <td>Yes</td>\n",
       "      <td>25.0</td>\n",
       "      <td>Male</td>\n",
       "      <td>Normal</td>\n",
       "      <td>Normal</td>\n",
       "      <td>Positive</td>\n",
       "    </tr>\n",
       "    <tr>\n",
       "      <th>...</th>\n",
       "      <td>...</td>\n",
       "      <td>...</td>\n",
       "      <td>...</td>\n",
       "      <td>...</td>\n",
       "      <td>...</td>\n",
       "      <td>...</td>\n",
       "      <td>...</td>\n",
       "      <td>...</td>\n",
       "      <td>...</td>\n",
       "      <td>...</td>\n",
       "    </tr>\n",
       "    <tr>\n",
       "      <th>344</th>\n",
       "      <td>Stroke</td>\n",
       "      <td>Yes</td>\n",
       "      <td>No</td>\n",
       "      <td>Yes</td>\n",
       "      <td>No</td>\n",
       "      <td>80.0</td>\n",
       "      <td>Female</td>\n",
       "      <td>High</td>\n",
       "      <td>High</td>\n",
       "      <td>Positive</td>\n",
       "    </tr>\n",
       "    <tr>\n",
       "      <th>345</th>\n",
       "      <td>Stroke</td>\n",
       "      <td>Yes</td>\n",
       "      <td>No</td>\n",
       "      <td>Yes</td>\n",
       "      <td>No</td>\n",
       "      <td>85.0</td>\n",
       "      <td>Male</td>\n",
       "      <td>High</td>\n",
       "      <td>High</td>\n",
       "      <td>Positive</td>\n",
       "    </tr>\n",
       "    <tr>\n",
       "      <th>346</th>\n",
       "      <td>Stroke</td>\n",
       "      <td>Yes</td>\n",
       "      <td>No</td>\n",
       "      <td>Yes</td>\n",
       "      <td>No</td>\n",
       "      <td>85.0</td>\n",
       "      <td>Male</td>\n",
       "      <td>High</td>\n",
       "      <td>High</td>\n",
       "      <td>Positive</td>\n",
       "    </tr>\n",
       "    <tr>\n",
       "      <th>347</th>\n",
       "      <td>Stroke</td>\n",
       "      <td>Yes</td>\n",
       "      <td>No</td>\n",
       "      <td>Yes</td>\n",
       "      <td>No</td>\n",
       "      <td>90.0</td>\n",
       "      <td>Female</td>\n",
       "      <td>High</td>\n",
       "      <td>High</td>\n",
       "      <td>Positive</td>\n",
       "    </tr>\n",
       "    <tr>\n",
       "      <th>348</th>\n",
       "      <td>Stroke</td>\n",
       "      <td>Yes</td>\n",
       "      <td>No</td>\n",
       "      <td>Yes</td>\n",
       "      <td>No</td>\n",
       "      <td>90.0</td>\n",
       "      <td>Female</td>\n",
       "      <td>High</td>\n",
       "      <td>High</td>\n",
       "      <td>Positive</td>\n",
       "    </tr>\n",
       "  </tbody>\n",
       "</table>\n",
       "<p>349 rows × 10 columns</p>\n",
       "</div>"
      ],
      "text/plain": [
       "         Disease Fever Cough Fatigue Difficulty Breathing   Age  Gender  \\\n",
       "0      Influenza   Yes    No     Yes                  Yes  19.0  Female   \n",
       "1    Common Cold    No   Yes     Yes                   No  25.0  Female   \n",
       "2         Eczema    No   Yes     Yes                   No  25.0  Female   \n",
       "3         Asthma   Yes   Yes      No                  Yes  25.0    Male   \n",
       "4         Asthma   Yes   Yes      No                  Yes  25.0    Male   \n",
       "..           ...   ...   ...     ...                  ...   ...     ...   \n",
       "344       Stroke   Yes    No     Yes                   No  80.0  Female   \n",
       "345       Stroke   Yes    No     Yes                   No  85.0    Male   \n",
       "346       Stroke   Yes    No     Yes                   No  85.0    Male   \n",
       "347       Stroke   Yes    No     Yes                   No  90.0  Female   \n",
       "348       Stroke   Yes    No     Yes                   No  90.0  Female   \n",
       "\n",
       "    Blood Pressure Cholesterol Level Outcome Variable  \n",
       "0              Low            Normal         Positive  \n",
       "1           Normal            Normal         Negative  \n",
       "2           Normal            Normal         Negative  \n",
       "3           Normal            Normal         Positive  \n",
       "4           Normal            Normal         Positive  \n",
       "..             ...               ...              ...  \n",
       "344           High              High         Positive  \n",
       "345           High              High         Positive  \n",
       "346           High              High         Positive  \n",
       "347           High              High         Positive  \n",
       "348           High              High         Positive  \n",
       "\n",
       "[349 rows x 10 columns]"
      ]
     },
     "execution_count": 115,
     "metadata": {},
     "output_type": "execute_result"
    }
   ],
   "source": [
    "df = pd.read_csv(r\"C:\\Users\\goura\\OneDrive\\Documents\\Disease_Prediction_Datasets\\Disease_symptom_and_patient_profile_dataset.csv\")\n",
    "df"
   ]
  },
  {
   "cell_type": "markdown",
   "id": "75e8598d-71c9-4467-9ca4-7ab9512de6e3",
   "metadata": {},
   "source": [
    "# Data Cleaning"
   ]
  },
  {
   "cell_type": "code",
   "execution_count": 116,
   "id": "63a58356-a5d8-4f03-a91f-53c225bbbc57",
   "metadata": {},
   "outputs": [],
   "source": [
    "df['Age'] = df['Age'].fillna(df['Age'].mean())\n",
    "df = df.drop_duplicates()\n",
    "df = df.rename(columns={'Outcome Variable': 'Results'})"
   ]
  },
  {
   "cell_type": "markdown",
   "id": "fa9ccf59-5b6c-4a02-8548-aee133ad3828",
   "metadata": {},
   "source": [
    "# Exploratory Data Analysis (EDA)"
   ]
  },
  {
   "cell_type": "markdown",
   "id": "4fdf068c-42ef-4e7d-9986-f2f0baabf0e3",
   "metadata": {},
   "source": [
    "### Pie Chart for the Results, for patients whose Age < 45"
   ]
  },
  {
   "cell_type": "code",
   "execution_count": 117,
   "id": "e95e3b63-14f7-460c-ae3f-0dd3434eff00",
   "metadata": {},
   "outputs": [
    {
     "data": {
      "text/plain": [
       "<Axes: ylabel='count'>"
      ]
     },
     "execution_count": 117,
     "metadata": {},
     "output_type": "execute_result"
    },
    {
     "data": {
      "image/png": "[encoded data removed]",
      "text/plain": [
       "<Figure size 640x480 with 1 Axes>"
      ]
     },
     "metadata": {},
     "output_type": "display_data"
    }
   ],
   "source": [
    "df[df.loc[:,'Age'] < 45]['Results'].value_counts().plot(kind='pie')"
   ]
  },
  {
   "cell_type": "markdown",
   "id": "d48fe492-5fa6-4bcd-964b-d7f21fa7bd9e",
   "metadata": {},
   "source": [
    "### Pie chart for the Results, for patients whose Age > 45"
   ]
  },
  {
   "cell_type": "code",
   "execution_count": 118,
   "id": "936cf6c8-e81f-403a-b81f-530f71b47003",
   "metadata": {},
   "outputs": [
    {
     "data": {
      "text/plain": [
       "<Axes: ylabel='count'>"
      ]
     },
     "execution_count": 118,
     "metadata": {},
     "output_type": "execute_result"
    },
    {
     "data": {
      "image/png": "[encoded data removed]",
      "text/plain": [
       "<Figure size 640x480 with 1 Axes>"
      ]
     },
     "metadata": {},
     "output_type": "display_data"
    }
   ],
   "source": [
    "df[df.loc[:,'Age'] > 45]['Results'].value_counts().plot(kind='pie')"
   ]
  },
  {
   "cell_type": "code",
   "execution_count": 119,
   "id": "23e9330d-8914-4d02-875d-70214c1d13ae",
   "metadata": {},
   "outputs": [
    {
     "data": {
      "application/vnd.plotly.v1+json": {
       "config": {
        "plotlyServerURL": "https://plot.ly"
       },
       "data": [
        {
         "alignmentgroup": "True",
         "bingroup": "x",
         "hovertemplate": "Disease=Influenza<br>Age=%{x}<br>count=%{y}<extra></extra>",
         "legendgroup": "Influenza",
         "marker": {
          "color": "#636efa",
          "pattern": {
           "shape": ""
          }
         },
         "name": "Influenza",
         "offsetgroup": "Influenza",
         "orientation": "v",
         "showlegend": true,
         "type": "histogram",
         "x": [
          19,
          25,
          30,
          30,
          38,
          42,
          56
         ],
         "xaxis": "x",
         "yaxis": "y"
        },
        {
         "alignmentgroup": "True",
         "bingroup": "x",
         "hovertemplate": "Disease=Common Cold<br>Age=%{x}<br>count=%{y}<extra></extra>",
         "legendgroup": "Common Cold",
         "marker": {
          "color": "#EF553B",
          "pattern": {
           "shape": ""
          }
         },
         "name": "Common Cold",
         "offsetgroup": "Common Cold",
         "orientation": "v",
         "showlegend": true,
         "type": "histogram",
         "x": [
          25,
          29,
          31,
          35,
          42,
          55
         ],
         "xaxis": "x",
         "yaxis": "y"
        },
        {
         "alignmentgroup": "True",
         "bingroup": "x",
         "hovertemplate": "Disease=Eczema<br>Age=%{x}<br>count=%{y}<extra></extra>",
         "legendgroup": "Eczema",
         "marker": {
          "color": "#00cc96",
          "pattern": {
           "shape": ""
          }
         },
         "name": "Eczema",
         "offsetgroup": "Eczema",
         "orientation": "v",
         "showlegend": true,
         "type": "histogram",
         "x": [
          25,
          46.331412103746395,
          30,
          30,
          35,
          50
         ],
         "xaxis": "x",
         "yaxis": "y"
        },
        {
         "alignmentgroup": "True",
         "bingroup": "x",
         "hovertemplate": "Disease=Asthma<br>Age=%{x}<br>count=%{y}<extra></extra>",
         "legendgroup": "Asthma",
         "marker": {
          "color": "#ab63fa",
          "pattern": {
           "shape": ""
          }
         },
         "name": "Asthma",
         "offsetgroup": "Asthma",
         "orientation": "v",
         "showlegend": true,
         "type": "histogram",
         "x": [
          25,
          28,
          30,
          30,
          31,
          35,
          35,
          35,
          35,
          40,
          40,
          40,
          40,
          45,
          50,
          60
         ],
         "xaxis": "x",
         "yaxis": "y"
        },
        {
         "alignmentgroup": "True",
         "bingroup": "x",
         "hovertemplate": "Disease=Hyperthyroidism<br>Age=%{x}<br>count=%{y}<extra></extra>",
         "legendgroup": "Hyperthyroidism",
         "marker": {
          "color": "#FFA15A",
          "pattern": {
           "shape": ""
          }
         },
         "name": "Hyperthyroidism",
         "offsetgroup": "Hyperthyroidism",
         "orientation": "v",
         "showlegend": true,
         "type": "histogram",
         "x": [
          28,
          35,
          35,
          40,
          60
         ],
         "xaxis": "x",
         "yaxis": "y"
        },
        {
         "alignmentgroup": "True",
         "bingroup": "x",
         "hovertemplate": "Disease=Allergic Rhinitis<br>Age=%{x}<br>count=%{y}<extra></extra>",
         "legendgroup": "Allergic Rhinitis",
         "marker": {
          "color": "#19d3f3",
          "pattern": {
           "shape": ""
          }
         },
         "name": "Allergic Rhinitis",
         "offsetgroup": "Allergic Rhinitis",
         "orientation": "v",
         "showlegend": true,
         "type": "histogram",
         "x": [
          29,
          35,
          38,
          45,
          45,
          50
         ],
         "xaxis": "x",
         "yaxis": "y"
        },
        {
         "alignmentgroup": "True",
         "bingroup": "x",
         "hovertemplate": "Disease=Anxiety Disorders<br>Age=%{x}<br>count=%{y}<extra></extra>",
         "legendgroup": "Anxiety Disorders",
         "marker": {
          "color": "#FF6692",
          "pattern": {
           "shape": ""
          }
         },
         "name": "Anxiety Disorders",
         "offsetgroup": "Anxiety Disorders",
         "orientation": "v",
         "showlegend": true,
         "type": "histogram",
         "x": [
          29,
          38,
          42,
          45,
          50,
          55
         ],
         "xaxis": "x",
         "yaxis": "y"
        },
        {
         "alignmentgroup": "True",
         "bingroup": "x",
         "hovertemplate": "Disease=Diabetes<br>Age=%{x}<br>count=%{y}<extra></extra>",
         "legendgroup": "Diabetes",
         "marker": {
          "color": "#B6E880",
          "pattern": {
           "shape": ""
          }
         },
         "name": "Diabetes",
         "offsetgroup": "Diabetes",
         "orientation": "v",
         "showlegend": true,
         "type": "histogram",
         "x": [
          29,
          38,
          40,
          42,
          45,
          45,
          50,
          55,
          65,
          65
         ],
         "xaxis": "x",
         "yaxis": "y"
        },
        {
         "alignmentgroup": "True",
         "bingroup": "x",
         "hovertemplate": "Disease=Gastroenteritis<br>Age=%{x}<br>count=%{y}<extra></extra>",
         "legendgroup": "Gastroenteritis",
         "marker": {
          "color": "#FF97FF",
          "pattern": {
           "shape": ""
          }
         },
         "name": "Gastroenteritis",
         "offsetgroup": "Gastroenteritis",
         "orientation": "v",
         "showlegend": true,
         "type": "histogram",
         "x": [
          29,
          30,
          35,
          38,
          40,
          50
         ],
         "xaxis": "x",
         "yaxis": "y"
        },
        {
         "alignmentgroup": "True",
         "bingroup": "x",
         "hovertemplate": "Disease=Pancreatitis<br>Age=%{x}<br>count=%{y}<extra></extra>",
         "legendgroup": "Pancreatitis",
         "marker": {
          "color": "#FECB52",
          "pattern": {
           "shape": ""
          }
         },
         "name": "Pancreatitis",
         "offsetgroup": "Pancreatitis",
         "orientation": "v",
         "showlegend": true,
         "type": "histogram",
         "x": [
          29,
          35,
          45,
          50,
          60
         ],
         "xaxis": "x",
         "yaxis": "y"
        },
        {
         "alignmentgroup": "True",
         "bingroup": "x",
         "hovertemplate": "Disease=Rheumatoid Arthritis<br>Age=%{x}<br>count=%{y}<extra></extra>",
         "legendgroup": "Rheumatoid Arthritis",
         "marker": {
          "color": "#636efa",
          "pattern": {
           "shape": ""
          }
         },
         "name": "Rheumatoid Arthritis",
         "offsetgroup": "Rheumatoid Arthritis",
         "orientation": "v",
         "showlegend": true,
         "type": "histogram",
         "x": [
          29,
          35,
          35,
          45,
          50,
          60
         ],
         "xaxis": "x",
         "yaxis": "y"
        },
        {
         "alignmentgroup": "True",
         "bingroup": "x",
         "hovertemplate": "Disease=Depression<br>Age=%{x}<br>count=%{y}<extra></extra>",
         "legendgroup": "Depression",
         "marker": {
          "color": "#EF553B",
          "pattern": {
           "shape": ""
          }
         },
         "name": "Depression",
         "offsetgroup": "Depression",
         "orientation": "v",
         "showlegend": true,
         "type": "histogram",
         "x": [
          29,
          35,
          38,
          42,
          45,
          50
         ],
         "xaxis": "x",
         "yaxis": "y"
        },
        {
         "alignmentgroup": "True",
         "bingroup": "x",
         "hovertemplate": "Disease=Liver Cancer<br>Age=%{x}<br>count=%{y}<extra></extra>",
         "legendgroup": "Liver Cancer",
         "marker": {
          "color": "#00cc96",
          "pattern": {
           "shape": ""
          }
         },
         "name": "Liver Cancer",
         "offsetgroup": "Liver Cancer",
         "orientation": "v",
         "showlegend": true,
         "type": "histogram",
         "x": [
          29,
          35,
          38,
          42,
          50,
          46.331412103746395
         ],
         "xaxis": "x",
         "yaxis": "y"
        },
        {
         "alignmentgroup": "True",
         "bingroup": "x",
         "hovertemplate": "Disease=Stroke<br>Age=%{x}<br>count=%{y}<extra></extra>",
         "legendgroup": "Stroke",
         "marker": {
          "color": "#ab63fa",
          "pattern": {
           "shape": ""
          }
         },
         "name": "Stroke",
         "offsetgroup": "Stroke",
         "orientation": "v",
         "showlegend": true,
         "type": "histogram",
         "x": [
          29,
          38,
          42,
          45,
          50,
          65,
          65,
          70,
          80,
          85,
          90
         ],
         "xaxis": "x",
         "yaxis": "y"
        },
        {
         "alignmentgroup": "True",
         "bingroup": "x",
         "hovertemplate": "Disease=Urinary Tract Infection<br>Age=%{x}<br>count=%{y}<extra></extra>",
         "legendgroup": "Urinary Tract Infection",
         "marker": {
          "color": "#FFA15A",
          "pattern": {
           "shape": ""
          }
         },
         "name": "Urinary Tract Infection",
         "offsetgroup": "Urinary Tract Infection",
         "orientation": "v",
         "showlegend": true,
         "type": "histogram",
         "x": [
          29,
          35,
          42,
          45,
          50
         ],
         "xaxis": "x",
         "yaxis": "y"
        },
        {
         "alignmentgroup": "True",
         "bingroup": "x",
         "hovertemplate": "Disease=Dengue Fever<br>Age=%{x}<br>count=%{y}<extra></extra>",
         "legendgroup": "Dengue Fever",
         "marker": {
          "color": "#19d3f3",
          "pattern": {
           "shape": ""
          }
         },
         "name": "Dengue Fever",
         "offsetgroup": "Dengue Fever",
         "orientation": "v",
         "showlegend": true,
         "type": "histogram",
         "x": [
          30
         ],
         "xaxis": "x",
         "yaxis": "y"
        },
        {
         "alignmentgroup": "True",
         "bingroup": "x",
         "hovertemplate": "Disease=Hepatitis<br>Age=%{x}<br>count=%{y}<extra></extra>",
         "legendgroup": "Hepatitis",
         "marker": {
          "color": "#FF6692",
          "pattern": {
           "shape": ""
          }
         },
         "name": "Hepatitis",
         "offsetgroup": "Hepatitis",
         "orientation": "v",
         "showlegend": true,
         "type": "histogram",
         "x": [
          30,
          45
         ],
         "xaxis": "x",
         "yaxis": "y"
        },
        {
         "alignmentgroup": "True",
         "bingroup": "x",
         "hovertemplate": "Disease=Kidney Cancer<br>Age=%{x}<br>count=%{y}<extra></extra>",
         "legendgroup": "Kidney Cancer",
         "marker": {
          "color": "#B6E880",
          "pattern": {
           "shape": ""
          }
         },
         "name": "Kidney Cancer",
         "offsetgroup": "Kidney Cancer",
         "orientation": "v",
         "showlegend": true,
         "type": "histogram",
         "x": [
          30,
          35,
          42,
          45,
          50,
          60
         ],
         "xaxis": "x",
         "yaxis": "y"
        },
        {
         "alignmentgroup": "True",
         "bingroup": "x",
         "hovertemplate": "Disease=Migraine<br>Age=%{x}<br>count=%{y}<extra></extra>",
         "legendgroup": "Migraine",
         "marker": {
          "color": "#FF97FF",
          "pattern": {
           "shape": ""
          }
         },
         "name": "Migraine",
         "offsetgroup": "Migraine",
         "orientation": "v",
         "showlegend": true,
         "type": "histogram",
         "x": [
          30,
          30,
          31,
          35,
          35,
          38,
          42,
          45,
          55,
          70
         ],
         "xaxis": "x",
         "yaxis": "y"
        },
        {
         "alignmentgroup": "True",
         "bingroup": "x",
         "hovertemplate": "Disease=Muscular Dystrophy<br>Age=%{x}<br>count=%{y}<extra></extra>",
         "legendgroup": "Muscular Dystrophy",
         "marker": {
          "color": "#FECB52",
          "pattern": {
           "shape": ""
          }
         },
         "name": "Muscular Dystrophy",
         "offsetgroup": "Muscular Dystrophy",
         "orientation": "v",
         "showlegend": true,
         "type": "histogram",
         "x": [
          30
         ],
         "xaxis": "x",
         "yaxis": "y"
        },
        {
         "alignmentgroup": "True",
         "bingroup": "x",
         "hovertemplate": "Disease=Sinusitis<br>Age=%{x}<br>count=%{y}<extra></extra>",
         "legendgroup": "Sinusitis",
         "marker": {
          "color": "#636efa",
          "pattern": {
           "shape": ""
          }
         },
         "name": "Sinusitis",
         "offsetgroup": "Sinusitis",
         "orientation": "v",
         "showlegend": true,
         "type": "histogram",
         "x": [
          30
         ],
         "xaxis": "x",
         "yaxis": "y"
        },
        {
         "alignmentgroup": "True",
         "bingroup": "x",
         "hovertemplate": "Disease=Ulcerative Colitis<br>Age=%{x}<br>count=%{y}<extra></extra>",
         "legendgroup": "Ulcerative Colitis",
         "marker": {
          "color": "#EF553B",
          "pattern": {
           "shape": ""
          }
         },
         "name": "Ulcerative Colitis",
         "offsetgroup": "Ulcerative Colitis",
         "orientation": "v",
         "showlegend": true,
         "type": "histogram",
         "x": [
          30,
          30,
          35,
          35,
          50
         ],
         "xaxis": "x",
         "yaxis": "y"
        },
        {
         "alignmentgroup": "True",
         "bingroup": "x",
         "hovertemplate": "Disease=Bipolar Disorder<br>Age=%{x}<br>count=%{y}<extra></extra>",
         "legendgroup": "Bipolar Disorder",
         "marker": {
          "color": "#00cc96",
          "pattern": {
           "shape": ""
          }
         },
         "name": "Bipolar Disorder",
         "offsetgroup": "Bipolar Disorder",
         "orientation": "v",
         "showlegend": true,
         "type": "histogram",
         "x": [
          30
         ],
         "xaxis": "x",
         "yaxis": "y"
        },
        {
         "alignmentgroup": "True",
         "bingroup": "x",
         "hovertemplate": "Disease=Bronchitis<br>Age=%{x}<br>count=%{y}<extra></extra>",
         "legendgroup": "Bronchitis",
         "marker": {
          "color": "#ab63fa",
          "pattern": {
           "shape": ""
          }
         },
         "name": "Bronchitis",
         "offsetgroup": "Bronchitis",
         "orientation": "v",
         "showlegend": true,
         "type": "histogram",
         "x": [
          30,
          30,
          40,
          50,
          55,
          55,
          65
         ],
         "xaxis": "x",
         "yaxis": "y"
        },
        {
         "alignmentgroup": "True",
         "bingroup": "x",
         "hovertemplate": "Disease=Cerebral Palsy<br>Age=%{x}<br>count=%{y}<extra></extra>",
         "legendgroup": "Cerebral Palsy",
         "marker": {
          "color": "#FFA15A",
          "pattern": {
           "shape": ""
          }
         },
         "name": "Cerebral Palsy",
         "offsetgroup": "Cerebral Palsy",
         "orientation": "v",
         "showlegend": true,
         "type": "histogram",
         "x": [
          30
         ],
         "xaxis": "x",
         "yaxis": "y"
        },
        {
         "alignmentgroup": "True",
         "bingroup": "x",
         "hovertemplate": "Disease=Colorectal Cancer<br>Age=%{x}<br>count=%{y}<extra></extra>",
         "legendgroup": "Colorectal Cancer",
         "marker": {
          "color": "#19d3f3",
          "pattern": {
           "shape": ""
          }
         },
         "name": "Colorectal Cancer",
         "offsetgroup": "Colorectal Cancer",
         "orientation": "v",
         "showlegend": true,
         "type": "histogram",
         "x": [
          30
         ],
         "xaxis": "x",
         "yaxis": "y"
        },
        {
         "alignmentgroup": "True",
         "bingroup": "x",
         "hovertemplate": "Disease=Hypertensive Heart Disease<br>Age=%{x}<br>count=%{y}<extra></extra>",
         "legendgroup": "Hypertensive Heart Disease",
         "marker": {
          "color": "#FF6692",
          "pattern": {
           "shape": ""
          }
         },
         "name": "Hypertensive Heart Disease",
         "offsetgroup": "Hypertensive Heart Disease",
         "orientation": "v",
         "showlegend": true,
         "type": "histogram",
         "x": [
          30
         ],
         "xaxis": "x",
         "yaxis": "y"
        },
        {
         "alignmentgroup": "True",
         "bingroup": "x",
         "hovertemplate": "Disease=Multiple Sclerosis<br>Age=%{x}<br>count=%{y}<extra></extra>",
         "legendgroup": "Multiple Sclerosis",
         "marker": {
          "color": "#B6E880",
          "pattern": {
           "shape": ""
          }
         },
         "name": "Multiple Sclerosis",
         "offsetgroup": "Multiple Sclerosis",
         "orientation": "v",
         "showlegend": true,
         "type": "histogram",
         "x": [
          30,
          45,
          52
         ],
         "xaxis": "x",
         "yaxis": "y"
        },
        {
         "alignmentgroup": "True",
         "bingroup": "x",
         "hovertemplate": "Disease=Myocardial Infarction (Heart...<br>Age=%{x}<br>count=%{y}<extra></extra>",
         "legendgroup": "Myocardial Infarction (Heart...",
         "marker": {
          "color": "#FF97FF",
          "pattern": {
           "shape": ""
          }
         },
         "name": "Myocardial Infarction (Heart...",
         "offsetgroup": "Myocardial Infarction (Heart...",
         "orientation": "v",
         "showlegend": true,
         "type": "histogram",
         "x": [
          30
         ],
         "xaxis": "x",
         "yaxis": "y"
        },
        {
         "alignmentgroup": "True",
         "bingroup": "x",
         "hovertemplate": "Disease=Urinary Tract Infection (UTI)<br>Age=%{x}<br>count=%{y}<extra></extra>",
         "legendgroup": "Urinary Tract Infection (UTI)",
         "marker": {
          "color": "#FECB52",
          "pattern": {
           "shape": ""
          }
         },
         "name": "Urinary Tract Infection (UTI)",
         "offsetgroup": "Urinary Tract Infection (UTI)",
         "orientation": "v",
         "showlegend": true,
         "type": "histogram",
         "x": [
          30,
          35,
          65
         ],
         "xaxis": "x",
         "yaxis": "y"
        },
        {
         "alignmentgroup": "True",
         "bingroup": "x",
         "hovertemplate": "Disease=Osteoporosis<br>Age=%{x}<br>count=%{y}<extra></extra>",
         "legendgroup": "Osteoporosis",
         "marker": {
          "color": "#636efa",
          "pattern": {
           "shape": ""
          }
         },
         "name": "Osteoporosis",
         "offsetgroup": "Osteoporosis",
         "orientation": "v",
         "showlegend": true,
         "type": "histogram",
         "x": [
          31,
          38,
          45,
          55,
          55,
          55,
          55,
          60,
          60,
          60,
          65,
          70
         ],
         "xaxis": "x",
         "yaxis": "y"
        },
        {
         "alignmentgroup": "True",
         "bingroup": "x",
         "hovertemplate": "Disease=Pneumonia<br>Age=%{x}<br>count=%{y}<extra></extra>",
         "legendgroup": "Pneumonia",
         "marker": {
          "color": "#EF553B",
          "pattern": {
           "shape": ""
          }
         },
         "name": "Pneumonia",
         "offsetgroup": "Pneumonia",
         "orientation": "v",
         "showlegend": true,
         "type": "histogram",
         "x": [
          32,
          35,
          38,
          40,
          43,
          45,
          57
         ],
         "xaxis": "x",
         "yaxis": "y"
        },
        {
         "alignmentgroup": "True",
         "bingroup": "x",
         "hovertemplate": "Disease=Atherosclerosis<br>Age=%{x}<br>count=%{y}<extra></extra>",
         "legendgroup": "Atherosclerosis",
         "marker": {
          "color": "#00cc96",
          "pattern": {
           "shape": ""
          }
         },
         "name": "Atherosclerosis",
         "offsetgroup": "Atherosclerosis",
         "orientation": "v",
         "showlegend": true,
         "type": "histogram",
         "x": [
          35
         ],
         "xaxis": "x",
         "yaxis": "y"
        },
        {
         "alignmentgroup": "True",
         "bingroup": "x",
         "hovertemplate": "Disease=Chronic Obstructive Pulmonary...<br>Age=%{x}<br>count=%{y}<extra></extra>",
         "legendgroup": "Chronic Obstructive Pulmonary...",
         "marker": {
          "color": "#ab63fa",
          "pattern": {
           "shape": ""
          }
         },
         "name": "Chronic Obstructive Pulmonary...",
         "offsetgroup": "Chronic Obstructive Pulmonary...",
         "orientation": "v",
         "showlegend": true,
         "type": "histogram",
         "x": [
          35
         ],
         "xaxis": "x",
         "yaxis": "y"
        },
        {
         "alignmentgroup": "True",
         "bingroup": "x",
         "hovertemplate": "Disease=Epilepsy<br>Age=%{x}<br>count=%{y}<extra></extra>",
         "legendgroup": "Epilepsy",
         "marker": {
          "color": "#FFA15A",
          "pattern": {
           "shape": ""
          }
         },
         "name": "Epilepsy",
         "offsetgroup": "Epilepsy",
         "orientation": "v",
         "showlegend": true,
         "type": "histogram",
         "x": [
          35
         ],
         "xaxis": "x",
         "yaxis": "y"
        },
        {
         "alignmentgroup": "True",
         "bingroup": "x",
         "hovertemplate": "Disease=Hypertension<br>Age=%{x}<br>count=%{y}<extra></extra>",
         "legendgroup": "Hypertension",
         "marker": {
          "color": "#19d3f3",
          "pattern": {
           "shape": ""
          }
         },
         "name": "Hypertension",
         "offsetgroup": "Hypertension",
         "orientation": "v",
         "showlegend": true,
         "type": "histogram",
         "x": [
          35,
          45,
          48,
          50,
          52,
          55,
          55,
          60,
          60,
          60
         ],
         "xaxis": "x",
         "yaxis": "y"
        },
        {
         "alignmentgroup": "True",
         "bingroup": "x",
         "hovertemplate": "Disease=Obsessive-Compulsive Disorde...<br>Age=%{x}<br>count=%{y}<extra></extra>",
         "legendgroup": "Obsessive-Compulsive Disorde...",
         "marker": {
          "color": "#FF6692",
          "pattern": {
           "shape": ""
          }
         },
         "name": "Obsessive-Compulsive Disorde...",
         "offsetgroup": "Obsessive-Compulsive Disorde...",
         "orientation": "v",
         "showlegend": true,
         "type": "histogram",
         "x": [
          35
         ],
         "xaxis": "x",
         "yaxis": "y"
        },
        {
         "alignmentgroup": "True",
         "bingroup": "x",
         "hovertemplate": "Disease=Psoriasis<br>Age=%{x}<br>count=%{y}<extra></extra>",
         "legendgroup": "Psoriasis",
         "marker": {
          "color": "#B6E880",
          "pattern": {
           "shape": ""
          }
         },
         "name": "Psoriasis",
         "offsetgroup": "Psoriasis",
         "orientation": "v",
         "showlegend": true,
         "type": "histogram",
         "x": [
          35,
          35,
          40,
          40,
          40
         ],
         "xaxis": "x",
         "yaxis": "y"
        },
        {
         "alignmentgroup": "True",
         "bingroup": "x",
         "hovertemplate": "Disease=Rubella<br>Age=%{x}<br>count=%{y}<extra></extra>",
         "legendgroup": "Rubella",
         "marker": {
          "color": "#FF97FF",
          "pattern": {
           "shape": ""
          }
         },
         "name": "Rubella",
         "offsetgroup": "Rubella",
         "orientation": "v",
         "showlegend": true,
         "type": "histogram",
         "x": [
          35
         ],
         "xaxis": "x",
         "yaxis": "y"
        },
        {
         "alignmentgroup": "True",
         "bingroup": "x",
         "hovertemplate": "Disease=Cirrhosis<br>Age=%{x}<br>count=%{y}<extra></extra>",
         "legendgroup": "Cirrhosis",
         "marker": {
          "color": "#FECB52",
          "pattern": {
           "shape": ""
          }
         },
         "name": "Cirrhosis",
         "offsetgroup": "Cirrhosis",
         "orientation": "v",
         "showlegend": true,
         "type": "histogram",
         "x": [
          35
         ],
         "xaxis": "x",
         "yaxis": "y"
        },
        {
         "alignmentgroup": "True",
         "bingroup": "x",
         "hovertemplate": "Disease=Conjunctivitis (Pink Eye)<br>Age=%{x}<br>count=%{y}<extra></extra>",
         "legendgroup": "Conjunctivitis (Pink Eye)",
         "marker": {
          "color": "#636efa",
          "pattern": {
           "shape": ""
          }
         },
         "name": "Conjunctivitis (Pink Eye)",
         "offsetgroup": "Conjunctivitis (Pink Eye)",
         "orientation": "v",
         "showlegend": true,
         "type": "histogram",
         "x": [
          35
         ],
         "xaxis": "x",
         "yaxis": "y"
        },
        {
         "alignmentgroup": "True",
         "bingroup": "x",
         "hovertemplate": "Disease=Liver Disease<br>Age=%{x}<br>count=%{y}<extra></extra>",
         "legendgroup": "Liver Disease",
         "marker": {
          "color": "#EF553B",
          "pattern": {
           "shape": ""
          }
         },
         "name": "Liver Disease",
         "offsetgroup": "Liver Disease",
         "orientation": "v",
         "showlegend": true,
         "type": "histogram",
         "x": [
          35,
          38,
          42,
          45,
          55
         ],
         "xaxis": "x",
         "yaxis": "y"
        },
        {
         "alignmentgroup": "True",
         "bingroup": "x",
         "hovertemplate": "Disease=Malaria<br>Age=%{x}<br>count=%{y}<extra></extra>",
         "legendgroup": "Malaria",
         "marker": {
          "color": "#00cc96",
          "pattern": {
           "shape": ""
          }
         },
         "name": "Malaria",
         "offsetgroup": "Malaria",
         "orientation": "v",
         "showlegend": true,
         "type": "histogram",
         "x": [
          35
         ],
         "xaxis": "x",
         "yaxis": "y"
        },
        {
         "alignmentgroup": "True",
         "bingroup": "x",
         "hovertemplate": "Disease=Spina Bifida<br>Age=%{x}<br>count=%{y}<extra></extra>",
         "legendgroup": "Spina Bifida",
         "marker": {
          "color": "#ab63fa",
          "pattern": {
           "shape": ""
          }
         },
         "name": "Spina Bifida",
         "offsetgroup": "Spina Bifida",
         "orientation": "v",
         "showlegend": true,
         "type": "histogram",
         "x": [
          35
         ],
         "xaxis": "x",
         "yaxis": "y"
        },
        {
         "alignmentgroup": "True",
         "bingroup": "x",
         "hovertemplate": "Disease=Kidney Disease<br>Age=%{x}<br>count=%{y}<extra></extra>",
         "legendgroup": "Kidney Disease",
         "marker": {
          "color": "#FFA15A",
          "pattern": {
           "shape": ""
          }
         },
         "name": "Kidney Disease",
         "offsetgroup": "Kidney Disease",
         "orientation": "v",
         "showlegend": true,
         "type": "histogram",
         "x": [
          38,
          42,
          45,
          50,
          60
         ],
         "xaxis": "x",
         "yaxis": "y"
        },
        {
         "alignmentgroup": "True",
         "bingroup": "x",
         "hovertemplate": "Disease=Osteoarthritis<br>Age=%{x}<br>count=%{y}<extra></extra>",
         "legendgroup": "Osteoarthritis",
         "marker": {
          "color": "#19d3f3",
          "pattern": {
           "shape": ""
          }
         },
         "name": "Osteoarthritis",
         "offsetgroup": "Osteoarthritis",
         "orientation": "v",
         "showlegend": true,
         "type": "histogram",
         "x": [
          38,
          40,
          42,
          45,
          55,
          60
         ],
         "xaxis": "x",
         "yaxis": "y"
        },
        {
         "alignmentgroup": "True",
         "bingroup": "x",
         "hovertemplate": "Disease=Klinefelter Syndrome<br>Age=%{x}<br>count=%{y}<extra></extra>",
         "legendgroup": "Klinefelter Syndrome",
         "marker": {
          "color": "#FF6692",
          "pattern": {
           "shape": ""
          }
         },
         "name": "Klinefelter Syndrome",
         "offsetgroup": "Klinefelter Syndrome",
         "orientation": "v",
         "showlegend": true,
         "type": "histogram",
         "x": [
          39,
          50
         ],
         "xaxis": "x",
         "yaxis": "y"
        },
        {
         "alignmentgroup": "True",
         "bingroup": "x",
         "hovertemplate": "Disease=Acne<br>Age=%{x}<br>count=%{y}<extra></extra>",
         "legendgroup": "Acne",
         "marker": {
          "color": "#B6E880",
          "pattern": {
           "shape": ""
          }
         },
         "name": "Acne",
         "offsetgroup": "Acne",
         "orientation": "v",
         "showlegend": true,
         "type": "histogram",
         "x": [
          40
         ],
         "xaxis": "x",
         "yaxis": "y"
        },
        {
         "alignmentgroup": "True",
         "bingroup": "x",
         "hovertemplate": "Disease=Brain Tumor<br>Age=%{x}<br>count=%{y}<extra></extra>",
         "legendgroup": "Brain Tumor",
         "marker": {
          "color": "#FF97FF",
          "pattern": {
           "shape": ""
          }
         },
         "name": "Brain Tumor",
         "offsetgroup": "Brain Tumor",
         "orientation": "v",
         "showlegend": true,
         "type": "histogram",
         "x": [
          40
         ],
         "xaxis": "x",
         "yaxis": "y"
        },
        {
         "alignmentgroup": "True",
         "bingroup": "x",
         "hovertemplate": "Disease=Cystic Fibrosis<br>Age=%{x}<br>count=%{y}<extra></extra>",
         "legendgroup": "Cystic Fibrosis",
         "marker": {
          "color": "#FECB52",
          "pattern": {
           "shape": ""
          }
         },
         "name": "Cystic Fibrosis",
         "offsetgroup": "Cystic Fibrosis",
         "orientation": "v",
         "showlegend": true,
         "type": "histogram",
         "x": [
          40
         ],
         "xaxis": "x",
         "yaxis": "y"
        },
        {
         "alignmentgroup": "True",
         "bingroup": "x",
         "hovertemplate": "Disease=Glaucoma<br>Age=%{x}<br>count=%{y}<extra></extra>",
         "legendgroup": "Glaucoma",
         "marker": {
          "color": "#636efa",
          "pattern": {
           "shape": ""
          }
         },
         "name": "Glaucoma",
         "offsetgroup": "Glaucoma",
         "orientation": "v",
         "showlegend": true,
         "type": "histogram",
         "x": [
          40
         ],
         "xaxis": "x",
         "yaxis": "y"
        },
        {
         "alignmentgroup": "True",
         "bingroup": "x",
         "hovertemplate": "Disease=Rabies<br>Age=%{x}<br>count=%{y}<extra></extra>",
         "legendgroup": "Rabies",
         "marker": {
          "color": "#EF553B",
          "pattern": {
           "shape": ""
          }
         },
         "name": "Rabies",
         "offsetgroup": "Rabies",
         "orientation": "v",
         "showlegend": true,
         "type": "histogram",
         "x": [
          40
         ],
         "xaxis": "x",
         "yaxis": "y"
        },
        {
         "alignmentgroup": "True",
         "bingroup": "x",
         "hovertemplate": "Disease=Chickenpox<br>Age=%{x}<br>count=%{y}<extra></extra>",
         "legendgroup": "Chickenpox",
         "marker": {
          "color": "#00cc96",
          "pattern": {
           "shape": ""
          }
         },
         "name": "Chickenpox",
         "offsetgroup": "Chickenpox",
         "orientation": "v",
         "showlegend": true,
         "type": "histogram",
         "x": [
          40
         ],
         "xaxis": "x",
         "yaxis": "y"
        },
        {
         "alignmentgroup": "True",
         "bingroup": "x",
         "hovertemplate": "Disease=Coronary Artery Disease<br>Age=%{x}<br>count=%{y}<extra></extra>",
         "legendgroup": "Coronary Artery Disease",
         "marker": {
          "color": "#ab63fa",
          "pattern": {
           "shape": ""
          }
         },
         "name": "Coronary Artery Disease",
         "offsetgroup": "Coronary Artery Disease",
         "orientation": "v",
         "showlegend": true,
         "type": "histogram",
         "x": [
          40,
          55,
          60
         ],
         "xaxis": "x",
         "yaxis": "y"
        },
        {
         "alignmentgroup": "True",
         "bingroup": "x",
         "hovertemplate": "Disease=Eating Disorders (Anorexia,...<br>Age=%{x}<br>count=%{y}<extra></extra>",
         "legendgroup": "Eating Disorders (Anorexia,...",
         "marker": {
          "color": "#FFA15A",
          "pattern": {
           "shape": ""
          }
         },
         "name": "Eating Disorders (Anorexia,...",
         "offsetgroup": "Eating Disorders (Anorexia,...",
         "orientation": "v",
         "showlegend": true,
         "type": "histogram",
         "x": [
          40
         ],
         "xaxis": "x",
         "yaxis": "y"
        },
        {
         "alignmentgroup": "True",
         "bingroup": "x",
         "hovertemplate": "Disease=Fibromyalgia<br>Age=%{x}<br>count=%{y}<extra></extra>",
         "legendgroup": "Fibromyalgia",
         "marker": {
          "color": "#19d3f3",
          "pattern": {
           "shape": ""
          }
         },
         "name": "Fibromyalgia",
         "offsetgroup": "Fibromyalgia",
         "orientation": "v",
         "showlegend": true,
         "type": "histogram",
         "x": [
          40
         ],
         "xaxis": "x",
         "yaxis": "y"
        },
        {
         "alignmentgroup": "True",
         "bingroup": "x",
         "hovertemplate": "Disease=Hemophilia<br>Age=%{x}<br>count=%{y}<extra></extra>",
         "legendgroup": "Hemophilia",
         "marker": {
          "color": "#FF6692",
          "pattern": {
           "shape": ""
          }
         },
         "name": "Hemophilia",
         "offsetgroup": "Hemophilia",
         "orientation": "v",
         "showlegend": true,
         "type": "histogram",
         "x": [
          40,
          60
         ],
         "xaxis": "x",
         "yaxis": "y"
        },
        {
         "alignmentgroup": "True",
         "bingroup": "x",
         "hovertemplate": "Disease=Hypoglycemia<br>Age=%{x}<br>count=%{y}<extra></extra>",
         "legendgroup": "Hypoglycemia",
         "marker": {
          "color": "#B6E880",
          "pattern": {
           "shape": ""
          }
         },
         "name": "Hypoglycemia",
         "offsetgroup": "Hypoglycemia",
         "orientation": "v",
         "showlegend": true,
         "type": "histogram",
         "x": [
          40
         ],
         "xaxis": "x",
         "yaxis": "y"
        },
        {
         "alignmentgroup": "True",
         "bingroup": "x",
         "hovertemplate": "Disease=Lymphoma<br>Age=%{x}<br>count=%{y}<extra></extra>",
         "legendgroup": "Lymphoma",
         "marker": {
          "color": "#FF97FF",
          "pattern": {
           "shape": ""
          }
         },
         "name": "Lymphoma",
         "offsetgroup": "Lymphoma",
         "orientation": "v",
         "showlegend": true,
         "type": "histogram",
         "x": [
          40
         ],
         "xaxis": "x",
         "yaxis": "y"
        },
        {
         "alignmentgroup": "True",
         "bingroup": "x",
         "hovertemplate": "Disease=Tuberculosis<br>Age=%{x}<br>count=%{y}<extra></extra>",
         "legendgroup": "Tuberculosis",
         "marker": {
          "color": "#FECB52",
          "pattern": {
           "shape": ""
          }
         },
         "name": "Tuberculosis",
         "offsetgroup": "Tuberculosis",
         "orientation": "v",
         "showlegend": true,
         "type": "histogram",
         "x": [
          40,
          60
         ],
         "xaxis": "x",
         "yaxis": "y"
        },
        {
         "alignmentgroup": "True",
         "bingroup": "x",
         "hovertemplate": "Disease=Lung Cancer<br>Age=%{x}<br>count=%{y}<extra></extra>",
         "legendgroup": "Lung Cancer",
         "marker": {
          "color": "#636efa",
          "pattern": {
           "shape": ""
          }
         },
         "name": "Lung Cancer",
         "offsetgroup": "Lung Cancer",
         "orientation": "v",
         "showlegend": true,
         "type": "histogram",
         "x": [
          42,
          65,
          65
         ],
         "xaxis": "x",
         "yaxis": "y"
        },
        {
         "alignmentgroup": "True",
         "bingroup": "x",
         "hovertemplate": "Disease=Hypothyroidism<br>Age=%{x}<br>count=%{y}<extra></extra>",
         "legendgroup": "Hypothyroidism",
         "marker": {
          "color": "#EF553B",
          "pattern": {
           "shape": ""
          }
         },
         "name": "Hypothyroidism",
         "offsetgroup": "Hypothyroidism",
         "orientation": "v",
         "showlegend": true,
         "type": "histogram",
         "x": [
          42,
          45,
          48,
          50,
          55
         ],
         "xaxis": "x",
         "yaxis": "y"
        },
        {
         "alignmentgroup": "True",
         "bingroup": "x",
         "hovertemplate": "Disease=Autism Spectrum Disorder (ASD)<br>Age=%{x}<br>count=%{y}<extra></extra>",
         "legendgroup": "Autism Spectrum Disorder (ASD)",
         "marker": {
          "color": "#00cc96",
          "pattern": {
           "shape": ""
          }
         },
         "name": "Autism Spectrum Disorder (ASD)",
         "offsetgroup": "Autism Spectrum Disorder (ASD)",
         "orientation": "v",
         "showlegend": true,
         "type": "histogram",
         "x": [
          45
         ],
         "xaxis": "x",
         "yaxis": "y"
        },
        {
         "alignmentgroup": "True",
         "bingroup": "x",
         "hovertemplate": "Disease=Crohn's Disease<br>Age=%{x}<br>count=%{y}<extra></extra>",
         "legendgroup": "Crohn's Disease",
         "marker": {
          "color": "#ab63fa",
          "pattern": {
           "shape": ""
          }
         },
         "name": "Crohn's Disease",
         "offsetgroup": "Crohn's Disease",
         "orientation": "v",
         "showlegend": true,
         "type": "histogram",
         "x": [
          45,
          45,
          45,
          50,
          50
         ],
         "xaxis": "x",
         "yaxis": "y"
        },
        {
         "alignmentgroup": "True",
         "bingroup": "x",
         "hovertemplate": "Disease=Hyperglycemia<br>Age=%{x}<br>count=%{y}<extra></extra>",
         "legendgroup": "Hyperglycemia",
         "marker": {
          "color": "#FFA15A",
          "pattern": {
           "shape": ""
          }
         },
         "name": "Hyperglycemia",
         "offsetgroup": "Hyperglycemia",
         "orientation": "v",
         "showlegend": true,
         "type": "histogram",
         "x": [
          45
         ],
         "xaxis": "x",
         "yaxis": "y"
        },
        {
         "alignmentgroup": "True",
         "bingroup": "x",
         "hovertemplate": "Disease=Melanoma<br>Age=%{x}<br>count=%{y}<extra></extra>",
         "legendgroup": "Melanoma",
         "marker": {
          "color": "#19d3f3",
          "pattern": {
           "shape": ""
          }
         },
         "name": "Melanoma",
         "offsetgroup": "Melanoma",
         "orientation": "v",
         "showlegend": true,
         "type": "histogram",
         "x": [
          45
         ],
         "xaxis": "x",
         "yaxis": "y"
        },
        {
         "alignmentgroup": "True",
         "bingroup": "x",
         "hovertemplate": "Disease=Ovarian Cancer<br>Age=%{x}<br>count=%{y}<extra></extra>",
         "legendgroup": "Ovarian Cancer",
         "marker": {
          "color": "#FF6692",
          "pattern": {
           "shape": ""
          }
         },
         "name": "Ovarian Cancer",
         "offsetgroup": "Ovarian Cancer",
         "orientation": "v",
         "showlegend": true,
         "type": "histogram",
         "x": [
          45
         ],
         "xaxis": "x",
         "yaxis": "y"
        },
        {
         "alignmentgroup": "True",
         "bingroup": "x",
         "hovertemplate": "Disease=Turner Syndrome<br>Age=%{x}<br>count=%{y}<extra></extra>",
         "legendgroup": "Turner Syndrome",
         "marker": {
          "color": "#B6E880",
          "pattern": {
           "shape": ""
          }
         },
         "name": "Turner Syndrome",
         "offsetgroup": "Turner Syndrome",
         "orientation": "v",
         "showlegend": true,
         "type": "histogram",
         "x": [
          45
         ],
         "xaxis": "x",
         "yaxis": "y"
        },
        {
         "alignmentgroup": "True",
         "bingroup": "x",
         "hovertemplate": "Disease=Zika Virus<br>Age=%{x}<br>count=%{y}<extra></extra>",
         "legendgroup": "Zika Virus",
         "marker": {
          "color": "#FF97FF",
          "pattern": {
           "shape": ""
          }
         },
         "name": "Zika Virus",
         "offsetgroup": "Zika Virus",
         "orientation": "v",
         "showlegend": true,
         "type": "histogram",
         "x": [
          45
         ],
         "xaxis": "x",
         "yaxis": "y"
        },
        {
         "alignmentgroup": "True",
         "bingroup": "x",
         "hovertemplate": "Disease=Cataracts<br>Age=%{x}<br>count=%{y}<extra></extra>",
         "legendgroup": "Cataracts",
         "marker": {
          "color": "#FECB52",
          "pattern": {
           "shape": ""
          }
         },
         "name": "Cataracts",
         "offsetgroup": "Cataracts",
         "orientation": "v",
         "showlegend": true,
         "type": "histogram",
         "x": [
          45
         ],
         "xaxis": "x",
         "yaxis": "y"
        },
        {
         "alignmentgroup": "True",
         "bingroup": "x",
         "hovertemplate": "Disease=Pneumocystis Pneumonia (PCP)<br>Age=%{x}<br>count=%{y}<extra></extra>",
         "legendgroup": "Pneumocystis Pneumonia (PCP)",
         "marker": {
          "color": "#636efa",
          "pattern": {
           "shape": ""
          }
         },
         "name": "Pneumocystis Pneumonia (PCP)",
         "offsetgroup": "Pneumocystis Pneumonia (PCP)",
         "orientation": "v",
         "showlegend": true,
         "type": "histogram",
         "x": [
          45
         ],
         "xaxis": "x",
         "yaxis": "y"
        },
        {
         "alignmentgroup": "True",
         "bingroup": "x",
         "hovertemplate": "Disease=Scoliosis<br>Age=%{x}<br>count=%{y}<extra></extra>",
         "legendgroup": "Scoliosis",
         "marker": {
          "color": "#EF553B",
          "pattern": {
           "shape": ""
          }
         },
         "name": "Scoliosis",
         "offsetgroup": "Scoliosis",
         "orientation": "v",
         "showlegend": true,
         "type": "histogram",
         "x": [
          45
         ],
         "xaxis": "x",
         "yaxis": "y"
        },
        {
         "alignmentgroup": "True",
         "bingroup": "x",
         "hovertemplate": "Disease=Sickle Cell Anemia<br>Age=%{x}<br>count=%{y}<extra></extra>",
         "legendgroup": "Sickle Cell Anemia",
         "marker": {
          "color": "#00cc96",
          "pattern": {
           "shape": ""
          }
         },
         "name": "Sickle Cell Anemia",
         "offsetgroup": "Sickle Cell Anemia",
         "orientation": "v",
         "showlegend": true,
         "type": "histogram",
         "x": [
          45
         ],
         "xaxis": "x",
         "yaxis": "y"
        },
        {
         "alignmentgroup": "True",
         "bingroup": "x",
         "hovertemplate": "Disease=Tetanus<br>Age=%{x}<br>count=%{y}<extra></extra>",
         "legendgroup": "Tetanus",
         "marker": {
          "color": "#ab63fa",
          "pattern": {
           "shape": ""
          }
         },
         "name": "Tetanus",
         "offsetgroup": "Tetanus",
         "orientation": "v",
         "showlegend": true,
         "type": "histogram",
         "x": [
          45
         ],
         "xaxis": "x",
         "yaxis": "y"
        },
        {
         "alignmentgroup": "True",
         "bingroup": "x",
         "hovertemplate": "Disease=Anemia<br>Age=%{x}<br>count=%{y}<extra></extra>",
         "legendgroup": "Anemia",
         "marker": {
          "color": "#FFA15A",
          "pattern": {
           "shape": ""
          }
         },
         "name": "Anemia",
         "offsetgroup": "Anemia",
         "orientation": "v",
         "showlegend": true,
         "type": "histogram",
         "x": [
          50
         ],
         "xaxis": "x",
         "yaxis": "y"
        },
        {
         "alignmentgroup": "True",
         "bingroup": "x",
         "hovertemplate": "Disease=Cholera<br>Age=%{x}<br>count=%{y}<extra></extra>",
         "legendgroup": "Cholera",
         "marker": {
          "color": "#19d3f3",
          "pattern": {
           "shape": ""
          }
         },
         "name": "Cholera",
         "offsetgroup": "Cholera",
         "orientation": "v",
         "showlegend": true,
         "type": "histogram",
         "x": [
          50
         ],
         "xaxis": "x",
         "yaxis": "y"
        },
        {
         "alignmentgroup": "True",
         "bingroup": "x",
         "hovertemplate": "Disease=Endometriosis<br>Age=%{x}<br>count=%{y}<extra></extra>",
         "legendgroup": "Endometriosis",
         "marker": {
          "color": "#FF6692",
          "pattern": {
           "shape": ""
          }
         },
         "name": "Endometriosis",
         "offsetgroup": "Endometriosis",
         "orientation": "v",
         "showlegend": true,
         "type": "histogram",
         "x": [
          50
         ],
         "xaxis": "x",
         "yaxis": "y"
        },
        {
         "alignmentgroup": "True",
         "bingroup": "x",
         "hovertemplate": "Disease=Sepsis<br>Age=%{x}<br>count=%{y}<extra></extra>",
         "legendgroup": "Sepsis",
         "marker": {
          "color": "#B6E880",
          "pattern": {
           "shape": ""
          }
         },
         "name": "Sepsis",
         "offsetgroup": "Sepsis",
         "orientation": "v",
         "showlegend": true,
         "type": "histogram",
         "x": [
          50
         ],
         "xaxis": "x",
         "yaxis": "y"
        },
        {
         "alignmentgroup": "True",
         "bingroup": "x",
         "hovertemplate": "Disease=Sleep Apnea<br>Age=%{x}<br>count=%{y}<extra></extra>",
         "legendgroup": "Sleep Apnea",
         "marker": {
          "color": "#FF97FF",
          "pattern": {
           "shape": ""
          }
         },
         "name": "Sleep Apnea",
         "offsetgroup": "Sleep Apnea",
         "orientation": "v",
         "showlegend": true,
         "type": "histogram",
         "x": [
          50
         ],
         "xaxis": "x",
         "yaxis": "y"
        },
        {
         "alignmentgroup": "True",
         "bingroup": "x",
         "hovertemplate": "Disease=Down Syndrome<br>Age=%{x}<br>count=%{y}<extra></extra>",
         "legendgroup": "Down Syndrome",
         "marker": {
          "color": "#FECB52",
          "pattern": {
           "shape": ""
          }
         },
         "name": "Down Syndrome",
         "offsetgroup": "Down Syndrome",
         "orientation": "v",
         "showlegend": true,
         "type": "histogram",
         "x": [
          50
         ],
         "xaxis": "x",
         "yaxis": "y"
        },
        {
         "alignmentgroup": "True",
         "bingroup": "x",
         "hovertemplate": "Disease=Ebola Virus<br>Age=%{x}<br>count=%{y}<extra></extra>",
         "legendgroup": "Ebola Virus",
         "marker": {
          "color": "#636efa",
          "pattern": {
           "shape": ""
          }
         },
         "name": "Ebola Virus",
         "offsetgroup": "Ebola Virus",
         "orientation": "v",
         "showlegend": true,
         "type": "histogram",
         "x": [
          50
         ],
         "xaxis": "x",
         "yaxis": "y"
        },
        {
         "alignmentgroup": "True",
         "bingroup": "x",
         "hovertemplate": "Disease=Lyme Disease<br>Age=%{x}<br>count=%{y}<extra></extra>",
         "legendgroup": "Lyme Disease",
         "marker": {
          "color": "#EF553B",
          "pattern": {
           "shape": ""
          }
         },
         "name": "Lyme Disease",
         "offsetgroup": "Lyme Disease",
         "orientation": "v",
         "showlegend": true,
         "type": "histogram",
         "x": [
          50
         ],
         "xaxis": "x",
         "yaxis": "y"
        },
        {
         "alignmentgroup": "True",
         "bingroup": "x",
         "hovertemplate": "Disease=Pancreatic Cancer<br>Age=%{x}<br>count=%{y}<extra></extra>",
         "legendgroup": "Pancreatic Cancer",
         "marker": {
          "color": "#00cc96",
          "pattern": {
           "shape": ""
          }
         },
         "name": "Pancreatic Cancer",
         "offsetgroup": "Pancreatic Cancer",
         "orientation": "v",
         "showlegend": true,
         "type": "histogram",
         "x": [
          50
         ],
         "xaxis": "x",
         "yaxis": "y"
        },
        {
         "alignmentgroup": "True",
         "bingroup": "x",
         "hovertemplate": "Disease=Pneumothorax<br>Age=%{x}<br>count=%{y}<extra></extra>",
         "legendgroup": "Pneumothorax",
         "marker": {
          "color": "#ab63fa",
          "pattern": {
           "shape": ""
          }
         },
         "name": "Pneumothorax",
         "offsetgroup": "Pneumothorax",
         "orientation": "v",
         "showlegend": true,
         "type": "histogram",
         "x": [
          50
         ],
         "xaxis": "x",
         "yaxis": "y"
        },
        {
         "alignmentgroup": "True",
         "bingroup": "x",
         "hovertemplate": "Disease=Appendicitis<br>Age=%{x}<br>count=%{y}<extra></extra>",
         "legendgroup": "Appendicitis",
         "marker": {
          "color": "#FFA15A",
          "pattern": {
           "shape": ""
          }
         },
         "name": "Appendicitis",
         "offsetgroup": "Appendicitis",
         "orientation": "v",
         "showlegend": true,
         "type": "histogram",
         "x": [
          55
         ],
         "xaxis": "x",
         "yaxis": "y"
        },
        {
         "alignmentgroup": "True",
         "bingroup": "x",
         "hovertemplate": "Disease=Esophageal Cancer<br>Age=%{x}<br>count=%{y}<extra></extra>",
         "legendgroup": "Esophageal Cancer",
         "marker": {
          "color": "#19d3f3",
          "pattern": {
           "shape": ""
          }
         },
         "name": "Esophageal Cancer",
         "offsetgroup": "Esophageal Cancer",
         "orientation": "v",
         "showlegend": true,
         "type": "histogram",
         "x": [
          55
         ],
         "xaxis": "x",
         "yaxis": "y"
        },
        {
         "alignmentgroup": "True",
         "bingroup": "x",
         "hovertemplate": "Disease=HIV/AIDS<br>Age=%{x}<br>count=%{y}<extra></extra>",
         "legendgroup": "HIV/AIDS",
         "marker": {
          "color": "#FF6692",
          "pattern": {
           "shape": ""
          }
         },
         "name": "HIV/AIDS",
         "offsetgroup": "HIV/AIDS",
         "orientation": "v",
         "showlegend": true,
         "type": "histogram",
         "x": [
          55
         ],
         "xaxis": "x",
         "yaxis": "y"
        },
        {
         "alignmentgroup": "True",
         "bingroup": "x",
         "hovertemplate": "Disease=Marfan Syndrome<br>Age=%{x}<br>count=%{y}<extra></extra>",
         "legendgroup": "Marfan Syndrome",
         "marker": {
          "color": "#B6E880",
          "pattern": {
           "shape": ""
          }
         },
         "name": "Marfan Syndrome",
         "offsetgroup": "Marfan Syndrome",
         "orientation": "v",
         "showlegend": true,
         "type": "histogram",
         "x": [
          55
         ],
         "xaxis": "x",
         "yaxis": "y"
        },
        {
         "alignmentgroup": "True",
         "bingroup": "x",
         "hovertemplate": "Disease=Parkinson's Disease<br>Age=%{x}<br>count=%{y}<extra></extra>",
         "legendgroup": "Parkinson's Disease",
         "marker": {
          "color": "#FF97FF",
          "pattern": {
           "shape": ""
          }
         },
         "name": "Parkinson's Disease",
         "offsetgroup": "Parkinson's Disease",
         "orientation": "v",
         "showlegend": true,
         "type": "histogram",
         "x": [
          55,
          60,
          70
         ],
         "xaxis": "x",
         "yaxis": "y"
        },
        {
         "alignmentgroup": "True",
         "bingroup": "x",
         "hovertemplate": "Disease=Hemorrhoids<br>Age=%{x}<br>count=%{y}<extra></extra>",
         "legendgroup": "Hemorrhoids",
         "marker": {
          "color": "#FECB52",
          "pattern": {
           "shape": ""
          }
         },
         "name": "Hemorrhoids",
         "offsetgroup": "Hemorrhoids",
         "orientation": "v",
         "showlegend": true,
         "type": "histogram",
         "x": [
          55
         ],
         "xaxis": "x",
         "yaxis": "y"
        },
        {
         "alignmentgroup": "True",
         "bingroup": "x",
         "hovertemplate": "Disease=Polycystic Ovary Syndrome (PCOS)<br>Age=%{x}<br>count=%{y}<extra></extra>",
         "legendgroup": "Polycystic Ovary Syndrome (PCOS)",
         "marker": {
          "color": "#636efa",
          "pattern": {
           "shape": ""
          }
         },
         "name": "Polycystic Ovary Syndrome (PCOS)",
         "offsetgroup": "Polycystic Ovary Syndrome (PCOS)",
         "orientation": "v",
         "showlegend": true,
         "type": "histogram",
         "x": [
          55
         ],
         "xaxis": "x",
         "yaxis": "y"
        },
        {
         "alignmentgroup": "True",
         "bingroup": "x",
         "hovertemplate": "Disease=Systemic Lupus Erythematosus...<br>Age=%{x}<br>count=%{y}<extra></extra>",
         "legendgroup": "Systemic Lupus Erythematosus...",
         "marker": {
          "color": "#EF553B",
          "pattern": {
           "shape": ""
          }
         },
         "name": "Systemic Lupus Erythematosus...",
         "offsetgroup": "Systemic Lupus Erythematosus...",
         "orientation": "v",
         "showlegend": true,
         "type": "histogram",
         "x": [
          55
         ],
         "xaxis": "x",
         "yaxis": "y"
        },
        {
         "alignmentgroup": "True",
         "bingroup": "x",
         "hovertemplate": "Disease=Typhoid Fever<br>Age=%{x}<br>count=%{y}<extra></extra>",
         "legendgroup": "Typhoid Fever",
         "marker": {
          "color": "#00cc96",
          "pattern": {
           "shape": ""
          }
         },
         "name": "Typhoid Fever",
         "offsetgroup": "Typhoid Fever",
         "orientation": "v",
         "showlegend": true,
         "type": "histogram",
         "x": [
          55
         ],
         "xaxis": "x",
         "yaxis": "y"
        },
        {
         "alignmentgroup": "True",
         "bingroup": "x",
         "hovertemplate": "Disease=Breast Cancer<br>Age=%{x}<br>count=%{y}<extra></extra>",
         "legendgroup": "Breast Cancer",
         "marker": {
          "color": "#ab63fa",
          "pattern": {
           "shape": ""
          }
         },
         "name": "Breast Cancer",
         "offsetgroup": "Breast Cancer",
         "orientation": "v",
         "showlegend": true,
         "type": "histogram",
         "x": [
          60
         ],
         "xaxis": "x",
         "yaxis": "y"
        },
        {
         "alignmentgroup": "True",
         "bingroup": "x",
         "hovertemplate": "Disease=Measles<br>Age=%{x}<br>count=%{y}<extra></extra>",
         "legendgroup": "Measles",
         "marker": {
          "color": "#FFA15A",
          "pattern": {
           "shape": ""
          }
         },
         "name": "Measles",
         "offsetgroup": "Measles",
         "orientation": "v",
         "showlegend": true,
         "type": "histogram",
         "x": [
          60
         ],
         "xaxis": "x",
         "yaxis": "y"
        },
        {
         "alignmentgroup": "True",
         "bingroup": "x",
         "hovertemplate": "Disease=Osteomyelitis<br>Age=%{x}<br>count=%{y}<extra></extra>",
         "legendgroup": "Osteomyelitis",
         "marker": {
          "color": "#19d3f3",
          "pattern": {
           "shape": ""
          }
         },
         "name": "Osteomyelitis",
         "offsetgroup": "Osteomyelitis",
         "orientation": "v",
         "showlegend": true,
         "type": "histogram",
         "x": [
          60
         ],
         "xaxis": "x",
         "yaxis": "y"
        },
        {
         "alignmentgroup": "True",
         "bingroup": "x",
         "hovertemplate": "Disease=Polio<br>Age=%{x}<br>count=%{y}<extra></extra>",
         "legendgroup": "Polio",
         "marker": {
          "color": "#FF6692",
          "pattern": {
           "shape": ""
          }
         },
         "name": "Polio",
         "offsetgroup": "Polio",
         "orientation": "v",
         "showlegend": true,
         "type": "histogram",
         "x": [
          60
         ],
         "xaxis": "x",
         "yaxis": "y"
        },
        {
         "alignmentgroup": "True",
         "bingroup": "x",
         "hovertemplate": "Disease=Chronic Kidney Disease<br>Age=%{x}<br>count=%{y}<extra></extra>",
         "legendgroup": "Chronic Kidney Disease",
         "marker": {
          "color": "#B6E880",
          "pattern": {
           "shape": ""
          }
         },
         "name": "Chronic Kidney Disease",
         "offsetgroup": "Chronic Kidney Disease",
         "orientation": "v",
         "showlegend": true,
         "type": "histogram",
         "x": [
          60
         ],
         "xaxis": "x",
         "yaxis": "y"
        },
        {
         "alignmentgroup": "True",
         "bingroup": "x",
         "hovertemplate": "Disease=Hepatitis B<br>Age=%{x}<br>count=%{y}<extra></extra>",
         "legendgroup": "Hepatitis B",
         "marker": {
          "color": "#FF97FF",
          "pattern": {
           "shape": ""
          }
         },
         "name": "Hepatitis B",
         "offsetgroup": "Hepatitis B",
         "orientation": "v",
         "showlegend": true,
         "type": "histogram",
         "x": [
          60
         ],
         "xaxis": "x",
         "yaxis": "y"
        },
        {
         "alignmentgroup": "True",
         "bingroup": "x",
         "hovertemplate": "Disease=Prader-Willi Syndrome<br>Age=%{x}<br>count=%{y}<extra></extra>",
         "legendgroup": "Prader-Willi Syndrome",
         "marker": {
          "color": "#FECB52",
          "pattern": {
           "shape": ""
          }
         },
         "name": "Prader-Willi Syndrome",
         "offsetgroup": "Prader-Willi Syndrome",
         "orientation": "v",
         "showlegend": true,
         "type": "histogram",
         "x": [
          60
         ],
         "xaxis": "x",
         "yaxis": "y"
        },
        {
         "alignmentgroup": "True",
         "bingroup": "x",
         "hovertemplate": "Disease=Thyroid Cancer<br>Age=%{x}<br>count=%{y}<extra></extra>",
         "legendgroup": "Thyroid Cancer",
         "marker": {
          "color": "#636efa",
          "pattern": {
           "shape": ""
          }
         },
         "name": "Thyroid Cancer",
         "offsetgroup": "Thyroid Cancer",
         "orientation": "v",
         "showlegend": true,
         "type": "histogram",
         "x": [
          60
         ],
         "xaxis": "x",
         "yaxis": "y"
        },
        {
         "alignmentgroup": "True",
         "bingroup": "x",
         "hovertemplate": "Disease=Bladder Cancer<br>Age=%{x}<br>count=%{y}<extra></extra>",
         "legendgroup": "Bladder Cancer",
         "marker": {
          "color": "#EF553B",
          "pattern": {
           "shape": ""
          }
         },
         "name": "Bladder Cancer",
         "offsetgroup": "Bladder Cancer",
         "orientation": "v",
         "showlegend": true,
         "type": "histogram",
         "x": [
          65
         ],
         "xaxis": "x",
         "yaxis": "y"
        },
        {
         "alignmentgroup": "True",
         "bingroup": "x",
         "hovertemplate": "Disease=Otitis Media (Ear Infection)<br>Age=%{x}<br>count=%{y}<extra></extra>",
         "legendgroup": "Otitis Media (Ear Infection)",
         "marker": {
          "color": "#00cc96",
          "pattern": {
           "shape": ""
          }
         },
         "name": "Otitis Media (Ear Infection)",
         "offsetgroup": "Otitis Media (Ear Infection)",
         "orientation": "v",
         "showlegend": true,
         "type": "histogram",
         "x": [
          65
         ],
         "xaxis": "x",
         "yaxis": "y"
        },
        {
         "alignmentgroup": "True",
         "bingroup": "x",
         "hovertemplate": "Disease=Tourette Syndrome<br>Age=%{x}<br>count=%{y}<extra></extra>",
         "legendgroup": "Tourette Syndrome",
         "marker": {
          "color": "#ab63fa",
          "pattern": {
           "shape": ""
          }
         },
         "name": "Tourette Syndrome",
         "offsetgroup": "Tourette Syndrome",
         "orientation": "v",
         "showlegend": true,
         "type": "histogram",
         "x": [
          65
         ],
         "xaxis": "x",
         "yaxis": "y"
        },
        {
         "alignmentgroup": "True",
         "bingroup": "x",
         "hovertemplate": "Disease=Alzheimer's Disease<br>Age=%{x}<br>count=%{y}<extra></extra>",
         "legendgroup": "Alzheimer's Disease",
         "marker": {
          "color": "#FFA15A",
          "pattern": {
           "shape": ""
          }
         },
         "name": "Alzheimer's Disease",
         "offsetgroup": "Alzheimer's Disease",
         "orientation": "v",
         "showlegend": true,
         "type": "histogram",
         "x": [
          65,
          65,
          70
         ],
         "xaxis": "x",
         "yaxis": "y"
        },
        {
         "alignmentgroup": "True",
         "bingroup": "x",
         "hovertemplate": "Disease=Chronic Obstructive Pulmonary Disease (COPD)<br>Age=%{x}<br>count=%{y}<extra></extra>",
         "legendgroup": "Chronic Obstructive Pulmonary Disease (COPD)",
         "marker": {
          "color": "#19d3f3",
          "pattern": {
           "shape": ""
          }
         },
         "name": "Chronic Obstructive Pulmonary Disease (COPD)",
         "offsetgroup": "Chronic Obstructive Pulmonary Disease (COPD)",
         "orientation": "v",
         "showlegend": true,
         "type": "histogram",
         "x": [
          65,
          70
         ],
         "xaxis": "x",
         "yaxis": "y"
        },
        {
         "alignmentgroup": "True",
         "bingroup": "x",
         "hovertemplate": "Disease=Dementia<br>Age=%{x}<br>count=%{y}<extra></extra>",
         "legendgroup": "Dementia",
         "marker": {
          "color": "#FF6692",
          "pattern": {
           "shape": ""
          }
         },
         "name": "Dementia",
         "offsetgroup": "Dementia",
         "orientation": "v",
         "showlegend": true,
         "type": "histogram",
         "x": [
          65
         ],
         "xaxis": "x",
         "yaxis": "y"
        },
        {
         "alignmentgroup": "True",
         "bingroup": "x",
         "hovertemplate": "Disease=Diverticulitis<br>Age=%{x}<br>count=%{y}<extra></extra>",
         "legendgroup": "Diverticulitis",
         "marker": {
          "color": "#B6E880",
          "pattern": {
           "shape": ""
          }
         },
         "name": "Diverticulitis",
         "offsetgroup": "Diverticulitis",
         "orientation": "v",
         "showlegend": true,
         "type": "histogram",
         "x": [
          65
         ],
         "xaxis": "x",
         "yaxis": "y"
        },
        {
         "alignmentgroup": "True",
         "bingroup": "x",
         "hovertemplate": "Disease=Mumps<br>Age=%{x}<br>count=%{y}<extra></extra>",
         "legendgroup": "Mumps",
         "marker": {
          "color": "#FF97FF",
          "pattern": {
           "shape": ""
          }
         },
         "name": "Mumps",
         "offsetgroup": "Mumps",
         "orientation": "v",
         "showlegend": true,
         "type": "histogram",
         "x": [
          65
         ],
         "xaxis": "x",
         "yaxis": "y"
        },
        {
         "alignmentgroup": "True",
         "bingroup": "x",
         "hovertemplate": "Disease=Cholecystitis<br>Age=%{x}<br>count=%{y}<extra></extra>",
         "legendgroup": "Cholecystitis",
         "marker": {
          "color": "#FECB52",
          "pattern": {
           "shape": ""
          }
         },
         "name": "Cholecystitis",
         "offsetgroup": "Cholecystitis",
         "orientation": "v",
         "showlegend": true,
         "type": "histogram",
         "x": [
          70
         ],
         "xaxis": "x",
         "yaxis": "y"
        },
        {
         "alignmentgroup": "True",
         "bingroup": "x",
         "hovertemplate": "Disease=Prostate Cancer<br>Age=%{x}<br>count=%{y}<extra></extra>",
         "legendgroup": "Prostate Cancer",
         "marker": {
          "color": "#636efa",
          "pattern": {
           "shape": ""
          }
         },
         "name": "Prostate Cancer",
         "offsetgroup": "Prostate Cancer",
         "orientation": "v",
         "showlegend": true,
         "type": "histogram",
         "x": [
          70
         ],
         "xaxis": "x",
         "yaxis": "y"
        },
        {
         "alignmentgroup": "True",
         "bingroup": "x",
         "hovertemplate": "Disease=Schizophrenia<br>Age=%{x}<br>count=%{y}<extra></extra>",
         "legendgroup": "Schizophrenia",
         "marker": {
          "color": "#EF553B",
          "pattern": {
           "shape": ""
          }
         },
         "name": "Schizophrenia",
         "offsetgroup": "Schizophrenia",
         "orientation": "v",
         "showlegend": true,
         "type": "histogram",
         "x": [
          70
         ],
         "xaxis": "x",
         "yaxis": "y"
        },
        {
         "alignmentgroup": "True",
         "bingroup": "x",
         "hovertemplate": "Disease=Gout<br>Age=%{x}<br>count=%{y}<extra></extra>",
         "legendgroup": "Gout",
         "marker": {
          "color": "#00cc96",
          "pattern": {
           "shape": ""
          }
         },
         "name": "Gout",
         "offsetgroup": "Gout",
         "orientation": "v",
         "showlegend": true,
         "type": "histogram",
         "x": [
          70
         ],
         "xaxis": "x",
         "yaxis": "y"
        },
        {
         "alignmentgroup": "True",
         "bingroup": "x",
         "hovertemplate": "Disease=Testicular Cancer<br>Age=%{x}<br>count=%{y}<extra></extra>",
         "legendgroup": "Testicular Cancer",
         "marker": {
          "color": "#ab63fa",
          "pattern": {
           "shape": ""
          }
         },
         "name": "Testicular Cancer",
         "offsetgroup": "Testicular Cancer",
         "orientation": "v",
         "showlegend": true,
         "type": "histogram",
         "x": [
          70
         ],
         "xaxis": "x",
         "yaxis": "y"
        },
        {
         "alignmentgroup": "True",
         "bingroup": "x",
         "hovertemplate": "Disease=Tonsillitis<br>Age=%{x}<br>count=%{y}<extra></extra>",
         "legendgroup": "Tonsillitis",
         "marker": {
          "color": "#FFA15A",
          "pattern": {
           "shape": ""
          }
         },
         "name": "Tonsillitis",
         "offsetgroup": "Tonsillitis",
         "orientation": "v",
         "showlegend": true,
         "type": "histogram",
         "x": [
          70
         ],
         "xaxis": "x",
         "yaxis": "y"
        },
        {
         "alignmentgroup": "True",
         "bingroup": "x",
         "hovertemplate": "Disease=Williams Syndrome<br>Age=%{x}<br>count=%{y}<extra></extra>",
         "legendgroup": "Williams Syndrome",
         "marker": {
          "color": "#19d3f3",
          "pattern": {
           "shape": ""
          }
         },
         "name": "Williams Syndrome",
         "offsetgroup": "Williams Syndrome",
         "orientation": "v",
         "showlegend": true,
         "type": "histogram",
         "x": [
          70
         ],
         "xaxis": "x",
         "yaxis": "y"
        }
       ],
       "layout": {
        "autosize": true,
        "barmode": "relative",
        "legend": {
         "title": {
          "text": "Disease"
         },
         "tracegroupgap": 0
        },
        "template": {
         "data": {
          "bar": [
           {
            "error_x": {
             "color": "#2a3f5f"
            },
            "error_y": {
             "color": "#2a3f5f"
            },
            "marker": {
             "line": {
              "color": "#E5ECF6",
              "width": 0.5
             },
             "pattern": {
              "fillmode": "overlay",
              "size": 10,
              "solidity": 0.2
             }
            },
            "type": "bar"
           }
          ],
          "barpolar": [
           {
            "marker": {
             "line": {
              "color": "#E5ECF6",
              "width": 0.5
             },
             "pattern": {
              "fillmode": "overlay",
              "size": 10,
              "solidity": 0.2
             }
            },
            "type": "barpolar"
           }
          ],
          "carpet": [
           {
            "aaxis": {
             "endlinecolor": "#2a3f5f",
             "gridcolor": "white",
             "linecolor": "white",
             "minorgridcolor": "white",
             "startlinecolor": "#2a3f5f"
            },
            "baxis": {
             "endlinecolor": "#2a3f5f",
             "gridcolor": "white",
             "linecolor": "white",
             "minorgridcolor": "white",
             "startlinecolor": "#2a3f5f"
            },
            "type": "carpet"
           }
          ],
          "choropleth": [
           {
            "colorbar": {
             "outlinewidth": 0,
             "ticks": ""
            },
            "type": "choropleth"
           }
          ],
          "contour": [
           {
            "colorbar": {
             "outlinewidth": 0,
             "ticks": ""
            },
            "colorscale": [
             [
              0,
              "#0d0887"
             ],
             [
              0.1111111111111111,
              "#46039f"
             ],
             [
              0.2222222222222222,
              "#7201a8"
             ],
             [
              0.3333333333333333,
              "#9c179e"
             ],
             [
              0.4444444444444444,
              "#bd3786"
             ],
             [
              0.5555555555555556,
              "#d8576b"
             ],
             [
              0.6666666666666666,
              "#ed7953"
             ],
             [
              0.7777777777777778,
              "#fb9f3a"
             ],
             [
              0.8888888888888888,
              "#fdca26"
             ],
             [
              1,
              "#f0f921"
             ]
            ],
            "type": "contour"
           }
          ],
          "contourcarpet": [
           {
            "colorbar": {
             "outlinewidth": 0,
             "ticks": ""
            },
            "type": "contourcarpet"
           }
          ],
          "heatmap": [
           {
            "colorbar": {
             "outlinewidth": 0,
             "ticks": ""
            },
            "colorscale": [
             [
              0,
              "#0d0887"
             ],
             [
              0.1111111111111111,
              "#46039f"
             ],
             [
              0.2222222222222222,
              "#7201a8"
             ],
             [
              0.3333333333333333,
              "#9c179e"
             ],
             [
              0.4444444444444444,
              "#bd3786"
             ],
             [
              0.5555555555555556,
              "#d8576b"
             ],
             [
              0.6666666666666666,
              "#ed7953"
             ],
             [
              0.7777777777777778,
              "#fb9f3a"
             ],
             [
              0.8888888888888888,
              "#fdca26"
             ],
             [
              1,
              "#f0f921"
             ]
            ],
            "type": "heatmap"
           }
          ],
          "heatmapgl": [
           {
            "colorbar": {
             "outlinewidth": 0,
             "ticks": ""
            },
            "colorscale": [
             [
              0,
              "#0d0887"
             ],
             [
              0.1111111111111111,
              "#46039f"
             ],
             [
              0.2222222222222222,
              "#7201a8"
             ],
             [
              0.3333333333333333,
              "#9c179e"
             ],
             [
              0.4444444444444444,
              "#bd3786"
             ],
             [
              0.5555555555555556,
              "#d8576b"
             ],
             [
              0.6666666666666666,
              "#ed7953"
             ],
             [
              0.7777777777777778,
              "#fb9f3a"
             ],
             [
              0.8888888888888888,
              "#fdca26"
             ],
             [
              1,
              "#f0f921"
             ]
            ],
            "type": "heatmapgl"
           }
          ],
          "histogram": [
           {
            "marker": {
             "pattern": {
              "fillmode": "overlay",
              "size": 10,
              "solidity": 0.2
             }
            },
            "type": "histogram"
           }
          ],
          "histogram2d": [
           {
            "colorbar": {
             "outlinewidth": 0,
             "ticks": ""
            },
            "colorscale": [
             [
              0,
              "#0d0887"
             ],
             [
              0.1111111111111111,
              "#46039f"
             ],
             [
              0.2222222222222222,
              "#7201a8"
             ],
             [
              0.3333333333333333,
              "#9c179e"
             ],
             [
              0.4444444444444444,
              "#bd3786"
             ],
             [
              0.5555555555555556,
              "#d8576b"
             ],
             [
              0.6666666666666666,
              "#ed7953"
             ],
             [
              0.7777777777777778,
              "#fb9f3a"
             ],
             [
              0.8888888888888888,
              "#fdca26"
             ],
             [
              1,
              "#f0f921"
             ]
            ],
            "type": "histogram2d"
           }
          ],
          "histogram2dcontour": [
           {
            "colorbar": {
             "outlinewidth": 0,
             "ticks": ""
            },
            "colorscale": [
             [
              0,
              "#0d0887"
             ],
             [
              0.1111111111111111,
              "#46039f"
             ],
             [
              0.2222222222222222,
              "#7201a8"
             ],
             [
              0.3333333333333333,
              "#9c179e"
             ],
             [
              0.4444444444444444,
              "#bd3786"
             ],
             [
              0.5555555555555556,
              "#d8576b"
             ],
             [
              0.6666666666666666,
              "#ed7953"
             ],
             [
              0.7777777777777778,
              "#fb9f3a"
             ],
             [
              0.8888888888888888,
              "#fdca26"
             ],
             [
              1,
              "#f0f921"
             ]
            ],
            "type": "histogram2dcontour"
           }
          ],
          "mesh3d": [
           {
            "colorbar": {
             "outlinewidth": 0,
             "ticks": ""
            },
            "type": "mesh3d"
           }
          ],
          "parcoords": [
           {
            "line": {
             "colorbar": {
              "outlinewidth": 0,
              "ticks": ""
             }
            },
            "type": "parcoords"
           }
          ],
          "pie": [
           {
            "automargin": true,
            "type": "pie"
           }
          ],
          "scatter": [
           {
            "fillpattern": {
             "fillmode": "overlay",
             "size": 10,
             "solidity": 0.2
            },
            "type": "scatter"
           }
          ],
          "scatter3d": [
           {
            "line": {
             "colorbar": {
              "outlinewidth": 0,
              "ticks": ""
             }
            },
            "marker": {
             "colorbar": {
              "outlinewidth": 0,
              "ticks": ""
             }
            },
            "type": "scatter3d"
           }
          ],
          "scattercarpet": [
           {
            "marker": {
             "colorbar": {
              "outlinewidth": 0,
              "ticks": ""
             }
            },
            "type": "scattercarpet"
           }
          ],
          "scattergeo": [
           {
            "marker": {
             "colorbar": {
              "outlinewidth": 0,
              "ticks": ""
             }
            },
            "type": "scattergeo"
           }
          ],
          "scattergl": [
           {
            "marker": {
             "colorbar": {
              "outlinewidth": 0,
              "ticks": ""
             }
            },
            "type": "scattergl"
           }
          ],
          "scattermapbox": [
           {
            "marker": {
             "colorbar": {
              "outlinewidth": 0,
              "ticks": ""
             }
            },
            "type": "scattermapbox"
           }
          ],
          "scatterpolar": [
           {
            "marker": {
             "colorbar": {
              "outlinewidth": 0,
              "ticks": ""
             }
            },
            "type": "scatterpolar"
           }
          ],
          "scatterpolargl": [
           {
            "marker": {
             "colorbar": {
              "outlinewidth": 0,
              "ticks": ""
             }
            },
            "type": "scatterpolargl"
           }
          ],
          "scatterternary": [
           {
            "marker": {
             "colorbar": {
              "outlinewidth": 0,
              "ticks": ""
             }
            },
            "type": "scatterternary"
           }
          ],
          "surface": [
           {
            "colorbar": {
             "outlinewidth": 0,
             "ticks": ""
            },
            "colorscale": [
             [
              0,
              "#0d0887"
             ],
             [
              0.1111111111111111,
              "#46039f"
             ],
             [
              0.2222222222222222,
              "#7201a8"
             ],
             [
              0.3333333333333333,
              "#9c179e"
             ],
             [
              0.4444444444444444,
              "#bd3786"
             ],
             [
              0.5555555555555556,
              "#d8576b"
             ],
             [
              0.6666666666666666,
              "#ed7953"
             ],
             [
              0.7777777777777778,
              "#fb9f3a"
             ],
             [
              0.8888888888888888,
              "#fdca26"
             ],
             [
              1,
              "#f0f921"
             ]
            ],
            "type": "surface"
           }
          ],
          "table": [
           {
            "cells": {
             "fill": {
              "color": "#EBF0F8"
             },
             "line": {
              "color": "white"
             }
            },
            "header": {
             "fill": {
              "color": "#C8D4E3"
             },
             "line": {
              "color": "white"
             }
            },
            "type": "table"
           }
          ]
         },
         "layout": {
          "annotationdefaults": {
           "arrowcolor": "#2a3f5f",
           "arrowhead": 0,
           "arrowwidth": 1
          },
          "autotypenumbers": "strict",
          "coloraxis": {
           "colorbar": {
            "outlinewidth": 0,
            "ticks": ""
           }
          },
          "colorscale": {
           "diverging": [
            [
             0,
             "#8e0152"
            ],
            [
             0.1,
             "#c51b7d"
            ],
            [
             0.2,
             "#de77ae"
            ],
            [
             0.3,
             "#f1b6da"
            ],
            [
             0.4,
             "#fde0ef"
            ],
            [
             0.5,
             "#f7f7f7"
            ],
            [
             0.6,
             "#e6f5d0"
            ],
            [
             0.7,
             "#b8e186"
            ],
            [
             0.8,
             "#7fbc41"
            ],
            [
             0.9,
             "#4d9221"
            ],
            [
             1,
             "#276419"
            ]
           ],
           "sequential": [
            [
             0,
             "#0d0887"
            ],
            [
             0.1111111111111111,
             "#46039f"
            ],
            [
             0.2222222222222222,
             "#7201a8"
            ],
            [
             0.3333333333333333,
             "#9c179e"
            ],
            [
             0.4444444444444444,
             "#bd3786"
            ],
            [
             0.5555555555555556,
             "#d8576b"
            ],
            [
             0.6666666666666666,
             "#ed7953"
            ],
            [
             0.7777777777777778,
             "#fb9f3a"
            ],
            [
             0.8888888888888888,
             "#fdca26"
            ],
            [
             1,
             "#f0f921"
            ]
           ],
           "sequentialminus": [
            [
             0,
             "#0d0887"
            ],
            [
             0.1111111111111111,
             "#46039f"
            ],
            [
             0.2222222222222222,
             "#7201a8"
            ],
            [
             0.3333333333333333,
             "#9c179e"
            ],
            [
             0.4444444444444444,
             "#bd3786"
            ],
            [
             0.5555555555555556,
             "#d8576b"
            ],
            [
             0.6666666666666666,
             "#ed7953"
            ],
            [
             0.7777777777777778,
             "#fb9f3a"
            ],
            [
             0.8888888888888888,
             "#fdca26"
            ],
            [
             1,
             "#f0f921"
            ]
           ]
          },
          "colorway": [
           "#636efa",
           "#EF553B",
           "#00cc96",
           "#ab63fa",
           "#FFA15A",
           "#19d3f3",
           "#FF6692",
           "#B6E880",
           "#FF97FF",
           "#FECB52"
          ],
          "font": {
           "color": "#2a3f5f"
          },
          "geo": {
           "bgcolor": "white",
           "lakecolor": "white",
           "landcolor": "#E5ECF6",
           "showlakes": true,
           "showland": true,
           "subunitcolor": "white"
          },
          "hoverlabel": {
           "align": "left"
          },
          "hovermode": "closest",
          "mapbox": {
           "style": "light"
          },
          "paper_bgcolor": "white",
          "plot_bgcolor": "#E5ECF6",
          "polar": {
           "angularaxis": {
            "gridcolor": "white",
            "linecolor": "white",
            "ticks": ""
           },
           "bgcolor": "#E5ECF6",
           "radialaxis": {
            "gridcolor": "white",
            "linecolor": "white",
            "ticks": ""
           }
          },
          "scene": {
           "xaxis": {
            "backgroundcolor": "#E5ECF6",
            "gridcolor": "white",
            "gridwidth": 2,
            "linecolor": "white",
            "showbackground": true,
            "ticks": "",
            "zerolinecolor": "white"
           },
           "yaxis": {
            "backgroundcolor": "#E5ECF6",
            "gridcolor": "white",
            "gridwidth": 2,
            "linecolor": "white",
            "showbackground": true,
            "ticks": "",
            "zerolinecolor": "white"
           },
           "zaxis": {
            "backgroundcolor": "#E5ECF6",
            "gridcolor": "white",
            "gridwidth": 2,
            "linecolor": "white",
            "showbackground": true,
            "ticks": "",
            "zerolinecolor": "white"
           }
          },
          "shapedefaults": {
           "line": {
            "color": "#2a3f5f"
           }
          },
          "ternary": {
           "aaxis": {
            "gridcolor": "white",
            "linecolor": "white",
            "ticks": ""
           },
           "baxis": {
            "gridcolor": "white",
            "linecolor": "white",
            "ticks": ""
           },
           "bgcolor": "#E5ECF6",
           "caxis": {
            "gridcolor": "white",
            "linecolor": "white",
            "ticks": ""
           }
          },
          "title": {
           "x": 0.05
          },
          "xaxis": {
           "automargin": true,
           "gridcolor": "white",
           "linecolor": "white",
           "ticks": "",
           "title": {
            "standoff": 15
           },
           "zerolinecolor": "white",
           "zerolinewidth": 2
          },
          "yaxis": {
           "automargin": true,
           "gridcolor": "white",
           "linecolor": "white",
           "ticks": "",
           "title": {
            "standoff": 15
           },
           "zerolinecolor": "white",
           "zerolinewidth": 2
          }
         }
        },
        "title": {
         "text": "Age-Disease Distribution"
        },
        "xaxis": {
         "anchor": "y",
         "autorange": true,
         "domain": [
          0,
          1
         ],
         "range": [
          17.5,
          92.5
         ],
         "title": {
          "text": "Age"
         },
         "type": "linear"
        },
        "yaxis": {
         "anchor": "x",
         "autorange": true,
         "domain": [
          0,
          1
         ],
         "range": [
          0,
          58.94736842105263
         ],
         "title": {
          "text": "count"
         }
        }
       }
      },
      "image/png": "[encoded data removed]",
      "text/html": [
       "<div>                            <div id=\"62d77660-8ed5-42e3-bad1-8b753a0d71af\" class=\"plotly-graph-div\" style=\"height:525px; width:100%;\"></div>            <script type=\"text/javascript\">                require([\"plotly\"], function(Plotly) {                    window.PLOTLYENV=window.PLOTLYENV || {};                                    if (document.getElementById(\"62d77660-8ed5-42e3-bad1-8b753a0d71af\")) {                    Plotly.newPlot(                        \"62d77660-8ed5-42e3-bad1-8b753a0d71af\",                        [{\"alignmentgroup\":\"True\",\"bingroup\":\"x\",\"hovertemplate\":\"Disease=Influenza\\u003cbr\\u003eAge=%{x}\\u003cbr\\u003ecount=%{y}\\u003cextra\\u003e\\u003c\\u002fextra\\u003e\",\"legendgroup\":\"Influenza\",\"marker\":{\"color\":\"#636efa\",\"pattern\":{\"shape\":\"\"}},\"name\":\"Influenza\",\"offsetgroup\":\"Influenza\",\"orientation\":\"v\",\"showlegend\":true,\"x\":[19.0,25.0,30.0,30.0,38.0,42.0,56.0],\"xaxis\":\"x\",\"yaxis\":\"y\",\"type\":\"histogram\"},{\"alignmentgroup\":\"True\",\"bingroup\":\"x\",\"hovertemplate\":\"Disease=Common Cold\\u003cbr\\u003eAge=%{x}\\u003cbr\\u003ecount=%{y}\\u003cextra\\u003e\\u003c\\u002fextra\\u003e\",\"legendgroup\":\"Common Cold\",\"marker\":{\"color\":\"#EF553B\",\"pattern\":{\"shape\":\"\"}},\"name\":\"Common Cold\",\"offsetgroup\":\"Common Cold\",\"orientation\":\"v\",\"showlegend\":true,\"x\":[25.0,29.0,31.0,35.0,42.0,55.0],\"xaxis\":\"x\",\"yaxis\":\"y\",\"type\":\"histogram\"},{\"alignmentgroup\":\"True\",\"bingroup\":\"x\",\"hovertemplate\":\"Disease=Eczema\\u003cbr\\u003eAge=%{x}\\u003cbr\\u003ecount=%{y}\\u003cextra\\u003e\\u003c\\u002fextra\\u003e\",\"legendgroup\":\"Eczema\",\"marker\":{\"color\":\"#00cc96\",\"pattern\":{\"shape\":\"\"}},\"name\":\"Eczema\",\"offsetgroup\":\"Eczema\",\"orientation\":\"v\",\"showlegend\":true,\"x\":[25.0,46.331412103746395,30.0,30.0,35.0,50.0],\"xaxis\":\"x\",\"yaxis\":\"y\",\"type\":\"histogram\"},{\"alignmentgroup\":\"True\",\"bingroup\":\"x\",\"hovertemplate\":\"Disease=Asthma\\u003cbr\\u003eAge=%{x}\\u003cbr\\u003ecount=%{y}\\u003cextra\\u003e\\u003c\\u002fextra\\u003e\",\"legendgroup\":\"Asthma\",\"marker\":{\"color\":\"#ab63fa\",\"pattern\":{\"shape\":\"\"}},\"name\":\"Asthma\",\"offsetgroup\":\"Asthma\",\"orientation\":\"v\",\"showlegend\":true,\"x\":[25.0,28.0,30.0,30.0,31.0,35.0,35.0,35.0,35.0,40.0,40.0,40.0,40.0,45.0,50.0,60.0],\"xaxis\":\"x\",\"yaxis\":\"y\",\"type\":\"histogram\"},{\"alignmentgroup\":\"True\",\"bingroup\":\"x\",\"hovertemplate\":\"Disease=Hyperthyroidism\\u003cbr\\u003eAge=%{x}\\u003cbr\\u003ecount=%{y}\\u003cextra\\u003e\\u003c\\u002fextra\\u003e\",\"legendgroup\":\"Hyperthyroidism\",\"marker\":{\"color\":\"#FFA15A\",\"pattern\":{\"shape\":\"\"}},\"name\":\"Hyperthyroidism\",\"offsetgroup\":\"Hyperthyroidism\",\"orientation\":\"v\",\"showlegend\":true,\"x\":[28.0,35.0,35.0,40.0,60.0],\"xaxis\":\"x\",\"yaxis\":\"y\",\"type\":\"histogram\"},{\"alignmentgroup\":\"True\",\"bingroup\":\"x\",\"hovertemplate\":\"Disease=Allergic Rhinitis\\u003cbr\\u003eAge=%{x}\\u003cbr\\u003ecount=%{y}\\u003cextra\\u003e\\u003c\\u002fextra\\u003e\",\"legendgroup\":\"Allergic Rhinitis\",\"marker\":{\"color\":\"#19d3f3\",\"pattern\":{\"shape\":\"\"}},\"name\":\"Allergic Rhinitis\",\"offsetgroup\":\"Allergic Rhinitis\",\"orientation\":\"v\",\"showlegend\":true,\"x\":[29.0,35.0,38.0,45.0,45.0,50.0],\"xaxis\":\"x\",\"yaxis\":\"y\",\"type\":\"histogram\"},{\"alignmentgroup\":\"True\",\"bingroup\":\"x\",\"hovertemplate\":\"Disease=Anxiety Disorders\\u003cbr\\u003eAge=%{x}\\u003cbr\\u003ecount=%{y}\\u003cextra\\u003e\\u003c\\u002fextra\\u003e\",\"legendgroup\":\"Anxiety Disorders\",\"marker\":{\"color\":\"#FF6692\",\"pattern\":{\"shape\":\"\"}},\"name\":\"Anxiety Disorders\",\"offsetgroup\":\"Anxiety Disorders\",\"orientation\":\"v\",\"showlegend\":true,\"x\":[29.0,38.0,42.0,45.0,50.0,55.0],\"xaxis\":\"x\",\"yaxis\":\"y\",\"type\":\"histogram\"},{\"alignmentgroup\":\"True\",\"bingroup\":\"x\",\"hovertemplate\":\"Disease=Diabetes\\u003cbr\\u003eAge=%{x}\\u003cbr\\u003ecount=%{y}\\u003cextra\\u003e\\u003c\\u002fextra\\u003e\",\"legendgroup\":\"Diabetes\",\"marker\":{\"color\":\"#B6E880\",\"pattern\":{\"shape\":\"\"}},\"name\":\"Diabetes\",\"offsetgroup\":\"Diabetes\",\"orientation\":\"v\",\"showlegend\":true,\"x\":[29.0,38.0,40.0,42.0,45.0,45.0,50.0,55.0,65.0,65.0],\"xaxis\":\"x\",\"yaxis\":\"y\",\"type\":\"histogram\"},{\"alignmentgroup\":\"True\",\"bingroup\":\"x\",\"hovertemplate\":\"Disease=Gastroenteritis\\u003cbr\\u003eAge=%{x}\\u003cbr\\u003ecount=%{y}\\u003cextra\\u003e\\u003c\\u002fextra\\u003e\",\"legendgroup\":\"Gastroenteritis\",\"marker\":{\"color\":\"#FF97FF\",\"pattern\":{\"shape\":\"\"}},\"name\":\"Gastroenteritis\",\"offsetgroup\":\"Gastroenteritis\",\"orientation\":\"v\",\"showlegend\":true,\"x\":[29.0,30.0,35.0,38.0,40.0,50.0],\"xaxis\":\"x\",\"yaxis\":\"y\",\"type\":\"histogram\"},{\"alignmentgroup\":\"True\",\"bingroup\":\"x\",\"hovertemplate\":\"Disease=Pancreatitis\\u003cbr\\u003eAge=%{x}\\u003cbr\\u003ecount=%{y}\\u003cextra\\u003e\\u003c\\u002fextra\\u003e\",\"legendgroup\":\"Pancreatitis\",\"marker\":{\"color\":\"#FECB52\",\"pattern\":{\"shape\":\"\"}},\"name\":\"Pancreatitis\",\"offsetgroup\":\"Pancreatitis\",\"orientation\":\"v\",\"showlegend\":true,\"x\":[29.0,35.0,45.0,50.0,60.0],\"xaxis\":\"x\",\"yaxis\":\"y\",\"type\":\"histogram\"},{\"alignmentgroup\":\"True\",\"bingroup\":\"x\",\"hovertemplate\":\"Disease=Rheumatoid Arthritis\\u003cbr\\u003eAge=%{x}\\u003cbr\\u003ecount=%{y}\\u003cextra\\u003e\\u003c\\u002fextra\\u003e\",\"legendgroup\":\"Rheumatoid Arthritis\",\"marker\":{\"color\":\"#636efa\",\"pattern\":{\"shape\":\"\"}},\"name\":\"Rheumatoid Arthritis\",\"offsetgroup\":\"Rheumatoid Arthritis\",\"orientation\":\"v\",\"showlegend\":true,\"x\":[29.0,35.0,35.0,45.0,50.0,60.0],\"xaxis\":\"x\",\"yaxis\":\"y\",\"type\":\"histogram\"},{\"alignmentgroup\":\"True\",\"bingroup\":\"x\",\"hovertemplate\":\"Disease=Depression\\u003cbr\\u003eAge=%{x}\\u003cbr\\u003ecount=%{y}\\u003cextra\\u003e\\u003c\\u002fextra\\u003e\",\"legendgroup\":\"Depression\",\"marker\":{\"color\":\"#EF553B\",\"pattern\":{\"shape\":\"\"}},\"name\":\"Depression\",\"offsetgroup\":\"Depression\",\"orientation\":\"v\",\"showlegend\":true,\"x\":[29.0,35.0,38.0,42.0,45.0,50.0],\"xaxis\":\"x\",\"yaxis\":\"y\",\"type\":\"histogram\"},{\"alignmentgroup\":\"True\",\"bingroup\":\"x\",\"hovertemplate\":\"Disease=Liver Cancer\\u003cbr\\u003eAge=%{x}\\u003cbr\\u003ecount=%{y}\\u003cextra\\u003e\\u003c\\u002fextra\\u003e\",\"legendgroup\":\"Liver Cancer\",\"marker\":{\"color\":\"#00cc96\",\"pattern\":{\"shape\":\"\"}},\"name\":\"Liver Cancer\",\"offsetgroup\":\"Liver Cancer\",\"orientation\":\"v\",\"showlegend\":true,\"x\":[29.0,35.0,38.0,42.0,50.0,46.331412103746395],\"xaxis\":\"x\",\"yaxis\":\"y\",\"type\":\"histogram\"},{\"alignmentgroup\":\"True\",\"bingroup\":\"x\",\"hovertemplate\":\"Disease=Stroke\\u003cbr\\u003eAge=%{x}\\u003cbr\\u003ecount=%{y}\\u003cextra\\u003e\\u003c\\u002fextra\\u003e\",\"legendgroup\":\"Stroke\",\"marker\":{\"color\":\"#ab63fa\",\"pattern\":{\"shape\":\"\"}},\"name\":\"Stroke\",\"offsetgroup\":\"Stroke\",\"orientation\":\"v\",\"showlegend\":true,\"x\":[29.0,38.0,42.0,45.0,50.0,65.0,65.0,70.0,80.0,85.0,90.0],\"xaxis\":\"x\",\"yaxis\":\"y\",\"type\":\"histogram\"},{\"alignmentgroup\":\"True\",\"bingroup\":\"x\",\"hovertemplate\":\"Disease=Urinary Tract Infection\\u003cbr\\u003eAge=%{x}\\u003cbr\\u003ecount=%{y}\\u003cextra\\u003e\\u003c\\u002fextra\\u003e\",\"legendgroup\":\"Urinary Tract Infection\",\"marker\":{\"color\":\"#FFA15A\",\"pattern\":{\"shape\":\"\"}},\"name\":\"Urinary Tract Infection\",\"offsetgroup\":\"Urinary Tract Infection\",\"orientation\":\"v\",\"showlegend\":true,\"x\":[29.0,35.0,42.0,45.0,50.0],\"xaxis\":\"x\",\"yaxis\":\"y\",\"type\":\"histogram\"},{\"alignmentgroup\":\"True\",\"bingroup\":\"x\",\"hovertemplate\":\"Disease=Dengue Fever\\u003cbr\\u003eAge=%{x}\\u003cbr\\u003ecount=%{y}\\u003cextra\\u003e\\u003c\\u002fextra\\u003e\",\"legendgroup\":\"Dengue Fever\",\"marker\":{\"color\":\"#19d3f3\",\"pattern\":{\"shape\":\"\"}},\"name\":\"Dengue Fever\",\"offsetgroup\":\"Dengue Fever\",\"orientation\":\"v\",\"showlegend\":true,\"x\":[30.0],\"xaxis\":\"x\",\"yaxis\":\"y\",\"type\":\"histogram\"},{\"alignmentgroup\":\"True\",\"bingroup\":\"x\",\"hovertemplate\":\"Disease=Hepatitis\\u003cbr\\u003eAge=%{x}\\u003cbr\\u003ecount=%{y}\\u003cextra\\u003e\\u003c\\u002fextra\\u003e\",\"legendgroup\":\"Hepatitis\",\"marker\":{\"color\":\"#FF6692\",\"pattern\":{\"shape\":\"\"}},\"name\":\"Hepatitis\",\"offsetgroup\":\"Hepatitis\",\"orientation\":\"v\",\"showlegend\":true,\"x\":[30.0,45.0],\"xaxis\":\"x\",\"yaxis\":\"y\",\"type\":\"histogram\"},{\"alignmentgroup\":\"True\",\"bingroup\":\"x\",\"hovertemplate\":\"Disease=Kidney Cancer\\u003cbr\\u003eAge=%{x}\\u003cbr\\u003ecount=%{y}\\u003cextra\\u003e\\u003c\\u002fextra\\u003e\",\"legendgroup\":\"Kidney Cancer\",\"marker\":{\"color\":\"#B6E880\",\"pattern\":{\"shape\":\"\"}},\"name\":\"Kidney Cancer\",\"offsetgroup\":\"Kidney Cancer\",\"orientation\":\"v\",\"showlegend\":true,\"x\":[30.0,35.0,42.0,45.0,50.0,60.0],\"xaxis\":\"x\",\"yaxis\":\"y\",\"type\":\"histogram\"},{\"alignmentgroup\":\"True\",\"bingroup\":\"x\",\"hovertemplate\":\"Disease=Migraine\\u003cbr\\u003eAge=%{x}\\u003cbr\\u003ecount=%{y}\\u003cextra\\u003e\\u003c\\u002fextra\\u003e\",\"legendgroup\":\"Migraine\",\"marker\":{\"color\":\"#FF97FF\",\"pattern\":{\"shape\":\"\"}},\"name\":\"Migraine\",\"offsetgroup\":\"Migraine\",\"orientation\":\"v\",\"showlegend\":true,\"x\":[30.0,30.0,31.0,35.0,35.0,38.0,42.0,45.0,55.0,70.0],\"xaxis\":\"x\",\"yaxis\":\"y\",\"type\":\"histogram\"},{\"alignmentgroup\":\"True\",\"bingroup\":\"x\",\"hovertemplate\":\"Disease=Muscular Dystrophy\\u003cbr\\u003eAge=%{x}\\u003cbr\\u003ecount=%{y}\\u003cextra\\u003e\\u003c\\u002fextra\\u003e\",\"legendgroup\":\"Muscular Dystrophy\",\"marker\":{\"color\":\"#FECB52\",\"pattern\":{\"shape\":\"\"}},\"name\":\"Muscular Dystrophy\",\"offsetgroup\":\"Muscular Dystrophy\",\"orientation\":\"v\",\"showlegend\":true,\"x\":[30.0],\"xaxis\":\"x\",\"yaxis\":\"y\",\"type\":\"histogram\"},{\"alignmentgroup\":\"True\",\"bingroup\":\"x\",\"hovertemplate\":\"Disease=Sinusitis\\u003cbr\\u003eAge=%{x}\\u003cbr\\u003ecount=%{y}\\u003cextra\\u003e\\u003c\\u002fextra\\u003e\",\"legendgroup\":\"Sinusitis\",\"marker\":{\"color\":\"#636efa\",\"pattern\":{\"shape\":\"\"}},\"name\":\"Sinusitis\",\"offsetgroup\":\"Sinusitis\",\"orientation\":\"v\",\"showlegend\":true,\"x\":[30.0],\"xaxis\":\"x\",\"yaxis\":\"y\",\"type\":\"histogram\"},{\"alignmentgroup\":\"True\",\"bingroup\":\"x\",\"hovertemplate\":\"Disease=Ulcerative Colitis\\u003cbr\\u003eAge=%{x}\\u003cbr\\u003ecount=%{y}\\u003cextra\\u003e\\u003c\\u002fextra\\u003e\",\"legendgroup\":\"Ulcerative Colitis\",\"marker\":{\"color\":\"#EF553B\",\"pattern\":{\"shape\":\"\"}},\"name\":\"Ulcerative Colitis\",\"offsetgroup\":\"Ulcerative Colitis\",\"orientation\":\"v\",\"showlegend\":true,\"x\":[30.0,30.0,35.0,35.0,50.0],\"xaxis\":\"x\",\"yaxis\":\"y\",\"type\":\"histogram\"},{\"alignmentgroup\":\"True\",\"bingroup\":\"x\",\"hovertemplate\":\"Disease=Bipolar Disorder\\u003cbr\\u003eAge=%{x}\\u003cbr\\u003ecount=%{y}\\u003cextra\\u003e\\u003c\\u002fextra\\u003e\",\"legendgroup\":\"Bipolar Disorder\",\"marker\":{\"color\":\"#00cc96\",\"pattern\":{\"shape\":\"\"}},\"name\":\"Bipolar Disorder\",\"offsetgroup\":\"Bipolar Disorder\",\"orientation\":\"v\",\"showlegend\":true,\"x\":[30.0],\"xaxis\":\"x\",\"yaxis\":\"y\",\"type\":\"histogram\"},{\"alignmentgroup\":\"True\",\"bingroup\":\"x\",\"hovertemplate\":\"Disease=Bronchitis\\u003cbr\\u003eAge=%{x}\\u003cbr\\u003ecount=%{y}\\u003cextra\\u003e\\u003c\\u002fextra\\u003e\",\"legendgroup\":\"Bronchitis\",\"marker\":{\"color\":\"#ab63fa\",\"pattern\":{\"shape\":\"\"}},\"name\":\"Bronchitis\",\"offsetgroup\":\"Bronchitis\",\"orientation\":\"v\",\"showlegend\":true,\"x\":[30.0,30.0,40.0,50.0,55.0,55.0,65.0],\"xaxis\":\"x\",\"yaxis\":\"y\",\"type\":\"histogram\"},{\"alignmentgroup\":\"True\",\"bingroup\":\"x\",\"hovertemplate\":\"Disease=Cerebral Palsy\\u003cbr\\u003eAge=%{x}\\u003cbr\\u003ecount=%{y}\\u003cextra\\u003e\\u003c\\u002fextra\\u003e\",\"legendgroup\":\"Cerebral Palsy\",\"marker\":{\"color\":\"#FFA15A\",\"pattern\":{\"shape\":\"\"}},\"name\":\"Cerebral Palsy\",\"offsetgroup\":\"Cerebral Palsy\",\"orientation\":\"v\",\"showlegend\":true,\"x\":[30.0],\"xaxis\":\"x\",\"yaxis\":\"y\",\"type\":\"histogram\"},{\"alignmentgroup\":\"True\",\"bingroup\":\"x\",\"hovertemplate\":\"Disease=Colorectal Cancer\\u003cbr\\u003eAge=%{x}\\u003cbr\\u003ecount=%{y}\\u003cextra\\u003e\\u003c\\u002fextra\\u003e\",\"legendgroup\":\"Colorectal Cancer\",\"marker\":{\"color\":\"#19d3f3\",\"pattern\":{\"shape\":\"\"}},\"name\":\"Colorectal Cancer\",\"offsetgroup\":\"Colorectal Cancer\",\"orientation\":\"v\",\"showlegend\":true,\"x\":[30.0],\"xaxis\":\"x\",\"yaxis\":\"y\",\"type\":\"histogram\"},{\"alignmentgroup\":\"True\",\"bingroup\":\"x\",\"hovertemplate\":\"Disease=Hypertensive Heart Disease\\u003cbr\\u003eAge=%{x}\\u003cbr\\u003ecount=%{y}\\u003cextra\\u003e\\u003c\\u002fextra\\u003e\",\"legendgroup\":\"Hypertensive Heart Disease\",\"marker\":{\"color\":\"#FF6692\",\"pattern\":{\"shape\":\"\"}},\"name\":\"Hypertensive Heart Disease\",\"offsetgroup\":\"Hypertensive Heart Disease\",\"orientation\":\"v\",\"showlegend\":true,\"x\":[30.0],\"xaxis\":\"x\",\"yaxis\":\"y\",\"type\":\"histogram\"},{\"alignmentgroup\":\"True\",\"bingroup\":\"x\",\"hovertemplate\":\"Disease=Multiple Sclerosis\\u003cbr\\u003eAge=%{x}\\u003cbr\\u003ecount=%{y}\\u003cextra\\u003e\\u003c\\u002fextra\\u003e\",\"legendgroup\":\"Multiple Sclerosis\",\"marker\":{\"color\":\"#B6E880\",\"pattern\":{\"shape\":\"\"}},\"name\":\"Multiple Sclerosis\",\"offsetgroup\":\"Multiple Sclerosis\",\"orientation\":\"v\",\"showlegend\":true,\"x\":[30.0,45.0,52.0],\"xaxis\":\"x\",\"yaxis\":\"y\",\"type\":\"histogram\"},{\"alignmentgroup\":\"True\",\"bingroup\":\"x\",\"hovertemplate\":\"Disease=Myocardial Infarction (Heart...\\u003cbr\\u003eAge=%{x}\\u003cbr\\u003ecount=%{y}\\u003cextra\\u003e\\u003c\\u002fextra\\u003e\",\"legendgroup\":\"Myocardial Infarction (Heart...\",\"marker\":{\"color\":\"#FF97FF\",\"pattern\":{\"shape\":\"\"}},\"name\":\"Myocardial Infarction (Heart...\",\"offsetgroup\":\"Myocardial Infarction (Heart...\",\"orientation\":\"v\",\"showlegend\":true,\"x\":[30.0],\"xaxis\":\"x\",\"yaxis\":\"y\",\"type\":\"histogram\"},{\"alignmentgroup\":\"True\",\"bingroup\":\"x\",\"hovertemplate\":\"Disease=Urinary Tract Infection (UTI)\\u003cbr\\u003eAge=%{x}\\u003cbr\\u003ecount=%{y}\\u003cextra\\u003e\\u003c\\u002fextra\\u003e\",\"legendgroup\":\"Urinary Tract Infection (UTI)\",\"marker\":{\"color\":\"#FECB52\",\"pattern\":{\"shape\":\"\"}},\"name\":\"Urinary Tract Infection (UTI)\",\"offsetgroup\":\"Urinary Tract Infection (UTI)\",\"orientation\":\"v\",\"showlegend\":true,\"x\":[30.0,35.0,65.0],\"xaxis\":\"x\",\"yaxis\":\"y\",\"type\":\"histogram\"},{\"alignmentgroup\":\"True\",\"bingroup\":\"x\",\"hovertemplate\":\"Disease=Osteoporosis\\u003cbr\\u003eAge=%{x}\\u003cbr\\u003ecount=%{y}\\u003cextra\\u003e\\u003c\\u002fextra\\u003e\",\"legendgroup\":\"Osteoporosis\",\"marker\":{\"color\":\"#636efa\",\"pattern\":{\"shape\":\"\"}},\"name\":\"Osteoporosis\",\"offsetgroup\":\"Osteoporosis\",\"orientation\":\"v\",\"showlegend\":true,\"x\":[31.0,38.0,45.0,55.0,55.0,55.0,55.0,60.0,60.0,60.0,65.0,70.0],\"xaxis\":\"x\",\"yaxis\":\"y\",\"type\":\"histogram\"},{\"alignmentgroup\":\"True\",\"bingroup\":\"x\",\"hovertemplate\":\"Disease=Pneumonia\\u003cbr\\u003eAge=%{x}\\u003cbr\\u003ecount=%{y}\\u003cextra\\u003e\\u003c\\u002fextra\\u003e\",\"legendgroup\":\"Pneumonia\",\"marker\":{\"color\":\"#EF553B\",\"pattern\":{\"shape\":\"\"}},\"name\":\"Pneumonia\",\"offsetgroup\":\"Pneumonia\",\"orientation\":\"v\",\"showlegend\":true,\"x\":[32.0,35.0,38.0,40.0,43.0,45.0,57.0],\"xaxis\":\"x\",\"yaxis\":\"y\",\"type\":\"histogram\"},{\"alignmentgroup\":\"True\",\"bingroup\":\"x\",\"hovertemplate\":\"Disease=Atherosclerosis\\u003cbr\\u003eAge=%{x}\\u003cbr\\u003ecount=%{y}\\u003cextra\\u003e\\u003c\\u002fextra\\u003e\",\"legendgroup\":\"Atherosclerosis\",\"marker\":{\"color\":\"#00cc96\",\"pattern\":{\"shape\":\"\"}},\"name\":\"Atherosclerosis\",\"offsetgroup\":\"Atherosclerosis\",\"orientation\":\"v\",\"showlegend\":true,\"x\":[35.0],\"xaxis\":\"x\",\"yaxis\":\"y\",\"type\":\"histogram\"},{\"alignmentgroup\":\"True\",\"bingroup\":\"x\",\"hovertemplate\":\"Disease=Chronic Obstructive Pulmonary...\\u003cbr\\u003eAge=%{x}\\u003cbr\\u003ecount=%{y}\\u003cextra\\u003e\\u003c\\u002fextra\\u003e\",\"legendgroup\":\"Chronic Obstructive Pulmonary...\",\"marker\":{\"color\":\"#ab63fa\",\"pattern\":{\"shape\":\"\"}},\"name\":\"Chronic Obstructive Pulmonary...\",\"offsetgroup\":\"Chronic Obstructive Pulmonary...\",\"orientation\":\"v\",\"showlegend\":true,\"x\":[35.0],\"xaxis\":\"x\",\"yaxis\":\"y\",\"type\":\"histogram\"},{\"alignmentgroup\":\"True\",\"bingroup\":\"x\",\"hovertemplate\":\"Disease=Epilepsy\\u003cbr\\u003eAge=%{x}\\u003cbr\\u003ecount=%{y}\\u003cextra\\u003e\\u003c\\u002fextra\\u003e\",\"legendgroup\":\"Epilepsy\",\"marker\":{\"color\":\"#FFA15A\",\"pattern\":{\"shape\":\"\"}},\"name\":\"Epilepsy\",\"offsetgroup\":\"Epilepsy\",\"orientation\":\"v\",\"showlegend\":true,\"x\":[35.0],\"xaxis\":\"x\",\"yaxis\":\"y\",\"type\":\"histogram\"},{\"alignmentgroup\":\"True\",\"bingroup\":\"x\",\"hovertemplate\":\"Disease=Hypertension\\u003cbr\\u003eAge=%{x}\\u003cbr\\u003ecount=%{y}\\u003cextra\\u003e\\u003c\\u002fextra\\u003e\",\"legendgroup\":\"Hypertension\",\"marker\":{\"color\":\"#19d3f3\",\"pattern\":{\"shape\":\"\"}},\"name\":\"Hypertension\",\"offsetgroup\":\"Hypertension\",\"orientation\":\"v\",\"showlegend\":true,\"x\":[35.0,45.0,48.0,50.0,52.0,55.0,55.0,60.0,60.0,60.0],\"xaxis\":\"x\",\"yaxis\":\"y\",\"type\":\"histogram\"},{\"alignmentgroup\":\"True\",\"bingroup\":\"x\",\"hovertemplate\":\"Disease=Obsessive-Compulsive Disorde...\\u003cbr\\u003eAge=%{x}\\u003cbr\\u003ecount=%{y}\\u003cextra\\u003e\\u003c\\u002fextra\\u003e\",\"legendgroup\":\"Obsessive-Compulsive Disorde...\",\"marker\":{\"color\":\"#FF6692\",\"pattern\":{\"shape\":\"\"}},\"name\":\"Obsessive-Compulsive Disorde...\",\"offsetgroup\":\"Obsessive-Compulsive Disorde...\",\"orientation\":\"v\",\"showlegend\":true,\"x\":[35.0],\"xaxis\":\"x\",\"yaxis\":\"y\",\"type\":\"histogram\"},{\"alignmentgroup\":\"True\",\"bingroup\":\"x\",\"hovertemplate\":\"Disease=Psoriasis\\u003cbr\\u003eAge=%{x}\\u003cbr\\u003ecount=%{y}\\u003cextra\\u003e\\u003c\\u002fextra\\u003e\",\"legendgroup\":\"Psoriasis\",\"marker\":{\"color\":\"#B6E880\",\"pattern\":{\"shape\":\"\"}},\"name\":\"Psoriasis\",\"offsetgroup\":\"Psoriasis\",\"orientation\":\"v\",\"showlegend\":true,\"x\":[35.0,35.0,40.0,40.0,40.0],\"xaxis\":\"x\",\"yaxis\":\"y\",\"type\":\"histogram\"},{\"alignmentgroup\":\"True\",\"bingroup\":\"x\",\"hovertemplate\":\"Disease=Rubella\\u003cbr\\u003eAge=%{x}\\u003cbr\\u003ecount=%{y}\\u003cextra\\u003e\\u003c\\u002fextra\\u003e\",\"legendgroup\":\"Rubella\",\"marker\":{\"color\":\"#FF97FF\",\"pattern\":{\"shape\":\"\"}},\"name\":\"Rubella\",\"offsetgroup\":\"Rubella\",\"orientation\":\"v\",\"showlegend\":true,\"x\":[35.0],\"xaxis\":\"x\",\"yaxis\":\"y\",\"type\":\"histogram\"},{\"alignmentgroup\":\"True\",\"bingroup\":\"x\",\"hovertemplate\":\"Disease=Cirrhosis\\u003cbr\\u003eAge=%{x}\\u003cbr\\u003ecount=%{y}\\u003cextra\\u003e\\u003c\\u002fextra\\u003e\",\"legendgroup\":\"Cirrhosis\",\"marker\":{\"color\":\"#FECB52\",\"pattern\":{\"shape\":\"\"}},\"name\":\"Cirrhosis\",\"offsetgroup\":\"Cirrhosis\",\"orientation\":\"v\",\"showlegend\":true,\"x\":[35.0],\"xaxis\":\"x\",\"yaxis\":\"y\",\"type\":\"histogram\"},{\"alignmentgroup\":\"True\",\"bingroup\":\"x\",\"hovertemplate\":\"Disease=Conjunctivitis (Pink Eye)\\u003cbr\\u003eAge=%{x}\\u003cbr\\u003ecount=%{y}\\u003cextra\\u003e\\u003c\\u002fextra\\u003e\",\"legendgroup\":\"Conjunctivitis (Pink Eye)\",\"marker\":{\"color\":\"#636efa\",\"pattern\":{\"shape\":\"\"}},\"name\":\"Conjunctivitis (Pink Eye)\",\"offsetgroup\":\"Conjunctivitis (Pink Eye)\",\"orientation\":\"v\",\"showlegend\":true,\"x\":[35.0],\"xaxis\":\"x\",\"yaxis\":\"y\",\"type\":\"histogram\"},{\"alignmentgroup\":\"True\",\"bingroup\":\"x\",\"hovertemplate\":\"Disease=Liver Disease\\u003cbr\\u003eAge=%{x}\\u003cbr\\u003ecount=%{y}\\u003cextra\\u003e\\u003c\\u002fextra\\u003e\",\"legendgroup\":\"Liver Disease\",\"marker\":{\"color\":\"#EF553B\",\"pattern\":{\"shape\":\"\"}},\"name\":\"Liver Disease\",\"offsetgroup\":\"Liver Disease\",\"orientation\":\"v\",\"showlegend\":true,\"x\":[35.0,38.0,42.0,45.0,55.0],\"xaxis\":\"x\",\"yaxis\":\"y\",\"type\":\"histogram\"},{\"alignmentgroup\":\"True\",\"bingroup\":\"x\",\"hovertemplate\":\"Disease=Malaria\\u003cbr\\u003eAge=%{x}\\u003cbr\\u003ecount=%{y}\\u003cextra\\u003e\\u003c\\u002fextra\\u003e\",\"legendgroup\":\"Malaria\",\"marker\":{\"color\":\"#00cc96\",\"pattern\":{\"shape\":\"\"}},\"name\":\"Malaria\",\"offsetgroup\":\"Malaria\",\"orientation\":\"v\",\"showlegend\":true,\"x\":[35.0],\"xaxis\":\"x\",\"yaxis\":\"y\",\"type\":\"histogram\"},{\"alignmentgroup\":\"True\",\"bingroup\":\"x\",\"hovertemplate\":\"Disease=Spina Bifida\\u003cbr\\u003eAge=%{x}\\u003cbr\\u003ecount=%{y}\\u003cextra\\u003e\\u003c\\u002fextra\\u003e\",\"legendgroup\":\"Spina Bifida\",\"marker\":{\"color\":\"#ab63fa\",\"pattern\":{\"shape\":\"\"}},\"name\":\"Spina Bifida\",\"offsetgroup\":\"Spina Bifida\",\"orientation\":\"v\",\"showlegend\":true,\"x\":[35.0],\"xaxis\":\"x\",\"yaxis\":\"y\",\"type\":\"histogram\"},{\"alignmentgroup\":\"True\",\"bingroup\":\"x\",\"hovertemplate\":\"Disease=Kidney Disease\\u003cbr\\u003eAge=%{x}\\u003cbr\\u003ecount=%{y}\\u003cextra\\u003e\\u003c\\u002fextra\\u003e\",\"legendgroup\":\"Kidney Disease\",\"marker\":{\"color\":\"#FFA15A\",\"pattern\":{\"shape\":\"\"}},\"name\":\"Kidney Disease\",\"offsetgroup\":\"Kidney Disease\",\"orientation\":\"v\",\"showlegend\":true,\"x\":[38.0,42.0,45.0,50.0,60.0],\"xaxis\":\"x\",\"yaxis\":\"y\",\"type\":\"histogram\"},{\"alignmentgroup\":\"True\",\"bingroup\":\"x\",\"hovertemplate\":\"Disease=Osteoarthritis\\u003cbr\\u003eAge=%{x}\\u003cbr\\u003ecount=%{y}\\u003cextra\\u003e\\u003c\\u002fextra\\u003e\",\"legendgroup\":\"Osteoarthritis\",\"marker\":{\"color\":\"#19d3f3\",\"pattern\":{\"shape\":\"\"}},\"name\":\"Osteoarthritis\",\"offsetgroup\":\"Osteoarthritis\",\"orientation\":\"v\",\"showlegend\":true,\"x\":[38.0,40.0,42.0,45.0,55.0,60.0],\"xaxis\":\"x\",\"yaxis\":\"y\",\"type\":\"histogram\"},{\"alignmentgroup\":\"True\",\"bingroup\":\"x\",\"hovertemplate\":\"Disease=Klinefelter Syndrome\\u003cbr\\u003eAge=%{x}\\u003cbr\\u003ecount=%{y}\\u003cextra\\u003e\\u003c\\u002fextra\\u003e\",\"legendgroup\":\"Klinefelter Syndrome\",\"marker\":{\"color\":\"#FF6692\",\"pattern\":{\"shape\":\"\"}},\"name\":\"Klinefelter Syndrome\",\"offsetgroup\":\"Klinefelter Syndrome\",\"orientation\":\"v\",\"showlegend\":true,\"x\":[39.0,50.0],\"xaxis\":\"x\",\"yaxis\":\"y\",\"type\":\"histogram\"},{\"alignmentgroup\":\"True\",\"bingroup\":\"x\",\"hovertemplate\":\"Disease=Acne\\u003cbr\\u003eAge=%{x}\\u003cbr\\u003ecount=%{y}\\u003cextra\\u003e\\u003c\\u002fextra\\u003e\",\"legendgroup\":\"Acne\",\"marker\":{\"color\":\"#B6E880\",\"pattern\":{\"shape\":\"\"}},\"name\":\"Acne\",\"offsetgroup\":\"Acne\",\"orientation\":\"v\",\"showlegend\":true,\"x\":[40.0],\"xaxis\":\"x\",\"yaxis\":\"y\",\"type\":\"histogram\"},{\"alignmentgroup\":\"True\",\"bingroup\":\"x\",\"hovertemplate\":\"Disease=Brain Tumor\\u003cbr\\u003eAge=%{x}\\u003cbr\\u003ecount=%{y}\\u003cextra\\u003e\\u003c\\u002fextra\\u003e\",\"legendgroup\":\"Brain Tumor\",\"marker\":{\"color\":\"#FF97FF\",\"pattern\":{\"shape\":\"\"}},\"name\":\"Brain Tumor\",\"offsetgroup\":\"Brain Tumor\",\"orientation\":\"v\",\"showlegend\":true,\"x\":[40.0],\"xaxis\":\"x\",\"yaxis\":\"y\",\"type\":\"histogram\"},{\"alignmentgroup\":\"True\",\"bingroup\":\"x\",\"hovertemplate\":\"Disease=Cystic Fibrosis\\u003cbr\\u003eAge=%{x}\\u003cbr\\u003ecount=%{y}\\u003cextra\\u003e\\u003c\\u002fextra\\u003e\",\"legendgroup\":\"Cystic Fibrosis\",\"marker\":{\"color\":\"#FECB52\",\"pattern\":{\"shape\":\"\"}},\"name\":\"Cystic Fibrosis\",\"offsetgroup\":\"Cystic Fibrosis\",\"orientation\":\"v\",\"showlegend\":true,\"x\":[40.0],\"xaxis\":\"x\",\"yaxis\":\"y\",\"type\":\"histogram\"},{\"alignmentgroup\":\"True\",\"bingroup\":\"x\",\"hovertemplate\":\"Disease=Glaucoma\\u003cbr\\u003eAge=%{x}\\u003cbr\\u003ecount=%{y}\\u003cextra\\u003e\\u003c\\u002fextra\\u003e\",\"legendgroup\":\"Glaucoma\",\"marker\":{\"color\":\"#636efa\",\"pattern\":{\"shape\":\"\"}},\"name\":\"Glaucoma\",\"offsetgroup\":\"Glaucoma\",\"orientation\":\"v\",\"showlegend\":true,\"x\":[40.0],\"xaxis\":\"x\",\"yaxis\":\"y\",\"type\":\"histogram\"},{\"alignmentgroup\":\"True\",\"bingroup\":\"x\",\"hovertemplate\":\"Disease=Rabies\\u003cbr\\u003eAge=%{x}\\u003cbr\\u003ecount=%{y}\\u003cextra\\u003e\\u003c\\u002fextra\\u003e\",\"legendgroup\":\"Rabies\",\"marker\":{\"color\":\"#EF553B\",\"pattern\":{\"shape\":\"\"}},\"name\":\"Rabies\",\"offsetgroup\":\"Rabies\",\"orientation\":\"v\",\"showlegend\":true,\"x\":[40.0],\"xaxis\":\"x\",\"yaxis\":\"y\",\"type\":\"histogram\"},{\"alignmentgroup\":\"True\",\"bingroup\":\"x\",\"hovertemplate\":\"Disease=Chickenpox\\u003cbr\\u003eAge=%{x}\\u003cbr\\u003ecount=%{y}\\u003cextra\\u003e\\u003c\\u002fextra\\u003e\",\"legendgroup\":\"Chickenpox\",\"marker\":{\"color\":\"#00cc96\",\"pattern\":{\"shape\":\"\"}},\"name\":\"Chickenpox\",\"offsetgroup\":\"Chickenpox\",\"orientation\":\"v\",\"showlegend\":true,\"x\":[40.0],\"xaxis\":\"x\",\"yaxis\":\"y\",\"type\":\"histogram\"},{\"alignmentgroup\":\"True\",\"bingroup\":\"x\",\"hovertemplate\":\"Disease=Coronary Artery Disease\\u003cbr\\u003eAge=%{x}\\u003cbr\\u003ecount=%{y}\\u003cextra\\u003e\\u003c\\u002fextra\\u003e\",\"legendgroup\":\"Coronary Artery Disease\",\"marker\":{\"color\":\"#ab63fa\",\"pattern\":{\"shape\":\"\"}},\"name\":\"Coronary Artery Disease\",\"offsetgroup\":\"Coronary Artery Disease\",\"orientation\":\"v\",\"showlegend\":true,\"x\":[40.0,55.0,60.0],\"xaxis\":\"x\",\"yaxis\":\"y\",\"type\":\"histogram\"},{\"alignmentgroup\":\"True\",\"bingroup\":\"x\",\"hovertemplate\":\"Disease=Eating Disorders (Anorexia,...\\u003cbr\\u003eAge=%{x}\\u003cbr\\u003ecount=%{y}\\u003cextra\\u003e\\u003c\\u002fextra\\u003e\",\"legendgroup\":\"Eating Disorders (Anorexia,...\",\"marker\":{\"color\":\"#FFA15A\",\"pattern\":{\"shape\":\"\"}},\"name\":\"Eating Disorders (Anorexia,...\",\"offsetgroup\":\"Eating Disorders (Anorexia,...\",\"orientation\":\"v\",\"showlegend\":true,\"x\":[40.0],\"xaxis\":\"x\",\"yaxis\":\"y\",\"type\":\"histogram\"},{\"alignmentgroup\":\"True\",\"bingroup\":\"x\",\"hovertemplate\":\"Disease=Fibromyalgia\\u003cbr\\u003eAge=%{x}\\u003cbr\\u003ecount=%{y}\\u003cextra\\u003e\\u003c\\u002fextra\\u003e\",\"legendgroup\":\"Fibromyalgia\",\"marker\":{\"color\":\"#19d3f3\",\"pattern\":{\"shape\":\"\"}},\"name\":\"Fibromyalgia\",\"offsetgroup\":\"Fibromyalgia\",\"orientation\":\"v\",\"showlegend\":true,\"x\":[40.0],\"xaxis\":\"x\",\"yaxis\":\"y\",\"type\":\"histogram\"},{\"alignmentgroup\":\"True\",\"bingroup\":\"x\",\"hovertemplate\":\"Disease=Hemophilia\\u003cbr\\u003eAge=%{x}\\u003cbr\\u003ecount=%{y}\\u003cextra\\u003e\\u003c\\u002fextra\\u003e\",\"legendgroup\":\"Hemophilia\",\"marker\":{\"color\":\"#FF6692\",\"pattern\":{\"shape\":\"\"}},\"name\":\"Hemophilia\",\"offsetgroup\":\"Hemophilia\",\"orientation\":\"v\",\"showlegend\":true,\"x\":[40.0,60.0],\"xaxis\":\"x\",\"yaxis\":\"y\",\"type\":\"histogram\"},{\"alignmentgroup\":\"True\",\"bingroup\":\"x\",\"hovertemplate\":\"Disease=Hypoglycemia\\u003cbr\\u003eAge=%{x}\\u003cbr\\u003ecount=%{y}\\u003cextra\\u003e\\u003c\\u002fextra\\u003e\",\"legendgroup\":\"Hypoglycemia\",\"marker\":{\"color\":\"#B6E880\",\"pattern\":{\"shape\":\"\"}},\"name\":\"Hypoglycemia\",\"offsetgroup\":\"Hypoglycemia\",\"orientation\":\"v\",\"showlegend\":true,\"x\":[40.0],\"xaxis\":\"x\",\"yaxis\":\"y\",\"type\":\"histogram\"},{\"alignmentgroup\":\"True\",\"bingroup\":\"x\",\"hovertemplate\":\"Disease=Lymphoma\\u003cbr\\u003eAge=%{x}\\u003cbr\\u003ecount=%{y}\\u003cextra\\u003e\\u003c\\u002fextra\\u003e\",\"legendgroup\":\"Lymphoma\",\"marker\":{\"color\":\"#FF97FF\",\"pattern\":{\"shape\":\"\"}},\"name\":\"Lymphoma\",\"offsetgroup\":\"Lymphoma\",\"orientation\":\"v\",\"showlegend\":true,\"x\":[40.0],\"xaxis\":\"x\",\"yaxis\":\"y\",\"type\":\"histogram\"},{\"alignmentgroup\":\"True\",\"bingroup\":\"x\",\"hovertemplate\":\"Disease=Tuberculosis\\u003cbr\\u003eAge=%{x}\\u003cbr\\u003ecount=%{y}\\u003cextra\\u003e\\u003c\\u002fextra\\u003e\",\"legendgroup\":\"Tuberculosis\",\"marker\":{\"color\":\"#FECB52\",\"pattern\":{\"shape\":\"\"}},\"name\":\"Tuberculosis\",\"offsetgroup\":\"Tuberculosis\",\"orientation\":\"v\",\"showlegend\":true,\"x\":[40.0,60.0],\"xaxis\":\"x\",\"yaxis\":\"y\",\"type\":\"histogram\"},{\"alignmentgroup\":\"True\",\"bingroup\":\"x\",\"hovertemplate\":\"Disease=Lung Cancer\\u003cbr\\u003eAge=%{x}\\u003cbr\\u003ecount=%{y}\\u003cextra\\u003e\\u003c\\u002fextra\\u003e\",\"legendgroup\":\"Lung Cancer\",\"marker\":{\"color\":\"#636efa\",\"pattern\":{\"shape\":\"\"}},\"name\":\"Lung Cancer\",\"offsetgroup\":\"Lung Cancer\",\"orientation\":\"v\",\"showlegend\":true,\"x\":[42.0,65.0,65.0],\"xaxis\":\"x\",\"yaxis\":\"y\",\"type\":\"histogram\"},{\"alignmentgroup\":\"True\",\"bingroup\":\"x\",\"hovertemplate\":\"Disease=Hypothyroidism\\u003cbr\\u003eAge=%{x}\\u003cbr\\u003ecount=%{y}\\u003cextra\\u003e\\u003c\\u002fextra\\u003e\",\"legendgroup\":\"Hypothyroidism\",\"marker\":{\"color\":\"#EF553B\",\"pattern\":{\"shape\":\"\"}},\"name\":\"Hypothyroidism\",\"offsetgroup\":\"Hypothyroidism\",\"orientation\":\"v\",\"showlegend\":true,\"x\":[42.0,45.0,48.0,50.0,55.0],\"xaxis\":\"x\",\"yaxis\":\"y\",\"type\":\"histogram\"},{\"alignmentgroup\":\"True\",\"bingroup\":\"x\",\"hovertemplate\":\"Disease=Autism Spectrum Disorder (ASD)\\u003cbr\\u003eAge=%{x}\\u003cbr\\u003ecount=%{y}\\u003cextra\\u003e\\u003c\\u002fextra\\u003e\",\"legendgroup\":\"Autism Spectrum Disorder (ASD)\",\"marker\":{\"color\":\"#00cc96\",\"pattern\":{\"shape\":\"\"}},\"name\":\"Autism Spectrum Disorder (ASD)\",\"offsetgroup\":\"Autism Spectrum Disorder (ASD)\",\"orientation\":\"v\",\"showlegend\":true,\"x\":[45.0],\"xaxis\":\"x\",\"yaxis\":\"y\",\"type\":\"histogram\"},{\"alignmentgroup\":\"True\",\"bingroup\":\"x\",\"hovertemplate\":\"Disease=Crohn's Disease\\u003cbr\\u003eAge=%{x}\\u003cbr\\u003ecount=%{y}\\u003cextra\\u003e\\u003c\\u002fextra\\u003e\",\"legendgroup\":\"Crohn's Disease\",\"marker\":{\"color\":\"#ab63fa\",\"pattern\":{\"shape\":\"\"}},\"name\":\"Crohn's Disease\",\"offsetgroup\":\"Crohn's Disease\",\"orientation\":\"v\",\"showlegend\":true,\"x\":[45.0,45.0,45.0,50.0,50.0],\"xaxis\":\"x\",\"yaxis\":\"y\",\"type\":\"histogram\"},{\"alignmentgroup\":\"True\",\"bingroup\":\"x\",\"hovertemplate\":\"Disease=Hyperglycemia\\u003cbr\\u003eAge=%{x}\\u003cbr\\u003ecount=%{y}\\u003cextra\\u003e\\u003c\\u002fextra\\u003e\",\"legendgroup\":\"Hyperglycemia\",\"marker\":{\"color\":\"#FFA15A\",\"pattern\":{\"shape\":\"\"}},\"name\":\"Hyperglycemia\",\"offsetgroup\":\"Hyperglycemia\",\"orientation\":\"v\",\"showlegend\":true,\"x\":[45.0],\"xaxis\":\"x\",\"yaxis\":\"y\",\"type\":\"histogram\"},{\"alignmentgroup\":\"True\",\"bingroup\":\"x\",\"hovertemplate\":\"Disease=Melanoma\\u003cbr\\u003eAge=%{x}\\u003cbr\\u003ecount=%{y}\\u003cextra\\u003e\\u003c\\u002fextra\\u003e\",\"legendgroup\":\"Melanoma\",\"marker\":{\"color\":\"#19d3f3\",\"pattern\":{\"shape\":\"\"}},\"name\":\"Melanoma\",\"offsetgroup\":\"Melanoma\",\"orientation\":\"v\",\"showlegend\":true,\"x\":[45.0],\"xaxis\":\"x\",\"yaxis\":\"y\",\"type\":\"histogram\"},{\"alignmentgroup\":\"True\",\"bingroup\":\"x\",\"hovertemplate\":\"Disease=Ovarian Cancer\\u003cbr\\u003eAge=%{x}\\u003cbr\\u003ecount=%{y}\\u003cextra\\u003e\\u003c\\u002fextra\\u003e\",\"legendgroup\":\"Ovarian Cancer\",\"marker\":{\"color\":\"#FF6692\",\"pattern\":{\"shape\":\"\"}},\"name\":\"Ovarian Cancer\",\"offsetgroup\":\"Ovarian Cancer\",\"orientation\":\"v\",\"showlegend\":true,\"x\":[45.0],\"xaxis\":\"x\",\"yaxis\":\"y\",\"type\":\"histogram\"},{\"alignmentgroup\":\"True\",\"bingroup\":\"x\",\"hovertemplate\":\"Disease=Turner Syndrome\\u003cbr\\u003eAge=%{x}\\u003cbr\\u003ecount=%{y}\\u003cextra\\u003e\\u003c\\u002fextra\\u003e\",\"legendgroup\":\"Turner Syndrome\",\"marker\":{\"color\":\"#B6E880\",\"pattern\":{\"shape\":\"\"}},\"name\":\"Turner Syndrome\",\"offsetgroup\":\"Turner Syndrome\",\"orientation\":\"v\",\"showlegend\":true,\"x\":[45.0],\"xaxis\":\"x\",\"yaxis\":\"y\",\"type\":\"histogram\"},{\"alignmentgroup\":\"True\",\"bingroup\":\"x\",\"hovertemplate\":\"Disease=Zika Virus\\u003cbr\\u003eAge=%{x}\\u003cbr\\u003ecount=%{y}\\u003cextra\\u003e\\u003c\\u002fextra\\u003e\",\"legendgroup\":\"Zika Virus\",\"marker\":{\"color\":\"#FF97FF\",\"pattern\":{\"shape\":\"\"}},\"name\":\"Zika Virus\",\"offsetgroup\":\"Zika Virus\",\"orientation\":\"v\",\"showlegend\":true,\"x\":[45.0],\"xaxis\":\"x\",\"yaxis\":\"y\",\"type\":\"histogram\"},{\"alignmentgroup\":\"True\",\"bingroup\":\"x\",\"hovertemplate\":\"Disease=Cataracts\\u003cbr\\u003eAge=%{x}\\u003cbr\\u003ecount=%{y}\\u003cextra\\u003e\\u003c\\u002fextra\\u003e\",\"legendgroup\":\"Cataracts\",\"marker\":{\"color\":\"#FECB52\",\"pattern\":{\"shape\":\"\"}},\"name\":\"Cataracts\",\"offsetgroup\":\"Cataracts\",\"orientation\":\"v\",\"showlegend\":true,\"x\":[45.0],\"xaxis\":\"x\",\"yaxis\":\"y\",\"type\":\"histogram\"},{\"alignmentgroup\":\"True\",\"bingroup\":\"x\",\"hovertemplate\":\"Disease=Pneumocystis Pneumonia (PCP)\\u003cbr\\u003eAge=%{x}\\u003cbr\\u003ecount=%{y}\\u003cextra\\u003e\\u003c\\u002fextra\\u003e\",\"legendgroup\":\"Pneumocystis Pneumonia (PCP)\",\"marker\":{\"color\":\"#636efa\",\"pattern\":{\"shape\":\"\"}},\"name\":\"Pneumocystis Pneumonia (PCP)\",\"offsetgroup\":\"Pneumocystis Pneumonia (PCP)\",\"orientation\":\"v\",\"showlegend\":true,\"x\":[45.0],\"xaxis\":\"x\",\"yaxis\":\"y\",\"type\":\"histogram\"},{\"alignmentgroup\":\"True\",\"bingroup\":\"x\",\"hovertemplate\":\"Disease=Scoliosis\\u003cbr\\u003eAge=%{x}\\u003cbr\\u003ecount=%{y}\\u003cextra\\u003e\\u003c\\u002fextra\\u003e\",\"legendgroup\":\"Scoliosis\",\"marker\":{\"color\":\"#EF553B\",\"pattern\":{\"shape\":\"\"}},\"name\":\"Scoliosis\",\"offsetgroup\":\"Scoliosis\",\"orientation\":\"v\",\"showlegend\":true,\"x\":[45.0],\"xaxis\":\"x\",\"yaxis\":\"y\",\"type\":\"histogram\"},{\"alignmentgroup\":\"True\",\"bingroup\":\"x\",\"hovertemplate\":\"Disease=Sickle Cell Anemia\\u003cbr\\u003eAge=%{x}\\u003cbr\\u003ecount=%{y}\\u003cextra\\u003e\\u003c\\u002fextra\\u003e\",\"legendgroup\":\"Sickle Cell Anemia\",\"marker\":{\"color\":\"#00cc96\",\"pattern\":{\"shape\":\"\"}},\"name\":\"Sickle Cell Anemia\",\"offsetgroup\":\"Sickle Cell Anemia\",\"orientation\":\"v\",\"showlegend\":true,\"x\":[45.0],\"xaxis\":\"x\",\"yaxis\":\"y\",\"type\":\"histogram\"},{\"alignmentgroup\":\"True\",\"bingroup\":\"x\",\"hovertemplate\":\"Disease=Tetanus\\u003cbr\\u003eAge=%{x}\\u003cbr\\u003ecount=%{y}\\u003cextra\\u003e\\u003c\\u002fextra\\u003e\",\"legendgroup\":\"Tetanus\",\"marker\":{\"color\":\"#ab63fa\",\"pattern\":{\"shape\":\"\"}},\"name\":\"Tetanus\",\"offsetgroup\":\"Tetanus\",\"orientation\":\"v\",\"showlegend\":true,\"x\":[45.0],\"xaxis\":\"x\",\"yaxis\":\"y\",\"type\":\"histogram\"},{\"alignmentgroup\":\"True\",\"bingroup\":\"x\",\"hovertemplate\":\"Disease=Anemia\\u003cbr\\u003eAge=%{x}\\u003cbr\\u003ecount=%{y}\\u003cextra\\u003e\\u003c\\u002fextra\\u003e\",\"legendgroup\":\"Anemia\",\"marker\":{\"color\":\"#FFA15A\",\"pattern\":{\"shape\":\"\"}},\"name\":\"Anemia\",\"offsetgroup\":\"Anemia\",\"orientation\":\"v\",\"showlegend\":true,\"x\":[50.0],\"xaxis\":\"x\",\"yaxis\":\"y\",\"type\":\"histogram\"},{\"alignmentgroup\":\"True\",\"bingroup\":\"x\",\"hovertemplate\":\"Disease=Cholera\\u003cbr\\u003eAge=%{x}\\u003cbr\\u003ecount=%{y}\\u003cextra\\u003e\\u003c\\u002fextra\\u003e\",\"legendgroup\":\"Cholera\",\"marker\":{\"color\":\"#19d3f3\",\"pattern\":{\"shape\":\"\"}},\"name\":\"Cholera\",\"offsetgroup\":\"Cholera\",\"orientation\":\"v\",\"showlegend\":true,\"x\":[50.0],\"xaxis\":\"x\",\"yaxis\":\"y\",\"type\":\"histogram\"},{\"alignmentgroup\":\"True\",\"bingroup\":\"x\",\"hovertemplate\":\"Disease=Endometriosis\\u003cbr\\u003eAge=%{x}\\u003cbr\\u003ecount=%{y}\\u003cextra\\u003e\\u003c\\u002fextra\\u003e\",\"legendgroup\":\"Endometriosis\",\"marker\":{\"color\":\"#FF6692\",\"pattern\":{\"shape\":\"\"}},\"name\":\"Endometriosis\",\"offsetgroup\":\"Endometriosis\",\"orientation\":\"v\",\"showlegend\":true,\"x\":[50.0],\"xaxis\":\"x\",\"yaxis\":\"y\",\"type\":\"histogram\"},{\"alignmentgroup\":\"True\",\"bingroup\":\"x\",\"hovertemplate\":\"Disease=Sepsis\\u003cbr\\u003eAge=%{x}\\u003cbr\\u003ecount=%{y}\\u003cextra\\u003e\\u003c\\u002fextra\\u003e\",\"legendgroup\":\"Sepsis\",\"marker\":{\"color\":\"#B6E880\",\"pattern\":{\"shape\":\"\"}},\"name\":\"Sepsis\",\"offsetgroup\":\"Sepsis\",\"orientation\":\"v\",\"showlegend\":true,\"x\":[50.0],\"xaxis\":\"x\",\"yaxis\":\"y\",\"type\":\"histogram\"},{\"alignmentgroup\":\"True\",\"bingroup\":\"x\",\"hovertemplate\":\"Disease=Sleep Apnea\\u003cbr\\u003eAge=%{x}\\u003cbr\\u003ecount=%{y}\\u003cextra\\u003e\\u003c\\u002fextra\\u003e\",\"legendgroup\":\"Sleep Apnea\",\"marker\":{\"color\":\"#FF97FF\",\"pattern\":{\"shape\":\"\"}},\"name\":\"Sleep Apnea\",\"offsetgroup\":\"Sleep Apnea\",\"orientation\":\"v\",\"showlegend\":true,\"x\":[50.0],\"xaxis\":\"x\",\"yaxis\":\"y\",\"type\":\"histogram\"},{\"alignmentgroup\":\"True\",\"bingroup\":\"x\",\"hovertemplate\":\"Disease=Down Syndrome\\u003cbr\\u003eAge=%{x}\\u003cbr\\u003ecount=%{y}\\u003cextra\\u003e\\u003c\\u002fextra\\u003e\",\"legendgroup\":\"Down Syndrome\",\"marker\":{\"color\":\"#FECB52\",\"pattern\":{\"shape\":\"\"}},\"name\":\"Down Syndrome\",\"offsetgroup\":\"Down Syndrome\",\"orientation\":\"v\",\"showlegend\":true,\"x\":[50.0],\"xaxis\":\"x\",\"yaxis\":\"y\",\"type\":\"histogram\"},{\"alignmentgroup\":\"True\",\"bingroup\":\"x\",\"hovertemplate\":\"Disease=Ebola Virus\\u003cbr\\u003eAge=%{x}\\u003cbr\\u003ecount=%{y}\\u003cextra\\u003e\\u003c\\u002fextra\\u003e\",\"legendgroup\":\"Ebola Virus\",\"marker\":{\"color\":\"#636efa\",\"pattern\":{\"shape\":\"\"}},\"name\":\"Ebola Virus\",\"offsetgroup\":\"Ebola Virus\",\"orientation\":\"v\",\"showlegend\":true,\"x\":[50.0],\"xaxis\":\"x\",\"yaxis\":\"y\",\"type\":\"histogram\"},{\"alignmentgroup\":\"True\",\"bingroup\":\"x\",\"hovertemplate\":\"Disease=Lyme Disease\\u003cbr\\u003eAge=%{x}\\u003cbr\\u003ecount=%{y}\\u003cextra\\u003e\\u003c\\u002fextra\\u003e\",\"legendgroup\":\"Lyme Disease\",\"marker\":{\"color\":\"#EF553B\",\"pattern\":{\"shape\":\"\"}},\"name\":\"Lyme Disease\",\"offsetgroup\":\"Lyme Disease\",\"orientation\":\"v\",\"showlegend\":true,\"x\":[50.0],\"xaxis\":\"x\",\"yaxis\":\"y\",\"type\":\"histogram\"},{\"alignmentgroup\":\"True\",\"bingroup\":\"x\",\"hovertemplate\":\"Disease=Pancreatic Cancer\\u003cbr\\u003eAge=%{x}\\u003cbr\\u003ecount=%{y}\\u003cextra\\u003e\\u003c\\u002fextra\\u003e\",\"legendgroup\":\"Pancreatic Cancer\",\"marker\":{\"color\":\"#00cc96\",\"pattern\":{\"shape\":\"\"}},\"name\":\"Pancreatic Cancer\",\"offsetgroup\":\"Pancreatic Cancer\",\"orientation\":\"v\",\"showlegend\":true,\"x\":[50.0],\"xaxis\":\"x\",\"yaxis\":\"y\",\"type\":\"histogram\"},{\"alignmentgroup\":\"True\",\"bingroup\":\"x\",\"hovertemplate\":\"Disease=Pneumothorax\\u003cbr\\u003eAge=%{x}\\u003cbr\\u003ecount=%{y}\\u003cextra\\u003e\\u003c\\u002fextra\\u003e\",\"legendgroup\":\"Pneumothorax\",\"marker\":{\"color\":\"#ab63fa\",\"pattern\":{\"shape\":\"\"}},\"name\":\"Pneumothorax\",\"offsetgroup\":\"Pneumothorax\",\"orientation\":\"v\",\"showlegend\":true,\"x\":[50.0],\"xaxis\":\"x\",\"yaxis\":\"y\",\"type\":\"histogram\"},{\"alignmentgroup\":\"True\",\"bingroup\":\"x\",\"hovertemplate\":\"Disease=Appendicitis\\u003cbr\\u003eAge=%{x}\\u003cbr\\u003ecount=%{y}\\u003cextra\\u003e\\u003c\\u002fextra\\u003e\",\"legendgroup\":\"Appendicitis\",\"marker\":{\"color\":\"#FFA15A\",\"pattern\":{\"shape\":\"\"}},\"name\":\"Appendicitis\",\"offsetgroup\":\"Appendicitis\",\"orientation\":\"v\",\"showlegend\":true,\"x\":[55.0],\"xaxis\":\"x\",\"yaxis\":\"y\",\"type\":\"histogram\"},{\"alignmentgroup\":\"True\",\"bingroup\":\"x\",\"hovertemplate\":\"Disease=Esophageal Cancer\\u003cbr\\u003eAge=%{x}\\u003cbr\\u003ecount=%{y}\\u003cextra\\u003e\\u003c\\u002fextra\\u003e\",\"legendgroup\":\"Esophageal Cancer\",\"marker\":{\"color\":\"#19d3f3\",\"pattern\":{\"shape\":\"\"}},\"name\":\"Esophageal Cancer\",\"offsetgroup\":\"Esophageal Cancer\",\"orientation\":\"v\",\"showlegend\":true,\"x\":[55.0],\"xaxis\":\"x\",\"yaxis\":\"y\",\"type\":\"histogram\"},{\"alignmentgroup\":\"True\",\"bingroup\":\"x\",\"hovertemplate\":\"Disease=HIV\\u002fAIDS\\u003cbr\\u003eAge=%{x}\\u003cbr\\u003ecount=%{y}\\u003cextra\\u003e\\u003c\\u002fextra\\u003e\",\"legendgroup\":\"HIV\\u002fAIDS\",\"marker\":{\"color\":\"#FF6692\",\"pattern\":{\"shape\":\"\"}},\"name\":\"HIV\\u002fAIDS\",\"offsetgroup\":\"HIV\\u002fAIDS\",\"orientation\":\"v\",\"showlegend\":true,\"x\":[55.0],\"xaxis\":\"x\",\"yaxis\":\"y\",\"type\":\"histogram\"},{\"alignmentgroup\":\"True\",\"bingroup\":\"x\",\"hovertemplate\":\"Disease=Marfan Syndrome\\u003cbr\\u003eAge=%{x}\\u003cbr\\u003ecount=%{y}\\u003cextra\\u003e\\u003c\\u002fextra\\u003e\",\"legendgroup\":\"Marfan Syndrome\",\"marker\":{\"color\":\"#B6E880\",\"pattern\":{\"shape\":\"\"}},\"name\":\"Marfan Syndrome\",\"offsetgroup\":\"Marfan Syndrome\",\"orientation\":\"v\",\"showlegend\":true,\"x\":[55.0],\"xaxis\":\"x\",\"yaxis\":\"y\",\"type\":\"histogram\"},{\"alignmentgroup\":\"True\",\"bingroup\":\"x\",\"hovertemplate\":\"Disease=Parkinson's Disease\\u003cbr\\u003eAge=%{x}\\u003cbr\\u003ecount=%{y}\\u003cextra\\u003e\\u003c\\u002fextra\\u003e\",\"legendgroup\":\"Parkinson's Disease\",\"marker\":{\"color\":\"#FF97FF\",\"pattern\":{\"shape\":\"\"}},\"name\":\"Parkinson's Disease\",\"offsetgroup\":\"Parkinson's Disease\",\"orientation\":\"v\",\"showlegend\":true,\"x\":[55.0,60.0,70.0],\"xaxis\":\"x\",\"yaxis\":\"y\",\"type\":\"histogram\"},{\"alignmentgroup\":\"True\",\"bingroup\":\"x\",\"hovertemplate\":\"Disease=Hemorrhoids\\u003cbr\\u003eAge=%{x}\\u003cbr\\u003ecount=%{y}\\u003cextra\\u003e\\u003c\\u002fextra\\u003e\",\"legendgroup\":\"Hemorrhoids\",\"marker\":{\"color\":\"#FECB52\",\"pattern\":{\"shape\":\"\"}},\"name\":\"Hemorrhoids\",\"offsetgroup\":\"Hemorrhoids\",\"orientation\":\"v\",\"showlegend\":true,\"x\":[55.0],\"xaxis\":\"x\",\"yaxis\":\"y\",\"type\":\"histogram\"},{\"alignmentgroup\":\"True\",\"bingroup\":\"x\",\"hovertemplate\":\"Disease=Polycystic Ovary Syndrome (PCOS)\\u003cbr\\u003eAge=%{x}\\u003cbr\\u003ecount=%{y}\\u003cextra\\u003e\\u003c\\u002fextra\\u003e\",\"legendgroup\":\"Polycystic Ovary Syndrome (PCOS)\",\"marker\":{\"color\":\"#636efa\",\"pattern\":{\"shape\":\"\"}},\"name\":\"Polycystic Ovary Syndrome (PCOS)\",\"offsetgroup\":\"Polycystic Ovary Syndrome (PCOS)\",\"orientation\":\"v\",\"showlegend\":true,\"x\":[55.0],\"xaxis\":\"x\",\"yaxis\":\"y\",\"type\":\"histogram\"},{\"alignmentgroup\":\"True\",\"bingroup\":\"x\",\"hovertemplate\":\"Disease=Systemic Lupus Erythematosus...\\u003cbr\\u003eAge=%{x}\\u003cbr\\u003ecount=%{y}\\u003cextra\\u003e\\u003c\\u002fextra\\u003e\",\"legendgroup\":\"Systemic Lupus Erythematosus...\",\"marker\":{\"color\":\"#EF553B\",\"pattern\":{\"shape\":\"\"}},\"name\":\"Systemic Lupus Erythematosus...\",\"offsetgroup\":\"Systemic Lupus Erythematosus...\",\"orientation\":\"v\",\"showlegend\":true,\"x\":[55.0],\"xaxis\":\"x\",\"yaxis\":\"y\",\"type\":\"histogram\"},{\"alignmentgroup\":\"True\",\"bingroup\":\"x\",\"hovertemplate\":\"Disease=Typhoid Fever\\u003cbr\\u003eAge=%{x}\\u003cbr\\u003ecount=%{y}\\u003cextra\\u003e\\u003c\\u002fextra\\u003e\",\"legendgroup\":\"Typhoid Fever\",\"marker\":{\"color\":\"#00cc96\",\"pattern\":{\"shape\":\"\"}},\"name\":\"Typhoid Fever\",\"offsetgroup\":\"Typhoid Fever\",\"orientation\":\"v\",\"showlegend\":true,\"x\":[55.0],\"xaxis\":\"x\",\"yaxis\":\"y\",\"type\":\"histogram\"},{\"alignmentgroup\":\"True\",\"bingroup\":\"x\",\"hovertemplate\":\"Disease=Breast Cancer\\u003cbr\\u003eAge=%{x}\\u003cbr\\u003ecount=%{y}\\u003cextra\\u003e\\u003c\\u002fextra\\u003e\",\"legendgroup\":\"Breast Cancer\",\"marker\":{\"color\":\"#ab63fa\",\"pattern\":{\"shape\":\"\"}},\"name\":\"Breast Cancer\",\"offsetgroup\":\"Breast Cancer\",\"orientation\":\"v\",\"showlegend\":true,\"x\":[60.0],\"xaxis\":\"x\",\"yaxis\":\"y\",\"type\":\"histogram\"},{\"alignmentgroup\":\"True\",\"bingroup\":\"x\",\"hovertemplate\":\"Disease=Measles\\u003cbr\\u003eAge=%{x}\\u003cbr\\u003ecount=%{y}\\u003cextra\\u003e\\u003c\\u002fextra\\u003e\",\"legendgroup\":\"Measles\",\"marker\":{\"color\":\"#FFA15A\",\"pattern\":{\"shape\":\"\"}},\"name\":\"Measles\",\"offsetgroup\":\"Measles\",\"orientation\":\"v\",\"showlegend\":true,\"x\":[60.0],\"xaxis\":\"x\",\"yaxis\":\"y\",\"type\":\"histogram\"},{\"alignmentgroup\":\"True\",\"bingroup\":\"x\",\"hovertemplate\":\"Disease=Osteomyelitis\\u003cbr\\u003eAge=%{x}\\u003cbr\\u003ecount=%{y}\\u003cextra\\u003e\\u003c\\u002fextra\\u003e\",\"legendgroup\":\"Osteomyelitis\",\"marker\":{\"color\":\"#19d3f3\",\"pattern\":{\"shape\":\"\"}},\"name\":\"Osteomyelitis\",\"offsetgroup\":\"Osteomyelitis\",\"orientation\":\"v\",\"showlegend\":true,\"x\":[60.0],\"xaxis\":\"x\",\"yaxis\":\"y\",\"type\":\"histogram\"},{\"alignmentgroup\":\"True\",\"bingroup\":\"x\",\"hovertemplate\":\"Disease=Polio\\u003cbr\\u003eAge=%{x}\\u003cbr\\u003ecount=%{y}\\u003cextra\\u003e\\u003c\\u002fextra\\u003e\",\"legendgroup\":\"Polio\",\"marker\":{\"color\":\"#FF6692\",\"pattern\":{\"shape\":\"\"}},\"name\":\"Polio\",\"offsetgroup\":\"Polio\",\"orientation\":\"v\",\"showlegend\":true,\"x\":[60.0],\"xaxis\":\"x\",\"yaxis\":\"y\",\"type\":\"histogram\"},{\"alignmentgroup\":\"True\",\"bingroup\":\"x\",\"hovertemplate\":\"Disease=Chronic Kidney Disease\\u003cbr\\u003eAge=%{x}\\u003cbr\\u003ecount=%{y}\\u003cextra\\u003e\\u003c\\u002fextra\\u003e\",\"legendgroup\":\"Chronic Kidney Disease\",\"marker\":{\"color\":\"#B6E880\",\"pattern\":{\"shape\":\"\"}},\"name\":\"Chronic Kidney Disease\",\"offsetgroup\":\"Chronic Kidney Disease\",\"orientation\":\"v\",\"showlegend\":true,\"x\":[60.0],\"xaxis\":\"x\",\"yaxis\":\"y\",\"type\":\"histogram\"},{\"alignmentgroup\":\"True\",\"bingroup\":\"x\",\"hovertemplate\":\"Disease=Hepatitis B\\u003cbr\\u003eAge=%{x}\\u003cbr\\u003ecount=%{y}\\u003cextra\\u003e\\u003c\\u002fextra\\u003e\",\"legendgroup\":\"Hepatitis B\",\"marker\":{\"color\":\"#FF97FF\",\"pattern\":{\"shape\":\"\"}},\"name\":\"Hepatitis B\",\"offsetgroup\":\"Hepatitis B\",\"orientation\":\"v\",\"showlegend\":true,\"x\":[60.0],\"xaxis\":\"x\",\"yaxis\":\"y\",\"type\":\"histogram\"},{\"alignmentgroup\":\"True\",\"bingroup\":\"x\",\"hovertemplate\":\"Disease=Prader-Willi Syndrome\\u003cbr\\u003eAge=%{x}\\u003cbr\\u003ecount=%{y}\\u003cextra\\u003e\\u003c\\u002fextra\\u003e\",\"legendgroup\":\"Prader-Willi Syndrome\",\"marker\":{\"color\":\"#FECB52\",\"pattern\":{\"shape\":\"\"}},\"name\":\"Prader-Willi Syndrome\",\"offsetgroup\":\"Prader-Willi Syndrome\",\"orientation\":\"v\",\"showlegend\":true,\"x\":[60.0],\"xaxis\":\"x\",\"yaxis\":\"y\",\"type\":\"histogram\"},{\"alignmentgroup\":\"True\",\"bingroup\":\"x\",\"hovertemplate\":\"Disease=Thyroid Cancer\\u003cbr\\u003eAge=%{x}\\u003cbr\\u003ecount=%{y}\\u003cextra\\u003e\\u003c\\u002fextra\\u003e\",\"legendgroup\":\"Thyroid Cancer\",\"marker\":{\"color\":\"#636efa\",\"pattern\":{\"shape\":\"\"}},\"name\":\"Thyroid Cancer\",\"offsetgroup\":\"Thyroid Cancer\",\"orientation\":\"v\",\"showlegend\":true,\"x\":[60.0],\"xaxis\":\"x\",\"yaxis\":\"y\",\"type\":\"histogram\"},{\"alignmentgroup\":\"True\",\"bingroup\":\"x\",\"hovertemplate\":\"Disease=Bladder Cancer\\u003cbr\\u003eAge=%{x}\\u003cbr\\u003ecount=%{y}\\u003cextra\\u003e\\u003c\\u002fextra\\u003e\",\"legendgroup\":\"Bladder Cancer\",\"marker\":{\"color\":\"#EF553B\",\"pattern\":{\"shape\":\"\"}},\"name\":\"Bladder Cancer\",\"offsetgroup\":\"Bladder Cancer\",\"orientation\":\"v\",\"showlegend\":true,\"x\":[65.0],\"xaxis\":\"x\",\"yaxis\":\"y\",\"type\":\"histogram\"},{\"alignmentgroup\":\"True\",\"bingroup\":\"x\",\"hovertemplate\":\"Disease=Otitis Media (Ear Infection)\\u003cbr\\u003eAge=%{x}\\u003cbr\\u003ecount=%{y}\\u003cextra\\u003e\\u003c\\u002fextra\\u003e\",\"legendgroup\":\"Otitis Media (Ear Infection)\",\"marker\":{\"color\":\"#00cc96\",\"pattern\":{\"shape\":\"\"}},\"name\":\"Otitis Media (Ear Infection)\",\"offsetgroup\":\"Otitis Media (Ear Infection)\",\"orientation\":\"v\",\"showlegend\":true,\"x\":[65.0],\"xaxis\":\"x\",\"yaxis\":\"y\",\"type\":\"histogram\"},{\"alignmentgroup\":\"True\",\"bingroup\":\"x\",\"hovertemplate\":\"Disease=Tourette Syndrome\\u003cbr\\u003eAge=%{x}\\u003cbr\\u003ecount=%{y}\\u003cextra\\u003e\\u003c\\u002fextra\\u003e\",\"legendgroup\":\"Tourette Syndrome\",\"marker\":{\"color\":\"#ab63fa\",\"pattern\":{\"shape\":\"\"}},\"name\":\"Tourette Syndrome\",\"offsetgroup\":\"Tourette Syndrome\",\"orientation\":\"v\",\"showlegend\":true,\"x\":[65.0],\"xaxis\":\"x\",\"yaxis\":\"y\",\"type\":\"histogram\"},{\"alignmentgroup\":\"True\",\"bingroup\":\"x\",\"hovertemplate\":\"Disease=Alzheimer's Disease\\u003cbr\\u003eAge=%{x}\\u003cbr\\u003ecount=%{y}\\u003cextra\\u003e\\u003c\\u002fextra\\u003e\",\"legendgroup\":\"Alzheimer's Disease\",\"marker\":{\"color\":\"#FFA15A\",\"pattern\":{\"shape\":\"\"}},\"name\":\"Alzheimer's Disease\",\"offsetgroup\":\"Alzheimer's Disease\",\"orientation\":\"v\",\"showlegend\":true,\"x\":[65.0,65.0,70.0],\"xaxis\":\"x\",\"yaxis\":\"y\",\"type\":\"histogram\"},{\"alignmentgroup\":\"True\",\"bingroup\":\"x\",\"hovertemplate\":\"Disease=Chronic Obstructive Pulmonary Disease (COPD)\\u003cbr\\u003eAge=%{x}\\u003cbr\\u003ecount=%{y}\\u003cextra\\u003e\\u003c\\u002fextra\\u003e\",\"legendgroup\":\"Chronic Obstructive Pulmonary Disease (COPD)\",\"marker\":{\"color\":\"#19d3f3\",\"pattern\":{\"shape\":\"\"}},\"name\":\"Chronic Obstructive Pulmonary Disease (COPD)\",\"offsetgroup\":\"Chronic Obstructive Pulmonary Disease (COPD)\",\"orientation\":\"v\",\"showlegend\":true,\"x\":[65.0,70.0],\"xaxis\":\"x\",\"yaxis\":\"y\",\"type\":\"histogram\"},{\"alignmentgroup\":\"True\",\"bingroup\":\"x\",\"hovertemplate\":\"Disease=Dementia\\u003cbr\\u003eAge=%{x}\\u003cbr\\u003ecount=%{y}\\u003cextra\\u003e\\u003c\\u002fextra\\u003e\",\"legendgroup\":\"Dementia\",\"marker\":{\"color\":\"#FF6692\",\"pattern\":{\"shape\":\"\"}},\"name\":\"Dementia\",\"offsetgroup\":\"Dementia\",\"orientation\":\"v\",\"showlegend\":true,\"x\":[65.0],\"xaxis\":\"x\",\"yaxis\":\"y\",\"type\":\"histogram\"},{\"alignmentgroup\":\"True\",\"bingroup\":\"x\",\"hovertemplate\":\"Disease=Diverticulitis\\u003cbr\\u003eAge=%{x}\\u003cbr\\u003ecount=%{y}\\u003cextra\\u003e\\u003c\\u002fextra\\u003e\",\"legendgroup\":\"Diverticulitis\",\"marker\":{\"color\":\"#B6E880\",\"pattern\":{\"shape\":\"\"}},\"name\":\"Diverticulitis\",\"offsetgroup\":\"Diverticulitis\",\"orientation\":\"v\",\"showlegend\":true,\"x\":[65.0],\"xaxis\":\"x\",\"yaxis\":\"y\",\"type\":\"histogram\"},{\"alignmentgroup\":\"True\",\"bingroup\":\"x\",\"hovertemplate\":\"Disease=Mumps\\u003cbr\\u003eAge=%{x}\\u003cbr\\u003ecount=%{y}\\u003cextra\\u003e\\u003c\\u002fextra\\u003e\",\"legendgroup\":\"Mumps\",\"marker\":{\"color\":\"#FF97FF\",\"pattern\":{\"shape\":\"\"}},\"name\":\"Mumps\",\"offsetgroup\":\"Mumps\",\"orientation\":\"v\",\"showlegend\":true,\"x\":[65.0],\"xaxis\":\"x\",\"yaxis\":\"y\",\"type\":\"histogram\"},{\"alignmentgroup\":\"True\",\"bingroup\":\"x\",\"hovertemplate\":\"Disease=Cholecystitis\\u003cbr\\u003eAge=%{x}\\u003cbr\\u003ecount=%{y}\\u003cextra\\u003e\\u003c\\u002fextra\\u003e\",\"legendgroup\":\"Cholecystitis\",\"marker\":{\"color\":\"#FECB52\",\"pattern\":{\"shape\":\"\"}},\"name\":\"Cholecystitis\",\"offsetgroup\":\"Cholecystitis\",\"orientation\":\"v\",\"showlegend\":true,\"x\":[70.0],\"xaxis\":\"x\",\"yaxis\":\"y\",\"type\":\"histogram\"},{\"alignmentgroup\":\"True\",\"bingroup\":\"x\",\"hovertemplate\":\"Disease=Prostate Cancer\\u003cbr\\u003eAge=%{x}\\u003cbr\\u003ecount=%{y}\\u003cextra\\u003e\\u003c\\u002fextra\\u003e\",\"legendgroup\":\"Prostate Cancer\",\"marker\":{\"color\":\"#636efa\",\"pattern\":{\"shape\":\"\"}},\"name\":\"Prostate Cancer\",\"offsetgroup\":\"Prostate Cancer\",\"orientation\":\"v\",\"showlegend\":true,\"x\":[70.0],\"xaxis\":\"x\",\"yaxis\":\"y\",\"type\":\"histogram\"},{\"alignmentgroup\":\"True\",\"bingroup\":\"x\",\"hovertemplate\":\"Disease=Schizophrenia\\u003cbr\\u003eAge=%{x}\\u003cbr\\u003ecount=%{y}\\u003cextra\\u003e\\u003c\\u002fextra\\u003e\",\"legendgroup\":\"Schizophrenia\",\"marker\":{\"color\":\"#EF553B\",\"pattern\":{\"shape\":\"\"}},\"name\":\"Schizophrenia\",\"offsetgroup\":\"Schizophrenia\",\"orientation\":\"v\",\"showlegend\":true,\"x\":[70.0],\"xaxis\":\"x\",\"yaxis\":\"y\",\"type\":\"histogram\"},{\"alignmentgroup\":\"True\",\"bingroup\":\"x\",\"hovertemplate\":\"Disease=Gout\\u003cbr\\u003eAge=%{x}\\u003cbr\\u003ecount=%{y}\\u003cextra\\u003e\\u003c\\u002fextra\\u003e\",\"legendgroup\":\"Gout\",\"marker\":{\"color\":\"#00cc96\",\"pattern\":{\"shape\":\"\"}},\"name\":\"Gout\",\"offsetgroup\":\"Gout\",\"orientation\":\"v\",\"showlegend\":true,\"x\":[70.0],\"xaxis\":\"x\",\"yaxis\":\"y\",\"type\":\"histogram\"},{\"alignmentgroup\":\"True\",\"bingroup\":\"x\",\"hovertemplate\":\"Disease=Testicular Cancer\\u003cbr\\u003eAge=%{x}\\u003cbr\\u003ecount=%{y}\\u003cextra\\u003e\\u003c\\u002fextra\\u003e\",\"legendgroup\":\"Testicular Cancer\",\"marker\":{\"color\":\"#ab63fa\",\"pattern\":{\"shape\":\"\"}},\"name\":\"Testicular Cancer\",\"offsetgroup\":\"Testicular Cancer\",\"orientation\":\"v\",\"showlegend\":true,\"x\":[70.0],\"xaxis\":\"x\",\"yaxis\":\"y\",\"type\":\"histogram\"},{\"alignmentgroup\":\"True\",\"bingroup\":\"x\",\"hovertemplate\":\"Disease=Tonsillitis\\u003cbr\\u003eAge=%{x}\\u003cbr\\u003ecount=%{y}\\u003cextra\\u003e\\u003c\\u002fextra\\u003e\",\"legendgroup\":\"Tonsillitis\",\"marker\":{\"color\":\"#FFA15A\",\"pattern\":{\"shape\":\"\"}},\"name\":\"Tonsillitis\",\"offsetgroup\":\"Tonsillitis\",\"orientation\":\"v\",\"showlegend\":true,\"x\":[70.0],\"xaxis\":\"x\",\"yaxis\":\"y\",\"type\":\"histogram\"},{\"alignmentgroup\":\"True\",\"bingroup\":\"x\",\"hovertemplate\":\"Disease=Williams Syndrome\\u003cbr\\u003eAge=%{x}\\u003cbr\\u003ecount=%{y}\\u003cextra\\u003e\\u003c\\u002fextra\\u003e\",\"legendgroup\":\"Williams Syndrome\",\"marker\":{\"color\":\"#19d3f3\",\"pattern\":{\"shape\":\"\"}},\"name\":\"Williams Syndrome\",\"offsetgroup\":\"Williams Syndrome\",\"orientation\":\"v\",\"showlegend\":true,\"x\":[70.0],\"xaxis\":\"x\",\"yaxis\":\"y\",\"type\":\"histogram\"}],                        {\"template\":{\"data\":{\"histogram2dcontour\":[{\"type\":\"histogram2dcontour\",\"colorbar\":{\"outlinewidth\":0,\"ticks\":\"\"},\"colorscale\":[[0.0,\"#0d0887\"],[0.1111111111111111,\"#46039f\"],[0.2222222222222222,\"#7201a8\"],[0.3333333333333333,\"#9c179e\"],[0.4444444444444444,\"#bd3786\"],[0.5555555555555556,\"#d8576b\"],[0.6666666666666666,\"#ed7953\"],[0.7777777777777778,\"#fb9f3a\"],[0.8888888888888888,\"#fdca26\"],[1.0,\"#f0f921\"]]}],\"choropleth\":[{\"type\":\"choropleth\",\"colorbar\":{\"outlinewidth\":0,\"ticks\":\"\"}}],\"histogram2d\":[{\"type\":\"histogram2d\",\"colorbar\":{\"outlinewidth\":0,\"ticks\":\"\"},\"colorscale\":[[0.0,\"#0d0887\"],[0.1111111111111111,\"#46039f\"],[0.2222222222222222,\"#7201a8\"],[0.3333333333333333,\"#9c179e\"],[0.4444444444444444,\"#bd3786\"],[0.5555555555555556,\"#d8576b\"],[0.6666666666666666,\"#ed7953\"],[0.7777777777777778,\"#fb9f3a\"],[0.8888888888888888,\"#fdca26\"],[1.0,\"#f0f921\"]]}],\"heatmap\":[{\"type\":\"heatmap\",\"colorbar\":{\"outlinewidth\":0,\"ticks\":\"\"},\"colorscale\":[[0.0,\"#0d0887\"],[0.1111111111111111,\"#46039f\"],[0.2222222222222222,\"#7201a8\"],[0.3333333333333333,\"#9c179e\"],[0.4444444444444444,\"#bd3786\"],[0.5555555555555556,\"#d8576b\"],[0.6666666666666666,\"#ed7953\"],[0.7777777777777778,\"#fb9f3a\"],[0.8888888888888888,\"#fdca26\"],[1.0,\"#f0f921\"]]}],\"heatmapgl\":[{\"type\":\"heatmapgl\",\"colorbar\":{\"outlinewidth\":0,\"ticks\":\"\"},\"colorscale\":[[0.0,\"#0d0887\"],[0.1111111111111111,\"#46039f\"],[0.2222222222222222,\"#7201a8\"],[0.3333333333333333,\"#9c179e\"],[0.4444444444444444,\"#bd3786\"],[0.5555555555555556,\"#d8576b\"],[0.6666666666666666,\"#ed7953\"],[0.7777777777777778,\"#fb9f3a\"],[0.8888888888888888,\"#fdca26\"],[1.0,\"#f0f921\"]]}],\"contourcarpet\":[{\"type\":\"contourcarpet\",\"colorbar\":{\"outlinewidth\":0,\"ticks\":\"\"}}],\"contour\":[{\"type\":\"contour\",\"colorbar\":{\"outlinewidth\":0,\"ticks\":\"\"},\"colorscale\":[[0.0,\"#0d0887\"],[0.1111111111111111,\"#46039f\"],[0.2222222222222222,\"#7201a8\"],[0.3333333333333333,\"#9c179e\"],[0.4444444444444444,\"#bd3786\"],[0.5555555555555556,\"#d8576b\"],[0.6666666666666666,\"#ed7953\"],[0.7777777777777778,\"#fb9f3a\"],[0.8888888888888888,\"#fdca26\"],[1.0,\"#f0f921\"]]}],\"surface\":[{\"type\":\"surface\",\"colorbar\":{\"outlinewidth\":0,\"ticks\":\"\"},\"colorscale\":[[0.0,\"#0d0887\"],[0.1111111111111111,\"#46039f\"],[0.2222222222222222,\"#7201a8\"],[0.3333333333333333,\"#9c179e\"],[0.4444444444444444,\"#bd3786\"],[0.5555555555555556,\"#d8576b\"],[0.6666666666666666,\"#ed7953\"],[0.7777777777777778,\"#fb9f3a\"],[0.8888888888888888,\"#fdca26\"],[1.0,\"#f0f921\"]]}],\"mesh3d\":[{\"type\":\"mesh3d\",\"colorbar\":{\"outlinewidth\":0,\"ticks\":\"\"}}],\"scatter\":[{\"fillpattern\":{\"fillmode\":\"overlay\",\"size\":10,\"solidity\":0.2},\"type\":\"scatter\"}],\"parcoords\":[{\"type\":\"parcoords\",\"line\":{\"colorbar\":{\"outlinewidth\":0,\"ticks\":\"\"}}}],\"scatterpolargl\":[{\"type\":\"scatterpolargl\",\"marker\":{\"colorbar\":{\"outlinewidth\":0,\"ticks\":\"\"}}}],\"bar\":[{\"error_x\":{\"color\":\"#2a3f5f\"},\"error_y\":{\"color\":\"#2a3f5f\"},\"marker\":{\"line\":{\"color\":\"#E5ECF6\",\"width\":0.5},\"pattern\":{\"fillmode\":\"overlay\",\"size\":10,\"solidity\":0.2}},\"type\":\"bar\"}],\"scattergeo\":[{\"type\":\"scattergeo\",\"marker\":{\"colorbar\":{\"outlinewidth\":0,\"ticks\":\"\"}}}],\"scatterpolar\":[{\"type\":\"scatterpolar\",\"marker\":{\"colorbar\":{\"outlinewidth\":0,\"ticks\":\"\"}}}],\"histogram\":[{\"marker\":{\"pattern\":{\"fillmode\":\"overlay\",\"size\":10,\"solidity\":0.2}},\"type\":\"histogram\"}],\"scattergl\":[{\"type\":\"scattergl\",\"marker\":{\"colorbar\":{\"outlinewidth\":0,\"ticks\":\"\"}}}],\"scatter3d\":[{\"type\":\"scatter3d\",\"line\":{\"colorbar\":{\"outlinewidth\":0,\"ticks\":\"\"}},\"marker\":{\"colorbar\":{\"outlinewidth\":0,\"ticks\":\"\"}}}],\"scattermapbox\":[{\"type\":\"scattermapbox\",\"marker\":{\"colorbar\":{\"outlinewidth\":0,\"ticks\":\"\"}}}],\"scatterternary\":[{\"type\":\"scatterternary\",\"marker\":{\"colorbar\":{\"outlinewidth\":0,\"ticks\":\"\"}}}],\"scattercarpet\":[{\"type\":\"scattercarpet\",\"marker\":{\"colorbar\":{\"outlinewidth\":0,\"ticks\":\"\"}}}],\"carpet\":[{\"aaxis\":{\"endlinecolor\":\"#2a3f5f\",\"gridcolor\":\"white\",\"linecolor\":\"white\",\"minorgridcolor\":\"white\",\"startlinecolor\":\"#2a3f5f\"},\"baxis\":{\"endlinecolor\":\"#2a3f5f\",\"gridcolor\":\"white\",\"linecolor\":\"white\",\"minorgridcolor\":\"white\",\"startlinecolor\":\"#2a3f5f\"},\"type\":\"carpet\"}],\"table\":[{\"cells\":{\"fill\":{\"color\":\"#EBF0F8\"},\"line\":{\"color\":\"white\"}},\"header\":{\"fill\":{\"color\":\"#C8D4E3\"},\"line\":{\"color\":\"white\"}},\"type\":\"table\"}],\"barpolar\":[{\"marker\":{\"line\":{\"color\":\"#E5ECF6\",\"width\":0.5},\"pattern\":{\"fillmode\":\"overlay\",\"size\":10,\"solidity\":0.2}},\"type\":\"barpolar\"}],\"pie\":[{\"automargin\":true,\"type\":\"pie\"}]},\"layout\":{\"autotypenumbers\":\"strict\",\"colorway\":[\"#636efa\",\"#EF553B\",\"#00cc96\",\"#ab63fa\",\"#FFA15A\",\"#19d3f3\",\"#FF6692\",\"#B6E880\",\"#FF97FF\",\"#FECB52\"],\"font\":{\"color\":\"#2a3f5f\"},\"hovermode\":\"closest\",\"hoverlabel\":{\"align\":\"left\"},\"paper_bgcolor\":\"white\",\"plot_bgcolor\":\"#E5ECF6\",\"polar\":{\"bgcolor\":\"#E5ECF6\",\"angularaxis\":{\"gridcolor\":\"white\",\"linecolor\":\"white\",\"ticks\":\"\"},\"radialaxis\":{\"gridcolor\":\"white\",\"linecolor\":\"white\",\"ticks\":\"\"}},\"ternary\":{\"bgcolor\":\"#E5ECF6\",\"aaxis\":{\"gridcolor\":\"white\",\"linecolor\":\"white\",\"ticks\":\"\"},\"baxis\":{\"gridcolor\":\"white\",\"linecolor\":\"white\",\"ticks\":\"\"},\"caxis\":{\"gridcolor\":\"white\",\"linecolor\":\"white\",\"ticks\":\"\"}},\"coloraxis\":{\"colorbar\":{\"outlinewidth\":0,\"ticks\":\"\"}},\"colorscale\":{\"sequential\":[[0.0,\"#0d0887\"],[0.1111111111111111,\"#46039f\"],[0.2222222222222222,\"#7201a8\"],[0.3333333333333333,\"#9c179e\"],[0.4444444444444444,\"#bd3786\"],[0.5555555555555556,\"#d8576b\"],[0.6666666666666666,\"#ed7953\"],[0.7777777777777778,\"#fb9f3a\"],[0.8888888888888888,\"#fdca26\"],[1.0,\"#f0f921\"]],\"sequentialminus\":[[0.0,\"#0d0887\"],[0.1111111111111111,\"#46039f\"],[0.2222222222222222,\"#7201a8\"],[0.3333333333333333,\"#9c179e\"],[0.4444444444444444,\"#bd3786\"],[0.5555555555555556,\"#d8576b\"],[0.6666666666666666,\"#ed7953\"],[0.7777777777777778,\"#fb9f3a\"],[0.8888888888888888,\"#fdca26\"],[1.0,\"#f0f921\"]],\"diverging\":[[0,\"#8e0152\"],[0.1,\"#c51b7d\"],[0.2,\"#de77ae\"],[0.3,\"#f1b6da\"],[0.4,\"#fde0ef\"],[0.5,\"#f7f7f7\"],[0.6,\"#e6f5d0\"],[0.7,\"#b8e186\"],[0.8,\"#7fbc41\"],[0.9,\"#4d9221\"],[1,\"#276419\"]]},\"xaxis\":{\"gridcolor\":\"white\",\"linecolor\":\"white\",\"ticks\":\"\",\"title\":{\"standoff\":15},\"zerolinecolor\":\"white\",\"automargin\":true,\"zerolinewidth\":2},\"yaxis\":{\"gridcolor\":\"white\",\"linecolor\":\"white\",\"ticks\":\"\",\"title\":{\"standoff\":15},\"zerolinecolor\":\"white\",\"automargin\":true,\"zerolinewidth\":2},\"scene\":{\"xaxis\":{\"backgroundcolor\":\"#E5ECF6\",\"gridcolor\":\"white\",\"linecolor\":\"white\",\"showbackground\":true,\"ticks\":\"\",\"zerolinecolor\":\"white\",\"gridwidth\":2},\"yaxis\":{\"backgroundcolor\":\"#E5ECF6\",\"gridcolor\":\"white\",\"linecolor\":\"white\",\"showbackground\":true,\"ticks\":\"\",\"zerolinecolor\":\"white\",\"gridwidth\":2},\"zaxis\":{\"backgroundcolor\":\"#E5ECF6\",\"gridcolor\":\"white\",\"linecolor\":\"white\",\"showbackground\":true,\"ticks\":\"\",\"zerolinecolor\":\"white\",\"gridwidth\":2}},\"shapedefaults\":{\"line\":{\"color\":\"#2a3f5f\"}},\"annotationdefaults\":{\"arrowcolor\":\"#2a3f5f\",\"arrowhead\":0,\"arrowwidth\":1},\"geo\":{\"bgcolor\":\"white\",\"landcolor\":\"#E5ECF6\",\"subunitcolor\":\"white\",\"showland\":true,\"showlakes\":true,\"lakecolor\":\"white\"},\"title\":{\"x\":0.05},\"mapbox\":{\"style\":\"light\"}}},\"xaxis\":{\"anchor\":\"y\",\"domain\":[0.0,1.0],\"title\":{\"text\":\"Age\"}},\"yaxis\":{\"anchor\":\"x\",\"domain\":[0.0,1.0],\"title\":{\"text\":\"count\"}},\"legend\":{\"title\":{\"text\":\"Disease\"},\"tracegroupgap\":0},\"title\":{\"text\":\"Age-Disease Distribution\"},\"barmode\":\"relative\"},                        {\"responsive\": true}                    ).then(function(){\n",
       "                            \n",
       "var gd = document.getElementById('62d77660-8ed5-42e3-bad1-8b753a0d71af');\n",
       "var x = new MutationObserver(function (mutations, observer) {{\n",
       "        var display = window.getComputedStyle(gd).display;\n",
       "        if (!display || display === 'none') {{\n",
       "            console.log([gd, 'removed!']);\n",
       "            Plotly.purge(gd);\n",
       "            observer.disconnect();\n",
       "        }}\n",
       "}});\n",
       "\n",
       "// Listen for the removal of the full notebook cells\n",
       "var notebookContainer = gd.closest('#notebook-container');\n",
       "if (notebookContainer) {{\n",
       "    x.observe(notebookContainer, {childList: true});\n",
       "}}\n",
       "\n",
       "// Listen for the clearing of the current output cell\n",
       "var outputEl = gd.closest('.output');\n",
       "if (outputEl) {{\n",
       "    x.observe(outputEl, {childList: true});\n",
       "}}\n",
       "\n",
       "                        })                };                });            </script>        </div>"
      ]
     },
     "metadata": {},
     "output_type": "display_data"
    }
   ],
   "source": [
    "fig = px.histogram(df, x='Age', title='Age-Disease Distribution', color='Disease')\n",
    "fig.show()"
   ]
  },
  {
   "cell_type": "markdown",
   "id": "8b7e39cb-c6c5-4bb4-8c5c-f93a48a741c4",
   "metadata": {},
   "source": [
    "# Data Transformation"
   ]
  },
  {
   "cell_type": "code",
   "execution_count": 120,
   "id": "2e9c39f7-f0ae-4a23-baab-ad2968eec1f6",
   "metadata": {},
   "outputs": [],
   "source": [
    "encoder1 = OneHotEncoder(sparse_output=False, drop='first')\n",
    "encoder2 = LabelEncoder()\n",
    "df['Disease'] = encoder2.fit_transform(df['Disease'])\n",
    "for col in ['Fever', 'Cough', 'Fatigue', 'Difficulty Breathing', 'Gender', 'Blood Pressure', 'Cholesterol Level', 'Results']:\n",
    "    df[col] = encoder1.fit_transform(df[[col]])\n",
    "\n",
    "X = df.drop('Results', axis=1)\n",
    "Y = df['Results']\n",
    "mmc = MinMaxScaler()\n",
    "X = mmc.fit_transform(X)"
   ]
  },
  {
   "cell_type": "markdown",
   "id": "372e1806-d1d3-439f-8c95-d2ad1bbb6203",
   "metadata": {},
   "source": [
    "# Model Building"
   ]
  },
  {
   "cell_type": "code",
   "execution_count": 121,
   "id": "faea5bec-baa3-4ffd-88f5-78da548b2461",
   "metadata": {},
   "outputs": [],
   "source": [
    "# Building Models\n",
    "X_train, X_test, y_train, y_test = train_test_split(X, Y, test_size=0.2, random_state=25)"
   ]
  },
  {
   "cell_type": "code",
   "execution_count": 122,
   "id": "878c2be2-04da-4838-83a2-0a75b2ff8554",
   "metadata": {},
   "outputs": [
    {
     "name": "stdout",
     "output_type": "stream",
     "text": [
      "Epoch 1/10\n",
      "8/8 [==============================] - 1s 70ms/step - loss: 0.6828 - accuracy: 0.5792 - val_loss: 0.6593 - val_accuracy: 0.7167\n",
      "Epoch 2/10\n",
      "8/8 [==============================] - 0s 13ms/step - loss: 0.6678 - accuracy: 0.6667 - val_loss: 0.6457 - val_accuracy: 0.7500\n",
      "Epoch 3/10\n",
      "8/8 [==============================] - 0s 27ms/step - loss: 0.6553 - accuracy: 0.6917 - val_loss: 0.6308 - val_accuracy: 0.7500\n",
      "Epoch 4/10\n",
      "8/8 [==============================] - 0s 40ms/step - loss: 0.6427 - accuracy: 0.6667 - val_loss: 0.6155 - val_accuracy: 0.7667\n",
      "Epoch 5/10\n",
      "8/8 [==============================] - 0s 49ms/step - loss: 0.6317 - accuracy: 0.7000 - val_loss: 0.5982 - val_accuracy: 0.7500\n",
      "Epoch 6/10\n",
      "8/8 [==============================] - 0s 51ms/step - loss: 0.6223 - accuracy: 0.6875 - val_loss: 0.5839 - val_accuracy: 0.7667\n",
      "Epoch 7/10\n",
      "8/8 [==============================] - 0s 24ms/step - loss: 0.6117 - accuracy: 0.6792 - val_loss: 0.5717 - val_accuracy: 0.7667\n",
      "Epoch 8/10\n",
      "8/8 [==============================] - 0s 15ms/step - loss: 0.6038 - accuracy: 0.7000 - val_loss: 0.5659 - val_accuracy: 0.7333\n",
      "Epoch 9/10\n",
      "8/8 [==============================] - 0s 14ms/step - loss: 0.5948 - accuracy: 0.7042 - val_loss: 0.5558 - val_accuracy: 0.7667\n",
      "Epoch 10/10\n",
      "8/8 [==============================] - 0s 13ms/step - loss: 0.5868 - accuracy: 0.7125 - val_loss: 0.5472 - val_accuracy: 0.7667\n"
     ]
    },
    {
     "data": {
      "text/plain": [
       "<keras.callbacks.History at 0x15907eab820>"
      ]
     },
     "execution_count": 122,
     "metadata": {},
     "output_type": "execute_result"
    }
   ],
   "source": [
    "# Logistic Regression\n",
    "lrc = LogisticRegression(solver='liblinear', penalty='l1')\n",
    "lrc.fit(X_train, y_train)\n",
    "y_pred_lrc = lrc.predict(X_test)\n",
    "\n",
    "# Decision Tree\n",
    "dtc = DecisionTreeClassifier(max_depth=6)\n",
    "dtc.fit(X_train, y_train)\n",
    "y_pred_dtc = dtc.predict(X_test)\n",
    "\n",
    "# K-Nearest Neighbors\n",
    "knc = KNeighborsClassifier()\n",
    "knc.fit(X_train, y_train)\n",
    "y_pred_knc = knc.predict(X_test)\n",
    "\n",
    "# Neural Network Model\n",
    "model = Sequential()\n",
    "model.add(Dense(64, input_dim=X_train.shape[1], activation='relu'))\n",
    "model.add(Dense(32, activation='relu'))\n",
    "model.add(Dense(1, activation='sigmoid'))\n",
    "model.compile(loss='binary_crossentropy', optimizer='adam', metrics=['accuracy'])\n",
    "model.fit(X_train, y_train, epochs=10, batch_size=32, validation_data=(X_test, y_test))"
   ]
  },
  {
   "cell_type": "markdown",
   "id": "3951f55c-0dcb-4d07-9064-56cc7ed3858c",
   "metadata": {},
   "source": [
    "# Model Evaluation"
   ]
  },
  {
   "cell_type": "code",
   "execution_count": 123,
   "id": "a44689d4-b38c-42ff-9448-4d802100d9e5",
   "metadata": {},
   "outputs": [],
   "source": [
    "def evaluate_model(y_true, y_pred, model_name):\n",
    "    accuracy = accuracy_score(y_true, y_pred)\n",
    "    precision = precision_score(y_true, y_pred)\n",
    "    recall = recall_score(y_true, y_pred)\n",
    "    f1 = f1_score(y_true, y_pred)\n",
    "    print(f\"---{model_name} Evaluation---\")\n",
    "    print(f\"Accuracy: {accuracy:.2f}\")\n",
    "    print(f\"Precision: {precision:.2f}\")\n",
    "    print(f\"Recall: {recall:.2f}\")\n",
    "    print(f\"F1 Score: {f1:.2f}\")\n",
    "    print(confusion_matrix(y_true, y_pred))\n",
    "    print(classification_report(y_true, y_pred))"
   ]
  },
  {
   "cell_type": "code",
   "execution_count": 124,
   "id": "199419c0-1cef-48ed-b423-0e3e068571ad",
   "metadata": {},
   "outputs": [
    {
     "name": "stdout",
     "output_type": "stream",
     "text": [
      "---Logistic Regression Evaluation---\n",
      "Accuracy: 0.77\n",
      "Precision: 0.82\n",
      "Recall: 0.77\n",
      "F1 Score: 0.79\n",
      "[[19  6]\n",
      " [ 8 27]]\n",
      "              precision    recall  f1-score   support\n",
      "\n",
      "         0.0       0.70      0.76      0.73        25\n",
      "         1.0       0.82      0.77      0.79        35\n",
      "\n",
      "    accuracy                           0.77        60\n",
      "   macro avg       0.76      0.77      0.76        60\n",
      "weighted avg       0.77      0.77      0.77        60\n",
      "\n",
      "---Decision Tree Evaluation---\n",
      "Accuracy: 0.67\n",
      "Precision: 0.73\n",
      "Recall: 0.69\n",
      "F1 Score: 0.71\n",
      "[[16  9]\n",
      " [11 24]]\n",
      "              precision    recall  f1-score   support\n",
      "\n",
      "         0.0       0.59      0.64      0.62        25\n",
      "         1.0       0.73      0.69      0.71        35\n",
      "\n",
      "    accuracy                           0.67        60\n",
      "   macro avg       0.66      0.66      0.66        60\n",
      "weighted avg       0.67      0.67      0.67        60\n",
      "\n",
      "---K-Nearest Neighbors Evaluation---\n",
      "Accuracy: 0.70\n",
      "Precision: 0.74\n",
      "Recall: 0.74\n",
      "F1 Score: 0.74\n",
      "[[16  9]\n",
      " [ 9 26]]\n",
      "              precision    recall  f1-score   support\n",
      "\n",
      "         0.0       0.64      0.64      0.64        25\n",
      "         1.0       0.74      0.74      0.74        35\n",
      "\n",
      "    accuracy                           0.70        60\n",
      "   macro avg       0.69      0.69      0.69        60\n",
      "weighted avg       0.70      0.70      0.70        60\n",
      "\n",
      "WARNING:tensorflow:6 out of the last 11 calls to <function Model.make_predict_function.<locals>.predict_function at 0x0000015907EF49D0> triggered tf.function retracing. Tracing is expensive and the excessive number of tracings could be due to (1) creating @tf.function repeatedly in a loop, (2) passing tensors with different shapes, (3) passing Python objects instead of tensors. For (1), please define your @tf.function outside of the loop. For (2), @tf.function has reduce_retracing=True option that can avoid unnecessary retracing. For (3), please refer to https://www.tensorflow.org/guide/function#controlling_retracing and https://www.tensorflow.org/api_docs/python/tf/function for  more details.\n",
      "2/2 [==============================] - 0s 4ms/step\n",
      "---Neural Network Evaluation---\n",
      "Accuracy: 0.77\n",
      "Precision: 0.82\n",
      "Recall: 0.77\n",
      "F1 Score: 0.79\n",
      "[[19  6]\n",
      " [ 8 27]]\n",
      "              precision    recall  f1-score   support\n",
      "\n",
      "         0.0       0.70      0.76      0.73        25\n",
      "         1.0       0.82      0.77      0.79        35\n",
      "\n",
      "    accuracy                           0.77        60\n",
      "   macro avg       0.76      0.77      0.76        60\n",
      "weighted avg       0.77      0.77      0.77        60\n",
      "\n"
     ]
    }
   ],
   "source": [
    "# Evaluate Models\n",
    "evaluate_model(y_test, y_pred_lrc, \"Logistic Regression\")\n",
    "evaluate_model(y_test, y_pred_dtc, \"Decision Tree\")\n",
    "evaluate_model(y_test, y_pred_knc, \"K-Nearest Neighbors\")\n",
    "\n",
    "# Neural Network Evaluation\n",
    "y_pred_nn = model.predict(X_test)\n",
    "y_pred_nn = (y_pred_nn > 0.5).astype(int)\n",
    "evaluate_model(y_test, y_pred_nn, \"Neural Network\")"
   ]
  },
  {
   "cell_type": "markdown",
   "id": "e7b9c9c8-99bd-443a-bb13-709da70a701e",
   "metadata": {},
   "source": [
    "# Hyperparameter Tuning"
   ]
  },
  {
   "cell_type": "code",
   "execution_count": 125,
   "id": "a88cff13-3c18-49bb-ab65-e6fd77deb53e",
   "metadata": {},
   "outputs": [
    {
     "name": "stdout",
     "output_type": "stream",
     "text": [
      "Best KNN Parameters: {'metric': 'euclidean', 'n_neighbors': 7}\n",
      "Best Decision Tree Parameters: {'max_depth': 10, 'min_samples_split': 2}\n"
     ]
    }
   ],
   "source": [
    "param_grid_knn = {'n_neighbors': [3, 5, 7, 9], 'metric': ['euclidean', 'manhattan']}\n",
    "grid_knn = GridSearchCV(KNeighborsClassifier(), param_grid_knn, cv=5)\n",
    "grid_knn.fit(X_train, y_train)\n",
    "\n",
    "param_grid_dtc = {'max_depth': [None, 10, 20, 30], 'min_samples_split': [2, 5, 10]}\n",
    "grid_dtc = GridSearchCV(DecisionTreeClassifier(), param_grid_dtc, cv=5)\n",
    "grid_dtc.fit(X_train, y_train)\n",
    "\n",
    "print(f\"Best KNN Parameters: {grid_knn.best_params_}\")\n",
    "print(f\"Best Decision Tree Parameters: {grid_dtc.best_params_}\")"
   ]
  },
  {
   "cell_type": "markdown",
   "id": "f1dabe90-97eb-41aa-86f7-ac3168b5c52a",
   "metadata": {},
   "source": [
    "# Feature Importance for Decision Tree"
   ]
  },
  {
   "cell_type": "code",
   "execution_count": 126,
   "id": "f413d0f2-adfe-4075-bd1d-d490e44349bf",
   "metadata": {},
   "outputs": [
    {
     "data": {
      "image/png": "[encoded data removed]",
      "text/plain": [
       "<Figure size 1000x600 with 1 Axes>"
      ]
     },
     "metadata": {},
     "output_type": "display_data"
    }
   ],
   "source": [
    "feature_importances = dtc.feature_importances_\n",
    "features = df.drop('Results', axis=1).columns\n",
    "importance_df = pd.DataFrame({'Feature': features, 'Importance': feature_importances}).sort_values(by='Importance', ascending=False)\n",
    "\n",
    "plt.figure(figsize=(10, 6))\n",
    "plt.barh(importance_df['Feature'], importance_df['Importance'])\n",
    "plt.title('Feature Importance')\n",
    "plt.xlabel('Importance')\n",
    "plt.ylabel('Feature')\n",
    "plt.show()"
   ]
  },
  {
   "cell_type": "markdown",
   "id": "669a73bc-6380-4b22-8276-5baa740e82d7",
   "metadata": {},
   "source": [
    "# ROC Curve Visualization"
   ]
  },
  {
   "cell_type": "code",
   "execution_count": 127,
   "id": "b20464fc-295d-48a8-b7d7-0d4940db9b9c",
   "metadata": {},
   "outputs": [
    {
     "data": {
      "image/png": "[encoded data removed]",
      "text/plain": [
       "<Figure size 1000x800 with 1 Axes>"
      ]
     },
     "metadata": {},
     "output_type": "display_data"
    }
   ],
   "source": [
    "def plot_roc_curve(model, X_test, y_test, model_name):\n",
    "    if model_name == \"Neural Network\":\n",
    "        y_pred_prob = model.predict(X_test)\n",
    "        y_pred_prob = (y_pred_prob > 0.5).astype(int)[:, 0]\n",
    "    else:\n",
    "        y_pred_prob = model.predict_proba(X_test)[:, 1]\n",
    "    \n",
    "    fpr, tpr, thresholds = roc_curve(y_test, y_pred_prob)\n",
    "    roc_auc = roc_auc_score(y_test, y_pred_prob)\n",
    "    \n",
    "    plt.plot(fpr, tpr, label=f'{model_name} (AUC = {roc_auc:.2f})')\n",
    "\n",
    "plt.figure(figsize=(10, 8))\n",
    "plot_roc_curve(lrc, X_test, y_test, \"Logistic Regression\")\n",
    "plot_roc_curve(grid_dtc.best_estimator_, X_test, y_test, \"Decision Tree\")\n",
    "plot_roc_curve(grid_knn.best_estimator_, X_test, y_test, \"K-Nearest Neighbors\")\n",
    "plt.plot([0, 1], [0, 1], 'k--')  # Diagonal line\n",
    "plt.xlabel('False Positive Rate')\n",
    "plt.ylabel('True Positive Rate')\n",
    "plt.title('Receiver Operating Characteristic (ROC) Curve')\n",
    "plt.legend(loc='best')\n",
    "plt.show()"
   ]
  },
  {
   "cell_type": "code",
   "execution_count": 128,
   "id": "12a53c0e-02f6-4bab-b4c3-b412cfcb0b7b",
   "metadata": {},
   "outputs": [
    {
     "data": {
      "text/plain": [
       "['min_max_scaler.joblib']"
      ]
     },
     "execution_count": 128,
     "metadata": {},
     "output_type": "execute_result"
    }
   ],
   "source": [
    "# Save Model\n",
    "joblib.dump(lrc, 'disease_prediction_model.joblib')\n",
    "joblib.dump(mmc, 'min_max_scaler.joblib')"
   ]
  },
  {
   "cell_type": "markdown",
   "id": "78bfedd5-3d2e-419d-8ad5-fd4a912cdcfb",
   "metadata": {},
   "source": [
    "# Prediction"
   ]
  },
  {
   "cell_type": "code",
   "execution_count": 129,
   "id": "179b1a2b-8b10-4858-817a-b6c4f0e6a7cb",
   "metadata": {},
   "outputs": [],
   "source": [
    "def load_model_and_predict(new_data):\n",
    "    loaded_model = joblib.load('disease_prediction_model.joblib')\n",
    "    loaded_mmc = joblib.load('min_max_scaler.joblib')\n",
    "    \n",
    "    # Reindex to match training features, filling missing with NaN\n",
    "    expected_columns = df.drop('Results', axis=1).columns.tolist()\n",
    "    new_data = new_data.reindex(columns=expected_columns, fill_value=0)  # Replace NaN with 0\n",
    "\n",
    "    # Check for NaN values\n",
    "    if new_data.isnull().any().any():\n",
    "        raise ValueError(\"Input data contains NaN values after reindexing.\")\n",
    "\n",
    "    new_data_scaled = loaded_mmc.transform(new_data)  # Scale the data\n",
    "    \n",
    "    # Predict using the NumPy array\n",
    "    prediction = loaded_model.predict(new_data_scaled)\n",
    "    return prediction"
   ]
  },
  {
   "cell_type": "markdown",
   "id": "c77df150-fb13-40bf-b5fa-1ed867e44de1",
   "metadata": {},
   "source": [
    "### Pred on One Patient"
   ]
  },
  {
   "cell_type": "code",
   "execution_count": 130,
   "id": "4af818db-1db2-46b2-9bb8-e51c0768a5bc",
   "metadata": {},
   "outputs": [
    {
     "name": "stdout",
     "output_type": "stream",
     "text": [
      "Predicted Disease Outcome: 0.0\n"
     ]
    }
   ],
   "source": [
    "new_data = pd.DataFrame({\n",
    "    'Age': [30],\n",
    "    'Fever': [1],\n",
    "    'Cough': [0],\n",
    "    'Fatigue': [1],\n",
    "    'Difficulty Breathing': [0],\n",
    "    'Gender': [1],\n",
    "    'Blood Pressure': [1],\n",
    "    'Cholesterol Level': [0]\n",
    "})\n",
    "\n",
    "try:\n",
    "    prediction = load_model_and_predict(new_data)\n",
    "    print(f'Predicted Disease Outcome: {prediction[0]}')\n",
    "except ValueError as e:\n",
    "    print(\"Error during prediction:\", e)"
   ]
  },
  {
   "cell_type": "markdown",
   "id": "3ea421b1-3976-4bf4-9e39-53246c2a5814",
   "metadata": {},
   "source": [
    "### Pred On Multiple Patients"
   ]
  },
  {
   "cell_type": "code",
   "execution_count": 131,
   "id": "f288d361-6c5b-46b7-814b-7bcce5d9fa25",
   "metadata": {},
   "outputs": [
    {
     "name": "stdout",
     "output_type": "stream",
     "text": [
      "Predicted Disease Outcomes: [0. 0. 0. 1. 0. 0. 0. 0. 0. 0.]\n"
     ]
    }
   ],
   "source": [
    "import pandas as pd\n",
    "\n",
    "# Combined Dataset: Severe Symptoms and No Symptoms\n",
    "new_data = pd.DataFrame({\n",
    "    'Age': [55, 65, 48, 72, 60, 18, 29, 35, 42, 55],\n",
    "    'Fever': [1, 1, 1, 1, 1, 0, 0, 0, 0, 0],\n",
    "    'Cough': [1, 1, 0, 1, 1, 0, 0, 0, 0, 0],\n",
    "    'Fatigue': [1, 1, 1, 1, 0, 0, 0, 0, 0, 0],\n",
    "    'Difficulty Breathing': [1, 1, 1, 1, 0, 0, 0, 0, 0, 0],\n",
    "    'Gender': [1, 0, 1, 0, 1, 1, 0, 1, 0, 1],\n",
    "    'Blood Pressure': [1, 1, 0, 1, 0, 0, 1, 1, 0, 1],\n",
    "    'Cholesterol Level': [1, 1, 1, 0, 0, 0, 1, 0, 1, 1]\n",
    "})\n",
    "\n",
    "# Example Prediction\n",
    "try:\n",
    "    prediction = load_model_and_predict(new_data)\n",
    "    print(f'Predicted Disease Outcomes: {prediction}')\n",
    "except ValueError as e:\n",
    "    print(\"Error during prediction:\", e)"
   ]
  },
  {
   "cell_type": "markdown",
   "id": "9a3329c9-851c-47c6-84b3-f004aaf854fc",
   "metadata": {},
   "source": [
    "# Model Created"
   ]
  }
 ],
 "metadata": {
  "kernelspec": {
   "display_name": "Python 3 (ipykernel)",
   "language": "python",
   "name": "python3"
  },
  "language_info": {
   "codemirror_mode": {
    "name": "ipython",
    "version": 3
   },
   "file_extension": ".py",
   "mimetype": "text/x-python",
   "name": "python",
   "nbconvert_exporter": "python",
   "pygments_lexer": "ipython3",
   "version": "3.10.13"
  }
 },
 "nbformat": 4,
 "nbformat_minor": 5
}
